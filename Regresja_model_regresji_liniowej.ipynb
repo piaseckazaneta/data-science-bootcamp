{
  "nbformat": 4,
  "nbformat_minor": 0,
  "metadata": {
    "colab": {
      "provenance": [],
      "authorship_tag": "ABX9TyPSu4UXGZE7riNhi6jMHvur",
      "include_colab_link": true
    },
    "kernelspec": {
      "name": "python3",
      "display_name": "Python 3"
    },
    "language_info": {
      "name": "python"
    }
  },
  "cells": [
    {
      "cell_type": "markdown",
      "metadata": {
        "id": "view-in-github",
        "colab_type": "text"
      },
      "source": [
        "<a href=\"https://colab.research.google.com/github/piaseckazaneta/data-science-bootcamp/blob/main/Regresja_model_regresji_liniowej.ipynb\" target=\"_parent\"><img src=\"https://colab.research.google.com/assets/colab-badge.svg\" alt=\"Open In Colab\"/></a>"
      ]
    },
    {
      "cell_type": "code",
      "execution_count": 1,
      "metadata": {
        "colab": {
          "base_uri": "https://localhost:8080/",
          "height": 35
        },
        "id": "lklDpHUQTr6P",
        "outputId": "78ac3ab5-ddd5-4780-952c-4b40a1176551"
      },
      "outputs": [
        {
          "output_type": "execute_result",
          "data": {
            "text/plain": [
              "'1.5.2'"
            ],
            "application/vnd.google.colaboratory.intrinsic+json": {
              "type": "string"
            }
          },
          "metadata": {},
          "execution_count": 1
        }
      ],
      "source": [
        "import sklearn\n",
        "sklearn.__version__"
      ]
    },
    {
      "cell_type": "markdown",
      "source": [
        "Regresja liniowa - wprowadzenie"
      ],
      "metadata": {
        "id": "7zPTiNFcUC04"
      }
    },
    {
      "cell_type": "markdown",
      "source": [
        "Podstawowe założenia regresji liniowej:\n",
        "- mamy zależność liniową,\n",
        "- wariancja reszt jest taka sama dla wszystkich obserwacji,\n",
        "- brak współliniowości (żaden z predyktorów nie stanowi kombinacji liniowej innych predyktorów)"
      ],
      "metadata": {
        "id": "3XrW62toWm6u"
      }
    },
    {
      "cell_type": "markdown",
      "source": [
        "Wygenerowanie danych\n",
        "\n",
        "Przykład w R2:\n",
        "Y = w0 + w1X1"
      ],
      "metadata": {
        "id": "R7DY-Xa9W9Cn"
      }
    },
    {
      "cell_type": "code",
      "source": [
        "import numpy as np"
      ],
      "metadata": {
        "id": "Sz9Q8DfaXGG0"
      },
      "execution_count": 2,
      "outputs": []
    },
    {
      "cell_type": "code",
      "source": [
        "# Generujemy przykładowe dane\n",
        "# Dane z rozkłdu normalnego + dodany szum\n",
        "\n",
        "X = np.arange(0, 50, 0.5)\n",
        "noise = 10 * np.random.randn(100)\n",
        "y = 2 * X + 100 + noise\n",
        "X = X.reshape(-1, 1)\n",
        "\n",
        "print('Rozmiar X:', X.shape)\n",
        "print('Rozmiar y:', y.shape)"
      ],
      "metadata": {
        "colab": {
          "base_uri": "https://localhost:8080/"
        },
        "id": "4Vfu8oE3W6sq",
        "outputId": "05d38078-0e02-4b70-9b67-537b32d23594"
      },
      "execution_count": 5,
      "outputs": [
        {
          "output_type": "stream",
          "name": "stdout",
          "text": [
            "Rozmiar X: (100, 1)\n",
            "Rozmiar y: (100,)\n"
          ]
        }
      ]
    },
    {
      "cell_type": "markdown",
      "source": [
        "Podział danych na zbiór treningowy i testowy"
      ],
      "metadata": {
        "id": "hnK6OAlWYqA3"
      }
    },
    {
      "cell_type": "code",
      "source": [
        "from sklearn.model_selection import train_test_split\n",
        "\n",
        "X_train, X_test, y_train, y_test = train_test_split(X, y, test_size=0.25) # podział danych na treningowe i testowe 75/25\n",
        "\n",
        "print('X_train shape:', X_train.shape)\n",
        "print('y_train shape:', y_train.shape)\n",
        "print('X_test shape:', X_test.shape)\n",
        "print('y_test shape:', y_test.shape)"
      ],
      "metadata": {
        "colab": {
          "base_uri": "https://localhost:8080/"
        },
        "id": "Nwlpux3wYspN",
        "outputId": "6b3ab88a-6c98-49aa-94b6-71d819cbaa4c"
      },
      "execution_count": 6,
      "outputs": [
        {
          "output_type": "stream",
          "name": "stdout",
          "text": [
            "X_train shape: (75, 1)\n",
            "y_train shape: (75,)\n",
            "X_test shape: (25, 1)\n",
            "y_test shape: (25,)\n"
          ]
        }
      ]
    },
    {
      "cell_type": "markdown",
      "source": [
        "Wizualizacja"
      ],
      "metadata": {
        "id": "6sK-g0jQZbFc"
      }
    },
    {
      "cell_type": "code",
      "source": [
        "import matplotlib.pyplot as plt\n",
        "import seaborn as sns\n",
        "sns.set()\n",
        "\n",
        "plt.figure(figsize=(7, 5))\n",
        "plt.scatter(X_train, y_train, c='b', label='Zbiór treningowy')\n",
        "plt.scatter(X_test, y_test, c='g', label='Zbiór testowy')\n",
        "plt.xlabel('X')\n",
        "plt.ylabel('y')\n",
        "plt.legend()"
      ],
      "metadata": {
        "colab": {
          "base_uri": "https://localhost:8080/",
          "height": 490
        },
        "id": "rG4zeXPOZc-O",
        "outputId": "dd04594b-e970-4cf8-bae9-96490076ef96"
      },
      "execution_count": 7,
      "outputs": [
        {
          "output_type": "execute_result",
          "data": {
            "text/plain": [
              "<matplotlib.legend.Legend at 0x7f44388aea40>"
            ]
          },
          "metadata": {},
          "execution_count": 7
        },
        {
          "output_type": "display_data",
          "data": {
            "text/plain": [
              "<Figure size 700x500 with 1 Axes>"
            ],
            "image/png": "[encoded data removed]"
          },
          "metadata": {}
        }
      ]
    }
  ]
}