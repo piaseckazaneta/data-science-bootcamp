{
  "nbformat": 4,
  "nbformat_minor": 0,
  "metadata": {
    "colab": {
      "provenance": [],
      "authorship_tag": "ABX9TyMAQGubc8KAckA+Zlm6Aa0F",
      "include_colab_link": true
    },
    "kernelspec": {
      "name": "python3",
      "display_name": "Python 3"
    },
    "language_info": {
      "name": "python"
    }
  },
  "cells": [
    {
      "cell_type": "markdown",
      "metadata": {
        "id": "view-in-github",
        "colab_type": "text"
      },
      "source": [
        "<a href=\"https://colab.research.google.com/github/piaseckazaneta/data-science-bootcamp/blob/main/regresja_metrics.ipynb\" target=\"_parent\"><img src=\"https://colab.research.google.com/assets/colab-badge.svg\" alt=\"Open In Colab\"/></a>"
      ]
    },
    {
      "cell_type": "code",
      "execution_count": null,
      "metadata": {
        "id": "WBruYZPBv_7e"
      },
      "outputs": [],
      "source": []
    },
    {
      "cell_type": "markdown",
      "source": [
        "Metryki - regresja"
      ],
      "metadata": {
        "id": "6wzrlsNswP3X"
      }
    },
    {
      "cell_type": "code",
      "source": [
        "import numpy as np\n",
        "import pandas as pd\n",
        "import plotly.express as px\n",
        "import plotly.graph_objects as go"
      ],
      "metadata": {
        "id": "YFynwzk9wfxm"
      },
      "execution_count": 1,
      "outputs": []
    },
    {
      "cell_type": "code",
      "source": [
        "# Wygenerowanie danych - wygenerowanie liczb z rozkładu normalnego (+100, aby to były liczby w zakresie 100 i 20 odchylenie standardowe (*20))\n",
        "# Załóżny, że są to dane prawdziwe - np. ceny akcji na giełdzie\n",
        "y_true = 100 + 20 * np.random.randn(50)\n",
        "y_true"
      ],
      "metadata": {
        "colab": {
          "base_uri": "https://localhost:8080/"
        },
        "id": "suFFqG6nwxrE",
        "outputId": "0d2ef684-dc9f-45ce-dc3e-c96b0cedf6a5"
      },
      "execution_count": null,
      "outputs": [
        {
          "output_type": "execute_result",
          "data": {
            "text/plain": [
              "array([119.41975938,  77.8482914 ,  80.38694832, 103.44865272,\n",
              "        77.76418492, 100.41373624, 108.36372079,  83.82100539,\n",
              "        93.64037939,  91.3671538 ,  72.96484346,  75.16325514,\n",
              "       115.43935573, 136.11519143, 109.23107582, 100.94036325,\n",
              "        70.9387508 , 106.09625738, 110.346462  , 110.36877989,\n",
              "        89.20082008,  87.01547483, 126.09940584,  88.946779  ,\n",
              "        99.41432652, 102.06358953, 107.58438196, 103.10156622,\n",
              "        89.64691403, 113.05533563,  88.08250697, 102.00698357,\n",
              "        85.30674123, 100.36025044, 108.71829109,  94.79192572,\n",
              "       109.33474944, 112.73215984, 100.27997271,  75.07095531,\n",
              "        89.74345672, 139.17334558, 122.07963729, 106.3068585 ,\n",
              "       108.34527708, 100.9499935 , 109.83736814, 121.91335757,\n",
              "       126.64899252,  95.6787189 ])"
            ]
          },
          "metadata": {},
          "execution_count": 3
        }
      ]
    },
    {
      "cell_type": "code",
      "source": [
        "y_pred = y_true + 10 * np.random.randn(50)\n",
        "y_pred"
      ],
      "metadata": {
        "colab": {
          "base_uri": "https://localhost:8080/"
        },
        "id": "P8WgQCSCxbTo",
        "outputId": "059c9924-1c60-461a-f1c0-0c2e4e7facfb"
      },
      "execution_count": null,
      "outputs": [
        {
          "output_type": "execute_result",
          "data": {
            "text/plain": [
              "array([113.52705892,  84.24471083,  75.72799692, 112.61053121,\n",
              "        90.28920741, 107.36052622, 119.79979754,  71.4371488 ,\n",
              "        96.75786898,  93.71360709,  76.6870883 ,  73.15945453,\n",
              "       113.70225111, 145.1930074 , 118.90754615, 110.9264643 ,\n",
              "        58.48312398,  90.91441959, 116.70345309,  99.95750729,\n",
              "        99.07169615,  98.46492834, 123.37920215,  73.64471993,\n",
              "        93.79134069, 109.30659207, 126.73857287,  84.84083549,\n",
              "        93.43237497, 114.33895549,  93.78450248,  80.41003985,\n",
              "        85.07736131,  95.90817589, 113.34583606, 106.16760138,\n",
              "       108.10692006, 104.38343206,  91.32042416,  52.44353798,\n",
              "        86.89632885, 132.62065746, 114.00923558,  97.2704242 ,\n",
              "       117.24714752,  81.63003946, 102.28133854,  98.20862011,\n",
              "       142.44889653, 106.59731686])"
            ]
          },
          "metadata": {},
          "execution_count": 5
        }
      ]
    },
    {
      "cell_type": "code",
      "source": [
        "# Tworzymy DataFrame, co pozwoli na stworzenie wykresu do interpretacji graficznej - TRZEBA ZAMIENIĆ NA DATA FRAME"
      ],
      "metadata": {
        "id": "_SVObV1sx-vT"
      },
      "execution_count": null,
      "outputs": []
    },
    {
      "cell_type": "code",
      "source": [
        "results = pd.DataFrame({'y_true': y_true, 'y_pred': y_pred})\n",
        "results.head()"
      ],
      "metadata": {
        "colab": {
          "base_uri": "https://localhost:8080/",
          "height": 206
        },
        "id": "HF5vFBzCyFs7",
        "outputId": "5cd327f1-0322-4611-bbc0-483a1544a066"
      },
      "execution_count": null,
      "outputs": [
        {
          "output_type": "execute_result",
          "data": {
            "text/plain": [
              "       y_true      y_pred\n",
              "0  119.419759  113.527059\n",
              "1   77.848291   84.244711\n",
              "2   80.386948   75.727997\n",
              "3  103.448653  112.610531\n",
              "4   77.764185   90.289207"
            ],
            "text/html": [
              "\n",
              "  <div id=\"df-07d75f0b-26fa-4f6f-bc98-d37360a5ecd8\" class=\"colab-df-container\">\n",
              "    <div>\n",
              "<style scoped>\n",
              "    .dataframe tbody tr th:only-of-type {\n",
              "        vertical-align: middle;\n",
              "    }\n",
              "\n",
              "    .dataframe tbody tr th {\n",
              "        vertical-align: top;\n",
              "    }\n",
              "\n",
              "    .dataframe thead th {\n",
              "        text-align: right;\n",
              "    }\n",
              "</style>\n",
              "<table border=\"1\" class=\"dataframe\">\n",
              "  <thead>\n",
              "    <tr style=\"text-align: right;\">\n",
              "      <th></th>\n",
              "      <th>y_true</th>\n",
              "      <th>y_pred</th>\n",
              "    </tr>\n",
              "  </thead>\n",
              "  <tbody>\n",
              "    <tr>\n",
              "      <th>0</th>\n",
              "      <td>119.419759</td>\n",
              "      <td>113.527059</td>\n",
              "    </tr>\n",
              "    <tr>\n",
              "      <th>1</th>\n",
              "      <td>77.848291</td>\n",
              "      <td>84.244711</td>\n",
              "    </tr>\n",
              "    <tr>\n",
              "      <th>2</th>\n",
              "      <td>80.386948</td>\n",
              "      <td>75.727997</td>\n",
              "    </tr>\n",
              "    <tr>\n",
              "      <th>3</th>\n",
              "      <td>103.448653</td>\n",
              "      <td>112.610531</td>\n",
              "    </tr>\n",
              "    <tr>\n",
              "      <th>4</th>\n",
              "      <td>77.764185</td>\n",
              "      <td>90.289207</td>\n",
              "    </tr>\n",
              "  </tbody>\n",
              "</table>\n",
              "</div>\n",
              "    <div class=\"colab-df-buttons\">\n",
              "\n",
              "  <div class=\"colab-df-container\">\n",
              "    <button class=\"colab-df-convert\" onclick=\"convertToInteractive('df-07d75f0b-26fa-4f6f-bc98-d37360a5ecd8')\"\n",
              "            title=\"Convert this dataframe to an interactive table.\"\n",
              "            style=\"display:none;\">\n",
              "\n",
              "  <svg xmlns=\"http://www.w3.org/2000/svg\" height=\"24px\" viewBox=\"0 -960 960 960\">\n",
              "    <path d=\"M120-120v-720h720v720H120Zm60-500h600v-160H180v160Zm220 220h160v-160H400v160Zm0 220h160v-160H400v160ZM180-400h160v-160H180v160Zm440 0h160v-160H620v160ZM180-180h160v-160H180v160Zm440 0h160v-160H620v160Z\"/>\n",
              "  </svg>\n",
              "    </button>\n",
              "\n",
              "  <style>\n",
              "    .colab-df-container {\n",
              "      display:flex;\n",
              "      gap: 12px;\n",
              "    }\n",
              "\n",
              "    .colab-df-convert {\n",
              "      background-color: #E8F0FE;\n",
              "      border: none;\n",
              "      border-radius: 50%;\n",
              "      cursor: pointer;\n",
              "      display: none;\n",
              "      fill: #1967D2;\n",
              "      height: 32px;\n",
              "      padding: 0 0 0 0;\n",
              "      width: 32px;\n",
              "    }\n",
              "\n",
              "    .colab-df-convert:hover {\n",
              "      background-color: #E2EBFA;\n",
              "      box-shadow: 0px 1px 2px rgba(60, 64, 67, 0.3), 0px 1px 3px 1px rgba(60, 64, 67, 0.15);\n",
              "      fill: #174EA6;\n",
              "    }\n",
              "\n",
              "    .colab-df-buttons div {\n",
              "      margin-bottom: 4px;\n",
              "    }\n",
              "\n",
              "    [theme=dark] .colab-df-convert {\n",
              "      background-color: #3B4455;\n",
              "      fill: #D2E3FC;\n",
              "    }\n",
              "\n",
              "    [theme=dark] .colab-df-convert:hover {\n",
              "      background-color: #434B5C;\n",
              "      box-shadow: 0px 1px 3px 1px rgba(0, 0, 0, 0.15);\n",
              "      filter: drop-shadow(0px 1px 2px rgba(0, 0, 0, 0.3));\n",
              "      fill: #FFFFFF;\n",
              "    }\n",
              "  </style>\n",
              "\n",
              "    <script>\n",
              "      const buttonEl =\n",
              "        document.querySelector('#df-07d75f0b-26fa-4f6f-bc98-d37360a5ecd8 button.colab-df-convert');\n",
              "      buttonEl.style.display =\n",
              "        google.colab.kernel.accessAllowed ? 'block' : 'none';\n",
              "\n",
              "      async function convertToInteractive(key) {\n",
              "        const element = document.querySelector('#df-07d75f0b-26fa-4f6f-bc98-d37360a5ecd8');\n",
              "        const dataTable =\n",
              "          await google.colab.kernel.invokeFunction('convertToInteractive',\n",
              "                                                    [key], {});\n",
              "        if (!dataTable) return;\n",
              "\n",
              "        const docLinkHtml = 'Like what you see? Visit the ' +\n",
              "          '<a target=\"_blank\" href=https://colab.research.google.com/notebooks/data_table.ipynb>data table notebook</a>'\n",
              "          + ' to learn more about interactive tables.';\n",
              "        element.innerHTML = '';\n",
              "        dataTable['output_type'] = 'display_data';\n",
              "        await google.colab.output.renderOutput(dataTable, element);\n",
              "        const docLink = document.createElement('div');\n",
              "        docLink.innerHTML = docLinkHtml;\n",
              "        element.appendChild(docLink);\n",
              "      }\n",
              "    </script>\n",
              "  </div>\n",
              "\n",
              "\n",
              "<div id=\"df-fa35ee47-a7a7-448f-a754-7684d8aefa30\">\n",
              "  <button class=\"colab-df-quickchart\" onclick=\"quickchart('df-fa35ee47-a7a7-448f-a754-7684d8aefa30')\"\n",
              "            title=\"Suggest charts\"\n",
              "            style=\"display:none;\">\n",
              "\n",
              "<svg xmlns=\"http://www.w3.org/2000/svg\" height=\"24px\"viewBox=\"0 0 24 24\"\n",
              "     width=\"24px\">\n",
              "    <g>\n",
              "        <path d=\"M19 3H5c-1.1 0-2 .9-2 2v14c0 1.1.9 2 2 2h14c1.1 0 2-.9 2-2V5c0-1.1-.9-2-2-2zM9 17H7v-7h2v7zm4 0h-2V7h2v10zm4 0h-2v-4h2v4z\"/>\n",
              "    </g>\n",
              "</svg>\n",
              "  </button>\n",
              "\n",
              "<style>\n",
              "  .colab-df-quickchart {\n",
              "      --bg-color: #E8F0FE;\n",
              "      --fill-color: #1967D2;\n",
              "      --hover-bg-color: #E2EBFA;\n",
              "      --hover-fill-color: #174EA6;\n",
              "      --disabled-fill-color: #AAA;\n",
              "      --disabled-bg-color: #DDD;\n",
              "  }\n",
              "\n",
              "  [theme=dark] .colab-df-quickchart {\n",
              "      --bg-color: #3B4455;\n",
              "      --fill-color: #D2E3FC;\n",
              "      --hover-bg-color: #434B5C;\n",
              "      --hover-fill-color: #FFFFFF;\n",
              "      --disabled-bg-color: #3B4455;\n",
              "      --disabled-fill-color: #666;\n",
              "  }\n",
              "\n",
              "  .colab-df-quickchart {\n",
              "    background-color: var(--bg-color);\n",
              "    border: none;\n",
              "    border-radius: 50%;\n",
              "    cursor: pointer;\n",
              "    display: none;\n",
              "    fill: var(--fill-color);\n",
              "    height: 32px;\n",
              "    padding: 0;\n",
              "    width: 32px;\n",
              "  }\n",
              "\n",
              "  .colab-df-quickchart:hover {\n",
              "    background-color: var(--hover-bg-color);\n",
              "    box-shadow: 0 1px 2px rgba(60, 64, 67, 0.3), 0 1px 3px 1px rgba(60, 64, 67, 0.15);\n",
              "    fill: var(--button-hover-fill-color);\n",
              "  }\n",
              "\n",
              "  .colab-df-quickchart-complete:disabled,\n",
              "  .colab-df-quickchart-complete:disabled:hover {\n",
              "    background-color: var(--disabled-bg-color);\n",
              "    fill: var(--disabled-fill-color);\n",
              "    box-shadow: none;\n",
              "  }\n",
              "\n",
              "  .colab-df-spinner {\n",
              "    border: 2px solid var(--fill-color);\n",
              "    border-color: transparent;\n",
              "    border-bottom-color: var(--fill-color);\n",
              "    animation:\n",
              "      spin 1s steps(1) infinite;\n",
              "  }\n",
              "\n",
              "  @keyframes spin {\n",
              "    0% {\n",
              "      border-color: transparent;\n",
              "      border-bottom-color: var(--fill-color);\n",
              "      border-left-color: var(--fill-color);\n",
              "    }\n",
              "    20% {\n",
              "      border-color: transparent;\n",
              "      border-left-color: var(--fill-color);\n",
              "      border-top-color: var(--fill-color);\n",
              "    }\n",
              "    30% {\n",
              "      border-color: transparent;\n",
              "      border-left-color: var(--fill-color);\n",
              "      border-top-color: var(--fill-color);\n",
              "      border-right-color: var(--fill-color);\n",
              "    }\n",
              "    40% {\n",
              "      border-color: transparent;\n",
              "      border-right-color: var(--fill-color);\n",
              "      border-top-color: var(--fill-color);\n",
              "    }\n",
              "    60% {\n",
              "      border-color: transparent;\n",
              "      border-right-color: var(--fill-color);\n",
              "    }\n",
              "    80% {\n",
              "      border-color: transparent;\n",
              "      border-right-color: var(--fill-color);\n",
              "      border-bottom-color: var(--fill-color);\n",
              "    }\n",
              "    90% {\n",
              "      border-color: transparent;\n",
              "      border-bottom-color: var(--fill-color);\n",
              "    }\n",
              "  }\n",
              "</style>\n",
              "\n",
              "  <script>\n",
              "    async function quickchart(key) {\n",
              "      const quickchartButtonEl =\n",
              "        document.querySelector('#' + key + ' button');\n",
              "      quickchartButtonEl.disabled = true;  // To prevent multiple clicks.\n",
              "      quickchartButtonEl.classList.add('colab-df-spinner');\n",
              "      try {\n",
              "        const charts = await google.colab.kernel.invokeFunction(\n",
              "            'suggestCharts', [key], {});\n",
              "      } catch (error) {\n",
              "        console.error('Error during call to suggestCharts:', error);\n",
              "      }\n",
              "      quickchartButtonEl.classList.remove('colab-df-spinner');\n",
              "      quickchartButtonEl.classList.add('colab-df-quickchart-complete');\n",
              "    }\n",
              "    (() => {\n",
              "      let quickchartButtonEl =\n",
              "        document.querySelector('#df-fa35ee47-a7a7-448f-a754-7684d8aefa30 button');\n",
              "      quickchartButtonEl.style.display =\n",
              "        google.colab.kernel.accessAllowed ? 'block' : 'none';\n",
              "    })();\n",
              "  </script>\n",
              "</div>\n",
              "\n",
              "    </div>\n",
              "  </div>\n"
            ],
            "application/vnd.google.colaboratory.intrinsic+json": {
              "type": "dataframe",
              "variable_name": "results",
              "summary": "{\n  \"name\": \"results\",\n  \"rows\": 50,\n  \"fields\": [\n    {\n      \"column\": \"y_true\",\n      \"properties\": {\n        \"dtype\": \"number\",\n        \"std\": 16.004189723079556,\n        \"min\": 70.93875079630885,\n        \"max\": 139.1733455792706,\n        \"num_unique_values\": 50,\n        \"samples\": [\n          136.11519142654436,\n          75.07095531259819,\n          88.08250697043536\n        ],\n        \"semantic_type\": \"\",\n        \"description\": \"\"\n      }\n    },\n    {\n      \"column\": \"y_pred\",\n      \"properties\": {\n        \"dtype\": \"number\",\n        \"std\": 19.395434172535563,\n        \"min\": 52.443537976221464,\n        \"max\": 145.193007399699,\n        \"num_unique_values\": 50,\n        \"samples\": [\n          145.193007399699,\n          52.443537976221464,\n          93.78450247519612\n        ],\n        \"semantic_type\": \"\",\n        \"description\": \"\"\n      }\n    }\n  ]\n}"
            }
          },
          "metadata": {},
          "execution_count": 7
        }
      ]
    },
    {
      "cell_type": "code",
      "source": [
        "#Tworzymy kolumnę z błędem (error)\n",
        "\n",
        "results['error'] = results['y_true'] - results['y_pred']\n",
        "results.head()\n",
        "\n",
        "#Jeżeli wartość error jest dodatna, to niedoszacowujemy\n",
        "#Jeżeli ujemna, przeszacowujemy"
      ],
      "metadata": {
        "colab": {
          "base_uri": "https://localhost:8080/",
          "height": 206
        },
        "id": "qCyxeKg0ydvM",
        "outputId": "9c4af4ac-9a54-4d0d-9eae-824c89924309"
      },
      "execution_count": null,
      "outputs": [
        {
          "output_type": "execute_result",
          "data": {
            "text/plain": [
              "       y_true      y_pred      error\n",
              "0  119.419759  113.527059   5.892700\n",
              "1   77.848291   84.244711  -6.396419\n",
              "2   80.386948   75.727997   4.658951\n",
              "3  103.448653  112.610531  -9.161878\n",
              "4   77.764185   90.289207 -12.525022"
            ],
            "text/html": [
              "\n",
              "  <div id=\"df-822c50bb-4e7c-4d2d-8afa-1a64aa280e89\" class=\"colab-df-container\">\n",
              "    <div>\n",
              "<style scoped>\n",
              "    .dataframe tbody tr th:only-of-type {\n",
              "        vertical-align: middle;\n",
              "    }\n",
              "\n",
              "    .dataframe tbody tr th {\n",
              "        vertical-align: top;\n",
              "    }\n",
              "\n",
              "    .dataframe thead th {\n",
              "        text-align: right;\n",
              "    }\n",
              "</style>\n",
              "<table border=\"1\" class=\"dataframe\">\n",
              "  <thead>\n",
              "    <tr style=\"text-align: right;\">\n",
              "      <th></th>\n",
              "      <th>y_true</th>\n",
              "      <th>y_pred</th>\n",
              "      <th>error</th>\n",
              "    </tr>\n",
              "  </thead>\n",
              "  <tbody>\n",
              "    <tr>\n",
              "      <th>0</th>\n",
              "      <td>119.419759</td>\n",
              "      <td>113.527059</td>\n",
              "      <td>5.892700</td>\n",
              "    </tr>\n",
              "    <tr>\n",
              "      <th>1</th>\n",
              "      <td>77.848291</td>\n",
              "      <td>84.244711</td>\n",
              "      <td>-6.396419</td>\n",
              "    </tr>\n",
              "    <tr>\n",
              "      <th>2</th>\n",
              "      <td>80.386948</td>\n",
              "      <td>75.727997</td>\n",
              "      <td>4.658951</td>\n",
              "    </tr>\n",
              "    <tr>\n",
              "      <th>3</th>\n",
              "      <td>103.448653</td>\n",
              "      <td>112.610531</td>\n",
              "      <td>-9.161878</td>\n",
              "    </tr>\n",
              "    <tr>\n",
              "      <th>4</th>\n",
              "      <td>77.764185</td>\n",
              "      <td>90.289207</td>\n",
              "      <td>-12.525022</td>\n",
              "    </tr>\n",
              "  </tbody>\n",
              "</table>\n",
              "</div>\n",
              "    <div class=\"colab-df-buttons\">\n",
              "\n",
              "  <div class=\"colab-df-container\">\n",
              "    <button class=\"colab-df-convert\" onclick=\"convertToInteractive('df-822c50bb-4e7c-4d2d-8afa-1a64aa280e89')\"\n",
              "            title=\"Convert this dataframe to an interactive table.\"\n",
              "            style=\"display:none;\">\n",
              "\n",
              "  <svg xmlns=\"http://www.w3.org/2000/svg\" height=\"24px\" viewBox=\"0 -960 960 960\">\n",
              "    <path d=\"M120-120v-720h720v720H120Zm60-500h600v-160H180v160Zm220 220h160v-160H400v160Zm0 220h160v-160H400v160ZM180-400h160v-160H180v160Zm440 0h160v-160H620v160ZM180-180h160v-160H180v160Zm440 0h160v-160H620v160Z\"/>\n",
              "  </svg>\n",
              "    </button>\n",
              "\n",
              "  <style>\n",
              "    .colab-df-container {\n",
              "      display:flex;\n",
              "      gap: 12px;\n",
              "    }\n",
              "\n",
              "    .colab-df-convert {\n",
              "      background-color: #E8F0FE;\n",
              "      border: none;\n",
              "      border-radius: 50%;\n",
              "      cursor: pointer;\n",
              "      display: none;\n",
              "      fill: #1967D2;\n",
              "      height: 32px;\n",
              "      padding: 0 0 0 0;\n",
              "      width: 32px;\n",
              "    }\n",
              "\n",
              "    .colab-df-convert:hover {\n",
              "      background-color: #E2EBFA;\n",
              "      box-shadow: 0px 1px 2px rgba(60, 64, 67, 0.3), 0px 1px 3px 1px rgba(60, 64, 67, 0.15);\n",
              "      fill: #174EA6;\n",
              "    }\n",
              "\n",
              "    .colab-df-buttons div {\n",
              "      margin-bottom: 4px;\n",
              "    }\n",
              "\n",
              "    [theme=dark] .colab-df-convert {\n",
              "      background-color: #3B4455;\n",
              "      fill: #D2E3FC;\n",
              "    }\n",
              "\n",
              "    [theme=dark] .colab-df-convert:hover {\n",
              "      background-color: #434B5C;\n",
              "      box-shadow: 0px 1px 3px 1px rgba(0, 0, 0, 0.15);\n",
              "      filter: drop-shadow(0px 1px 2px rgba(0, 0, 0, 0.3));\n",
              "      fill: #FFFFFF;\n",
              "    }\n",
              "  </style>\n",
              "\n",
              "    <script>\n",
              "      const buttonEl =\n",
              "        document.querySelector('#df-822c50bb-4e7c-4d2d-8afa-1a64aa280e89 button.colab-df-convert');\n",
              "      buttonEl.style.display =\n",
              "        google.colab.kernel.accessAllowed ? 'block' : 'none';\n",
              "\n",
              "      async function convertToInteractive(key) {\n",
              "        const element = document.querySelector('#df-822c50bb-4e7c-4d2d-8afa-1a64aa280e89');\n",
              "        const dataTable =\n",
              "          await google.colab.kernel.invokeFunction('convertToInteractive',\n",
              "                                                    [key], {});\n",
              "        if (!dataTable) return;\n",
              "\n",
              "        const docLinkHtml = 'Like what you see? Visit the ' +\n",
              "          '<a target=\"_blank\" href=https://colab.research.google.com/notebooks/data_table.ipynb>data table notebook</a>'\n",
              "          + ' to learn more about interactive tables.';\n",
              "        element.innerHTML = '';\n",
              "        dataTable['output_type'] = 'display_data';\n",
              "        await google.colab.output.renderOutput(dataTable, element);\n",
              "        const docLink = document.createElement('div');\n",
              "        docLink.innerHTML = docLinkHtml;\n",
              "        element.appendChild(docLink);\n",
              "      }\n",
              "    </script>\n",
              "  </div>\n",
              "\n",
              "\n",
              "<div id=\"df-cc4ca021-9a72-4651-a2c1-8e6812df020e\">\n",
              "  <button class=\"colab-df-quickchart\" onclick=\"quickchart('df-cc4ca021-9a72-4651-a2c1-8e6812df020e')\"\n",
              "            title=\"Suggest charts\"\n",
              "            style=\"display:none;\">\n",
              "\n",
              "<svg xmlns=\"http://www.w3.org/2000/svg\" height=\"24px\"viewBox=\"0 0 24 24\"\n",
              "     width=\"24px\">\n",
              "    <g>\n",
              "        <path d=\"M19 3H5c-1.1 0-2 .9-2 2v14c0 1.1.9 2 2 2h14c1.1 0 2-.9 2-2V5c0-1.1-.9-2-2-2zM9 17H7v-7h2v7zm4 0h-2V7h2v10zm4 0h-2v-4h2v4z\"/>\n",
              "    </g>\n",
              "</svg>\n",
              "  </button>\n",
              "\n",
              "<style>\n",
              "  .colab-df-quickchart {\n",
              "      --bg-color: #E8F0FE;\n",
              "      --fill-color: #1967D2;\n",
              "      --hover-bg-color: #E2EBFA;\n",
              "      --hover-fill-color: #174EA6;\n",
              "      --disabled-fill-color: #AAA;\n",
              "      --disabled-bg-color: #DDD;\n",
              "  }\n",
              "\n",
              "  [theme=dark] .colab-df-quickchart {\n",
              "      --bg-color: #3B4455;\n",
              "      --fill-color: #D2E3FC;\n",
              "      --hover-bg-color: #434B5C;\n",
              "      --hover-fill-color: #FFFFFF;\n",
              "      --disabled-bg-color: #3B4455;\n",
              "      --disabled-fill-color: #666;\n",
              "  }\n",
              "\n",
              "  .colab-df-quickchart {\n",
              "    background-color: var(--bg-color);\n",
              "    border: none;\n",
              "    border-radius: 50%;\n",
              "    cursor: pointer;\n",
              "    display: none;\n",
              "    fill: var(--fill-color);\n",
              "    height: 32px;\n",
              "    padding: 0;\n",
              "    width: 32px;\n",
              "  }\n",
              "\n",
              "  .colab-df-quickchart:hover {\n",
              "    background-color: var(--hover-bg-color);\n",
              "    box-shadow: 0 1px 2px rgba(60, 64, 67, 0.3), 0 1px 3px 1px rgba(60, 64, 67, 0.15);\n",
              "    fill: var(--button-hover-fill-color);\n",
              "  }\n",
              "\n",
              "  .colab-df-quickchart-complete:disabled,\n",
              "  .colab-df-quickchart-complete:disabled:hover {\n",
              "    background-color: var(--disabled-bg-color);\n",
              "    fill: var(--disabled-fill-color);\n",
              "    box-shadow: none;\n",
              "  }\n",
              "\n",
              "  .colab-df-spinner {\n",
              "    border: 2px solid var(--fill-color);\n",
              "    border-color: transparent;\n",
              "    border-bottom-color: var(--fill-color);\n",
              "    animation:\n",
              "      spin 1s steps(1) infinite;\n",
              "  }\n",
              "\n",
              "  @keyframes spin {\n",
              "    0% {\n",
              "      border-color: transparent;\n",
              "      border-bottom-color: var(--fill-color);\n",
              "      border-left-color: var(--fill-color);\n",
              "    }\n",
              "    20% {\n",
              "      border-color: transparent;\n",
              "      border-left-color: var(--fill-color);\n",
              "      border-top-color: var(--fill-color);\n",
              "    }\n",
              "    30% {\n",
              "      border-color: transparent;\n",
              "      border-left-color: var(--fill-color);\n",
              "      border-top-color: var(--fill-color);\n",
              "      border-right-color: var(--fill-color);\n",
              "    }\n",
              "    40% {\n",
              "      border-color: transparent;\n",
              "      border-right-color: var(--fill-color);\n",
              "      border-top-color: var(--fill-color);\n",
              "    }\n",
              "    60% {\n",
              "      border-color: transparent;\n",
              "      border-right-color: var(--fill-color);\n",
              "    }\n",
              "    80% {\n",
              "      border-color: transparent;\n",
              "      border-right-color: var(--fill-color);\n",
              "      border-bottom-color: var(--fill-color);\n",
              "    }\n",
              "    90% {\n",
              "      border-color: transparent;\n",
              "      border-bottom-color: var(--fill-color);\n",
              "    }\n",
              "  }\n",
              "</style>\n",
              "\n",
              "  <script>\n",
              "    async function quickchart(key) {\n",
              "      const quickchartButtonEl =\n",
              "        document.querySelector('#' + key + ' button');\n",
              "      quickchartButtonEl.disabled = true;  // To prevent multiple clicks.\n",
              "      quickchartButtonEl.classList.add('colab-df-spinner');\n",
              "      try {\n",
              "        const charts = await google.colab.kernel.invokeFunction(\n",
              "            'suggestCharts', [key], {});\n",
              "      } catch (error) {\n",
              "        console.error('Error during call to suggestCharts:', error);\n",
              "      }\n",
              "      quickchartButtonEl.classList.remove('colab-df-spinner');\n",
              "      quickchartButtonEl.classList.add('colab-df-quickchart-complete');\n",
              "    }\n",
              "    (() => {\n",
              "      let quickchartButtonEl =\n",
              "        document.querySelector('#df-cc4ca021-9a72-4651-a2c1-8e6812df020e button');\n",
              "      quickchartButtonEl.style.display =\n",
              "        google.colab.kernel.accessAllowed ? 'block' : 'none';\n",
              "    })();\n",
              "  </script>\n",
              "</div>\n",
              "\n",
              "    </div>\n",
              "  </div>\n"
            ],
            "application/vnd.google.colaboratory.intrinsic+json": {
              "type": "dataframe",
              "variable_name": "results",
              "summary": "{\n  \"name\": \"results\",\n  \"rows\": 50,\n  \"fields\": [\n    {\n      \"column\": \"y_true\",\n      \"properties\": {\n        \"dtype\": \"number\",\n        \"std\": 16.004189723079556,\n        \"min\": 70.93875079630885,\n        \"max\": 139.1733455792706,\n        \"num_unique_values\": 50,\n        \"samples\": [\n          136.11519142654436,\n          75.07095531259819,\n          88.08250697043536\n        ],\n        \"semantic_type\": \"\",\n        \"description\": \"\"\n      }\n    },\n    {\n      \"column\": \"y_pred\",\n      \"properties\": {\n        \"dtype\": \"number\",\n        \"std\": 19.395434172535563,\n        \"min\": 52.443537976221464,\n        \"max\": 145.193007399699,\n        \"num_unique_values\": 50,\n        \"samples\": [\n          145.193007399699,\n          52.443537976221464,\n          93.78450247519612\n        ],\n        \"semantic_type\": \"\",\n        \"description\": \"\"\n      }\n    },\n    {\n      \"column\": \"error\",\n      \"properties\": {\n        \"dtype\": \"number\",\n        \"std\": 10.793100404962273,\n        \"min\": -19.154190901449795,\n        \"max\": 23.704737467256905,\n        \"num_unique_values\": 50,\n        \"samples\": [\n          -9.077815973154657,\n          22.627417336376723,\n          -5.70199550476076\n        ],\n        \"semantic_type\": \"\",\n        \"description\": \"\"\n      }\n    }\n  ]\n}"
            }
          },
          "metadata": {},
          "execution_count": 8
        }
      ]
    },
    {
      "cell_type": "code",
      "source": [
        "def plot_regression_results(y_true, y_pred):\n",
        "  results = pd.DataFrame({'y_true': y_true, 'y_pred': y_pred}) #Tworzymy dataframe\n",
        "  min = results[['y_true', 'y_pred']].min().min() #Łapiemy wartości skrajne min - max\n",
        "  max = results[['y_true', 'y_pred']].max().max()\n",
        "\n",
        "#Tworzymy obiekt typu Figure\n",
        "  fig = go.Figure(data=[go.Scatter(x=results['y_true'], y=results['y_pred'], mode='markers'),\n",
        "                  go.Scatter(x=[min,max], y=[min,max])], # Ta linijka tworzy czerwoną linię na wykresie\n",
        "                  layout=go.Layout(showlegend=False, width=800, height=500,\n",
        "                                  xaxis_title='y_true',\n",
        "                                  yaxis_title='y_pred',\n",
        "                                  title='Regression results'))\n",
        "  fig.show()\n",
        "plot_regression_results(y_true, y_pred)"
      ],
      "metadata": {
        "colab": {
          "base_uri": "https://localhost:8080/",
          "height": 517
        },
        "id": "DqUyAUXkzHXA",
        "outputId": "8f9d3035-1ba4-472b-e013-832f0f134fa0"
      },
      "execution_count": null,
      "outputs": [
        {
          "output_type": "display_data",
          "data": {
            "text/html": [
              "<html>\n",
              "<head><meta charset=\"utf-8\" /></head>\n",
              "<body>\n",
              "    <div>            <script src=\"https://cdnjs.cloudflare.com/ajax/libs/mathjax/2.7.5/MathJax.js?config=TeX-AMS-MML_SVG\"></script><script type=\"text/javascript\">if (window.MathJax && window.MathJax.Hub && window.MathJax.Hub.Config) {window.MathJax.Hub.Config({SVG: {font: \"STIX-Web\"}});}</script>                <script type=\"text/javascript\">window.PlotlyConfig = {MathJaxConfig: 'local'};</script>\n",
              "        <script charset=\"utf-8\" src=\"https://cdn.plot.ly/plotly-2.35.2.min.js\"></script>                <div id=\"8015afd5-5f88-4747-bdef-bbba21102c88\" class=\"plotly-graph-div\" style=\"height:500px; width:800px;\"></div>            <script type=\"text/javascript\">                                    window.PLOTLYENV=window.PLOTLYENV || {};                                    if (document.getElementById(\"8015afd5-5f88-4747-bdef-bbba21102c88\")) {                    Plotly.newPlot(                        \"8015afd5-5f88-4747-bdef-bbba21102c88\",                        [{\"mode\":\"markers\",\"x\":[119.41975937799707,77.84829139659035,80.38694832297772,103.4486527226352,77.76418491604723,100.41373623728839,108.36372079373179,83.82100538799654,93.64037939408188,91.36715380312279,72.96484345992833,75.16325514026705,115.43935573165172,136.11519142654436,109.23107582193715,100.94036325059322,70.93875079630885,106.09625737738999,110.34646199947105,110.36877989114069,89.20082008040505,87.01547483111861,126.09940584456012,88.94677900270281,99.41432652277197,102.06358953033923,107.58438196399797,103.10156622217809,89.64691402794946,113.05533562504151,88.08250697043536,102.00698357232119,85.30674123122049,100.36025044451354,108.71829109035656,94.79192571590164,109.33474943949442,112.73215983551916,100.27997271475515,75.07095531259819,89.74345671920928,139.1733455792706,122.07963728686292,106.30685849813638,108.34527707635041,100.94999350387788,109.83736814474824,121.91335757476452,126.64899252006457,95.67871889879028],\"y\":[113.5270589238457,84.24471083477395,75.72799692072692,112.61053120639774,90.28920740729161,107.36052621523967,119.79979753782666,71.43714879766675,96.75786898086048,93.71360709105826,76.68708829779865,73.15945453140695,113.70225110562227,145.193007399699,118.90754615207595,110.92646430182597,58.48312397533125,90.91441958672496,116.70345308981757,99.95750729168424,99.07169614570635,98.46492834225833,123.3792021546803,73.64471993028008,93.79134068725308,109.30659207071795,126.73857286544776,84.84083548751805,93.43237497178907,114.33895549459548,93.78450247519612,80.41003985444146,85.0773613089891,95.90817588732067,113.3458360580906,106.16760137544327,108.1069200621127,104.38343206404402,91.32042415774262,52.443537976221464,86.8963288468236,132.62065745873056,114.00923557659773,97.27042420340887,117.2471475219181,81.6300394593749,102.28133853506695,98.20862010750761,142.44889652781993,106.59731685731612],\"type\":\"scatter\"},{\"x\":[52.443537976221464,145.193007399699],\"y\":[52.443537976221464,145.193007399699],\"type\":\"scatter\"}],                        {\"height\":500,\"showlegend\":false,\"title\":{\"text\":\"Regression results\"},\"width\":800,\"xaxis\":{\"title\":{\"text\":\"y_true\"}},\"yaxis\":{\"title\":{\"text\":\"y_pred\"}},\"template\":{\"data\":{\"histogram2dcontour\":[{\"type\":\"histogram2dcontour\",\"colorbar\":{\"outlinewidth\":0,\"ticks\":\"\"},\"colorscale\":[[0.0,\"#0d0887\"],[0.1111111111111111,\"#46039f\"],[0.2222222222222222,\"#7201a8\"],[0.3333333333333333,\"#9c179e\"],[0.4444444444444444,\"#bd3786\"],[0.5555555555555556,\"#d8576b\"],[0.6666666666666666,\"#ed7953\"],[0.7777777777777778,\"#fb9f3a\"],[0.8888888888888888,\"#fdca26\"],[1.0,\"#f0f921\"]]}],\"choropleth\":[{\"type\":\"choropleth\",\"colorbar\":{\"outlinewidth\":0,\"ticks\":\"\"}}],\"histogram2d\":[{\"type\":\"histogram2d\",\"colorbar\":{\"outlinewidth\":0,\"ticks\":\"\"},\"colorscale\":[[0.0,\"#0d0887\"],[0.1111111111111111,\"#46039f\"],[0.2222222222222222,\"#7201a8\"],[0.3333333333333333,\"#9c179e\"],[0.4444444444444444,\"#bd3786\"],[0.5555555555555556,\"#d8576b\"],[0.6666666666666666,\"#ed7953\"],[0.7777777777777778,\"#fb9f3a\"],[0.8888888888888888,\"#fdca26\"],[1.0,\"#f0f921\"]]}],\"heatmap\":[{\"type\":\"heatmap\",\"colorbar\":{\"outlinewidth\":0,\"ticks\":\"\"},\"colorscale\":[[0.0,\"#0d0887\"],[0.1111111111111111,\"#46039f\"],[0.2222222222222222,\"#7201a8\"],[0.3333333333333333,\"#9c179e\"],[0.4444444444444444,\"#bd3786\"],[0.5555555555555556,\"#d8576b\"],[0.6666666666666666,\"#ed7953\"],[0.7777777777777778,\"#fb9f3a\"],[0.8888888888888888,\"#fdca26\"],[1.0,\"#f0f921\"]]}],\"heatmapgl\":[{\"type\":\"heatmapgl\",\"colorbar\":{\"outlinewidth\":0,\"ticks\":\"\"},\"colorscale\":[[0.0,\"#0d0887\"],[0.1111111111111111,\"#46039f\"],[0.2222222222222222,\"#7201a8\"],[0.3333333333333333,\"#9c179e\"],[0.4444444444444444,\"#bd3786\"],[0.5555555555555556,\"#d8576b\"],[0.6666666666666666,\"#ed7953\"],[0.7777777777777778,\"#fb9f3a\"],[0.8888888888888888,\"#fdca26\"],[1.0,\"#f0f921\"]]}],\"contourcarpet\":[{\"type\":\"contourcarpet\",\"colorbar\":{\"outlinewidth\":0,\"ticks\":\"\"}}],\"contour\":[{\"type\":\"contour\",\"colorbar\":{\"outlinewidth\":0,\"ticks\":\"\"},\"colorscale\":[[0.0,\"#0d0887\"],[0.1111111111111111,\"#46039f\"],[0.2222222222222222,\"#7201a8\"],[0.3333333333333333,\"#9c179e\"],[0.4444444444444444,\"#bd3786\"],[0.5555555555555556,\"#d8576b\"],[0.6666666666666666,\"#ed7953\"],[0.7777777777777778,\"#fb9f3a\"],[0.8888888888888888,\"#fdca26\"],[1.0,\"#f0f921\"]]}],\"surface\":[{\"type\":\"surface\",\"colorbar\":{\"outlinewidth\":0,\"ticks\":\"\"},\"colorscale\":[[0.0,\"#0d0887\"],[0.1111111111111111,\"#46039f\"],[0.2222222222222222,\"#7201a8\"],[0.3333333333333333,\"#9c179e\"],[0.4444444444444444,\"#bd3786\"],[0.5555555555555556,\"#d8576b\"],[0.6666666666666666,\"#ed7953\"],[0.7777777777777778,\"#fb9f3a\"],[0.8888888888888888,\"#fdca26\"],[1.0,\"#f0f921\"]]}],\"mesh3d\":[{\"type\":\"mesh3d\",\"colorbar\":{\"outlinewidth\":0,\"ticks\":\"\"}}],\"scatter\":[{\"fillpattern\":{\"fillmode\":\"overlay\",\"size\":10,\"solidity\":0.2},\"type\":\"scatter\"}],\"parcoords\":[{\"type\":\"parcoords\",\"line\":{\"colorbar\":{\"outlinewidth\":0,\"ticks\":\"\"}}}],\"scatterpolargl\":[{\"type\":\"scatterpolargl\",\"marker\":{\"colorbar\":{\"outlinewidth\":0,\"ticks\":\"\"}}}],\"bar\":[{\"error_x\":{\"color\":\"#2a3f5f\"},\"error_y\":{\"color\":\"#2a3f5f\"},\"marker\":{\"line\":{\"color\":\"#E5ECF6\",\"width\":0.5},\"pattern\":{\"fillmode\":\"overlay\",\"size\":10,\"solidity\":0.2}},\"type\":\"bar\"}],\"scattergeo\":[{\"type\":\"scattergeo\",\"marker\":{\"colorbar\":{\"outlinewidth\":0,\"ticks\":\"\"}}}],\"scatterpolar\":[{\"type\":\"scatterpolar\",\"marker\":{\"colorbar\":{\"outlinewidth\":0,\"ticks\":\"\"}}}],\"histogram\":[{\"marker\":{\"pattern\":{\"fillmode\":\"overlay\",\"size\":10,\"solidity\":0.2}},\"type\":\"histogram\"}],\"scattergl\":[{\"type\":\"scattergl\",\"marker\":{\"colorbar\":{\"outlinewidth\":0,\"ticks\":\"\"}}}],\"scatter3d\":[{\"type\":\"scatter3d\",\"line\":{\"colorbar\":{\"outlinewidth\":0,\"ticks\":\"\"}},\"marker\":{\"colorbar\":{\"outlinewidth\":0,\"ticks\":\"\"}}}],\"scattermapbox\":[{\"type\":\"scattermapbox\",\"marker\":{\"colorbar\":{\"outlinewidth\":0,\"ticks\":\"\"}}}],\"scatterternary\":[{\"type\":\"scatterternary\",\"marker\":{\"colorbar\":{\"outlinewidth\":0,\"ticks\":\"\"}}}],\"scattercarpet\":[{\"type\":\"scattercarpet\",\"marker\":{\"colorbar\":{\"outlinewidth\":0,\"ticks\":\"\"}}}],\"carpet\":[{\"aaxis\":{\"endlinecolor\":\"#2a3f5f\",\"gridcolor\":\"white\",\"linecolor\":\"white\",\"minorgridcolor\":\"white\",\"startlinecolor\":\"#2a3f5f\"},\"baxis\":{\"endlinecolor\":\"#2a3f5f\",\"gridcolor\":\"white\",\"linecolor\":\"white\",\"minorgridcolor\":\"white\",\"startlinecolor\":\"#2a3f5f\"},\"type\":\"carpet\"}],\"table\":[{\"cells\":{\"fill\":{\"color\":\"#EBF0F8\"},\"line\":{\"color\":\"white\"}},\"header\":{\"fill\":{\"color\":\"#C8D4E3\"},\"line\":{\"color\":\"white\"}},\"type\":\"table\"}],\"barpolar\":[{\"marker\":{\"line\":{\"color\":\"#E5ECF6\",\"width\":0.5},\"pattern\":{\"fillmode\":\"overlay\",\"size\":10,\"solidity\":0.2}},\"type\":\"barpolar\"}],\"pie\":[{\"automargin\":true,\"type\":\"pie\"}]},\"layout\":{\"autotypenumbers\":\"strict\",\"colorway\":[\"#636efa\",\"#EF553B\",\"#00cc96\",\"#ab63fa\",\"#FFA15A\",\"#19d3f3\",\"#FF6692\",\"#B6E880\",\"#FF97FF\",\"#FECB52\"],\"font\":{\"color\":\"#2a3f5f\"},\"hovermode\":\"closest\",\"hoverlabel\":{\"align\":\"left\"},\"paper_bgcolor\":\"white\",\"plot_bgcolor\":\"#E5ECF6\",\"polar\":{\"bgcolor\":\"#E5ECF6\",\"angularaxis\":{\"gridcolor\":\"white\",\"linecolor\":\"white\",\"ticks\":\"\"},\"radialaxis\":{\"gridcolor\":\"white\",\"linecolor\":\"white\",\"ticks\":\"\"}},\"ternary\":{\"bgcolor\":\"#E5ECF6\",\"aaxis\":{\"gridcolor\":\"white\",\"linecolor\":\"white\",\"ticks\":\"\"},\"baxis\":{\"gridcolor\":\"white\",\"linecolor\":\"white\",\"ticks\":\"\"},\"caxis\":{\"gridcolor\":\"white\",\"linecolor\":\"white\",\"ticks\":\"\"}},\"coloraxis\":{\"colorbar\":{\"outlinewidth\":0,\"ticks\":\"\"}},\"colorscale\":{\"sequential\":[[0.0,\"#0d0887\"],[0.1111111111111111,\"#46039f\"],[0.2222222222222222,\"#7201a8\"],[0.3333333333333333,\"#9c179e\"],[0.4444444444444444,\"#bd3786\"],[0.5555555555555556,\"#d8576b\"],[0.6666666666666666,\"#ed7953\"],[0.7777777777777778,\"#fb9f3a\"],[0.8888888888888888,\"#fdca26\"],[1.0,\"#f0f921\"]],\"sequentialminus\":[[0.0,\"#0d0887\"],[0.1111111111111111,\"#46039f\"],[0.2222222222222222,\"#7201a8\"],[0.3333333333333333,\"#9c179e\"],[0.4444444444444444,\"#bd3786\"],[0.5555555555555556,\"#d8576b\"],[0.6666666666666666,\"#ed7953\"],[0.7777777777777778,\"#fb9f3a\"],[0.8888888888888888,\"#fdca26\"],[1.0,\"#f0f921\"]],\"diverging\":[[0,\"#8e0152\"],[0.1,\"#c51b7d\"],[0.2,\"#de77ae\"],[0.3,\"#f1b6da\"],[0.4,\"#fde0ef\"],[0.5,\"#f7f7f7\"],[0.6,\"#e6f5d0\"],[0.7,\"#b8e186\"],[0.8,\"#7fbc41\"],[0.9,\"#4d9221\"],[1,\"#276419\"]]},\"xaxis\":{\"gridcolor\":\"white\",\"linecolor\":\"white\",\"ticks\":\"\",\"title\":{\"standoff\":15},\"zerolinecolor\":\"white\",\"automargin\":true,\"zerolinewidth\":2},\"yaxis\":{\"gridcolor\":\"white\",\"linecolor\":\"white\",\"ticks\":\"\",\"title\":{\"standoff\":15},\"zerolinecolor\":\"white\",\"automargin\":true,\"zerolinewidth\":2},\"scene\":{\"xaxis\":{\"backgroundcolor\":\"#E5ECF6\",\"gridcolor\":\"white\",\"linecolor\":\"white\",\"showbackground\":true,\"ticks\":\"\",\"zerolinecolor\":\"white\",\"gridwidth\":2},\"yaxis\":{\"backgroundcolor\":\"#E5ECF6\",\"gridcolor\":\"white\",\"linecolor\":\"white\",\"showbackground\":true,\"ticks\":\"\",\"zerolinecolor\":\"white\",\"gridwidth\":2},\"zaxis\":{\"backgroundcolor\":\"#E5ECF6\",\"gridcolor\":\"white\",\"linecolor\":\"white\",\"showbackground\":true,\"ticks\":\"\",\"zerolinecolor\":\"white\",\"gridwidth\":2}},\"shapedefaults\":{\"line\":{\"color\":\"#2a3f5f\"}},\"annotationdefaults\":{\"arrowcolor\":\"#2a3f5f\",\"arrowhead\":0,\"arrowwidth\":1},\"geo\":{\"bgcolor\":\"white\",\"landcolor\":\"#E5ECF6\",\"subunitcolor\":\"white\",\"showland\":true,\"showlakes\":true,\"lakecolor\":\"white\"},\"title\":{\"x\":0.05},\"mapbox\":{\"style\":\"light\"}}}},                        {\"responsive\": true}                    ).then(function(){\n",
              "                            \n",
              "var gd = document.getElementById('8015afd5-5f88-4747-bdef-bbba21102c88');\n",
              "var x = new MutationObserver(function (mutations, observer) {{\n",
              "        var display = window.getComputedStyle(gd).display;\n",
              "        if (!display || display === 'none') {{\n",
              "            console.log([gd, 'removed!']);\n",
              "            Plotly.purge(gd);\n",
              "            observer.disconnect();\n",
              "        }}\n",
              "}});\n",
              "\n",
              "// Listen for the removal of the full notebook cells\n",
              "var notebookContainer = gd.closest('#notebook-container');\n",
              "if (notebookContainer) {{\n",
              "    x.observe(notebookContainer, {childList: true});\n",
              "}}\n",
              "\n",
              "// Listen for the clearing of the current output cell\n",
              "var outputEl = gd.closest('.output');\n",
              "if (outputEl) {{\n",
              "    x.observe(outputEl, {childList: true});\n",
              "}}\n",
              "\n",
              "                        })                };                            </script>        </div>\n",
              "</body>\n",
              "</html>"
            ]
          },
          "metadata": {}
        }
      ]
    },
    {
      "cell_type": "markdown",
      "source": [],
      "metadata": {
        "id": "5q_NxXMBuDIS"
      }
    },
    {
      "cell_type": "code",
      "source": [
        "# Kolejny przypadek analizy błędów regresji. Tworzymy kolejny wykres. 1000 elementów do oceny\n",
        "\n",
        "y_true = 100 + 20 * np.random.randn(1000)\n",
        "y_pred = y_true + 10 * np.random.randn(1000)\n",
        "results = pd.DataFrame({'y_true': y_true, 'y_pred': y_pred})\n",
        "results['error'] = results['y_true'] - results['y_pred']\n",
        "\n",
        "px.histogram(results, x='error', nbins=50, width=800) #Budujemy histogram zmiennej 'error'\n",
        "# HISTOGRAM będzie przypominał rozkład normalny ALE będzie skierowany bardziej w lewo lub prawo i będzie nam przez to mówił, czy nasz model przeszacowuje\n",
        "# czy niedoszacowuje częściej.\n",
        "# Gdy ten błąd będzie dodatni bardziej, to oznacza że nasz model niedoszaccowuje. Jak bardzie ujemny (po lewej), to niedoszacowuje.\n",
        "# Chemy aby ten rozkład był jak najbardziej symetryczny.\n",
        "\n",
        "#UŻYCIE\n",
        "#Za pomocą takiego modelu możemy porównywać 2 modele, 1 do drugiego.\n",
        "#Jak histogram jest taki rozwleczony (szeroki), to znaczy że nasz model generuje dużo błędów.\n",
        "# NAJLEPIEJ, gdy te wartości błędów na histogramie skupiają się blisko zera."
      ],
      "metadata": {
        "colab": {
          "base_uri": "https://localhost:8080/",
          "height": 542
        },
        "id": "d-qBbS4nuE_6",
        "outputId": "f7728cf3-51f5-45b3-e544-d801d3b2361c"
      },
      "execution_count": 3,
      "outputs": [
        {
          "output_type": "display_data",
          "data": {
            "text/html": [
              "<html>\n",
              "<head><meta charset=\"utf-8\" /></head>\n",
              "<body>\n",
              "    <div>            <script src=\"https://cdnjs.cloudflare.com/ajax/libs/mathjax/2.7.5/MathJax.js?config=TeX-AMS-MML_SVG\"></script><script type=\"text/javascript\">if (window.MathJax && window.MathJax.Hub && window.MathJax.Hub.Config) {window.MathJax.Hub.Config({SVG: {font: \"STIX-Web\"}});}</script>                <script type=\"text/javascript\">window.PlotlyConfig = {MathJaxConfig: 'local'};</script>\n",
              "        <script charset=\"utf-8\" src=\"https://cdn.plot.ly/plotly-2.35.2.min.js\"></script>                <div id=\"f9f00d86-92a9-4783-909b-a3cdb0c86be0\" class=\"plotly-graph-div\" style=\"height:525px; width:800px;\"></div>            <script type=\"text/javascript\">                                    window.PLOTLYENV=window.PLOTLYENV || {};                                    if (document.getElementById(\"f9f00d86-92a9-4783-909b-a3cdb0c86be0\")) {                    Plotly.newPlot(                        \"f9f00d86-92a9-4783-909b-a3cdb0c86be0\",                        [{\"alignmentgroup\":\"True\",\"bingroup\":\"x\",\"hovertemplate\":\"error=%{x}\\u003cbr\\u003ecount=%{y}\\u003cextra\\u003e\\u003c\\u002fextra\\u003e\",\"legendgroup\":\"\",\"marker\":{\"color\":\"#636efa\",\"pattern\":{\"shape\":\"\"}},\"name\":\"\",\"nbinsx\":50,\"offsetgroup\":\"\",\"orientation\":\"v\",\"showlegend\":false,\"x\":[-2.727955846540368,9.180372920753769,-16.666391616265074,-11.906320408828918,4.307780549490047,-1.0988393544085113,-4.267606763933671,0.4424981053855106,7.68834119061394,15.757869621046567,-11.474163747792616,19.60816935446394,3.9769207460432767,-17.21300093403994,5.062485280194537,-10.295210202510148,13.141593814928655,1.220960877665,-20.074640087950684,-6.536934705688438,3.5210890211426005,9.031065615317573,-1.4670030182712424,-20.03115200909849,2.0460515222144267,-2.488027662497089,2.4242484575718066,6.825914337733707,8.546018553050523,-4.517449821420087,0.3640851004022494,-7.8156480922444445,17.368095911414954,6.369905178810441,13.69752380796561,0.8705366732692141,-2.7081992706314253,-8.215748591399745,5.857120811761604,-7.530438512652182,9.671923743757418,-16.247903890256012,-3.8668002080921724,15.508084572986974,-6.091042640932827,9.19306223751309,-12.057574191470692,-11.386583628378617,9.454001706656697,-10.150203109406434,-4.8178706973898215,2.565265049324111,5.721721713520807,5.63454670411727,12.948922595942165,13.478698015621745,-4.76548446725117,7.276519720519616,4.2094179582181965,-1.8337231724416654,-15.66506830818247,-4.072866087860845,-15.330378645946126,-3.86010455068336,2.6754748364572976,18.43880972289037,-12.24966590880733,-0.1033809312701095,-13.652597432292083,-1.7439824692472854,-0.7457467286175472,8.649587046607003,7.737717279568642,5.7485273866901,-4.127760459397038,-2.24674855275714,-9.132228132426519,1.9766675603955832,2.2078329033098925,-3.432882847609548,-19.743783764636092,-18.30834108742617,4.444005860331089,5.188721588606242,4.852105516250276,26.842159478422467,5.781540279541957,-12.996370766222697,-13.567179154844936,-21.25311243583937,-3.278767317492168,-5.381615231213729,-5.646606310412011,13.575923367827656,11.381108320799285,13.850886037283644,4.951848751646011,-2.299933574056041,-17.522975776511373,19.302474406229834,8.521781448268044,5.8483458596180355,7.679233813252779,-1.7379764186193825,-8.127366694625323,0.8654948011265731,17.698925988483282,-3.8883074158510027,14.86618569998933,-5.4873097329373195,2.4549995951511363,6.693230897767819,-3.916895059991319,-14.78806074401109,16.935420944862926,-12.831701520857422,12.071152530325435,-7.108726696421044,-19.20471535918827,-5.60749013237033,-4.857773967955751,7.6756010900212885,4.036151807047062,4.42447403860352,-1.6490874213451718,11.805338771939049,6.041360458493301,-3.0526855214546345,1.3367353923419216,-0.24179603769299263,8.540600427408691,2.477013768717555,6.9511616525069115,-7.98558466037791,7.878767154706097,9.959176940795004,-13.08093956941947,-3.3270780998833374,12.413173679311484,6.1763076239771095,-3.4112896632743315,2.470201383166355,1.7662922183568526,3.906900887071359,-6.230298254570599,8.974741886402867,14.492406108587858,-14.513069963719943,1.3626323225663057,-1.5185419518647905,-4.5181463018692085,10.690667698415353,4.395560119009772,5.113602691358892,-5.794947946900351,1.7153382642595858,9.775621549286711,-1.2327251794528422,3.5083601925797723,-2.250010468956191,6.000285405708638,-6.925504614073233,1.9131872664940914,3.6056579641390556,-10.436855944518939,-6.325535724031852,2.5547383302322118,16.44935984576111,3.9259949527125286,2.3496898283679712,9.07390804782763,9.756728595052266,-14.508019915667347,2.038481836641637,11.745210936297411,-13.028199015471515,9.066397058209418,5.878187245257436,-17.011222937263256,-6.727142367314343,-2.830604314959089,-14.46119252540663,-1.3591864201727049,6.36471768758058,15.761566739219177,-7.907192253975396,-11.062815694893914,10.245289196828125,13.807151723245681,-8.043011962010723,-21.51521389858273,5.7320776279103995,6.700561307769689,0.47113821951690227,8.843816342146084,-1.989679032315621,9.616388292300641,1.4210337292811772,12.770668469524324,9.34271716631207,-11.763384821587508,-0.8466508722604971,2.42221093242955,18.918172059750248,-11.40056551690921,-6.7715267989932215,-3.4047120577255328,-15.57764920765375,-1.0357249096983878,15.11374907970007,8.20427678852326,7.229710755538605,7.918465366782925,-0.27132741716953035,11.307827918807192,-2.303760377998472,18.552934895890132,-2.7950950664113066,3.580651513797747,11.575901106083016,-7.917668545202815,1.2465924371127386,3.720774088510936,0.7534864195017832,-11.639769536572246,-11.916095674253867,3.6209057729029297,-12.132363268681061,-9.299058618260645,7.93231293802431,-16.998806947159437,-8.249553271813994,7.573539355057292,-3.4255607847982077,5.648793771278619,23.599081392921804,-2.0364533393714197,3.27016341352423,-5.459537424495153,-5.47538032898882,-8.969149685375129,4.201894691544567,4.43299148668207,3.3198189991433935,1.8749699131020066,6.32893341725908,-1.7248660439741172,2.4214066339333016,-4.2665784403154134,14.275566014080852,6.642134488685173,-0.353178274496841,10.083781269158933,17.500203103182812,-24.266128707030163,10.44018734203999,9.653329657685177,-5.6594164279319585,2.8422240046985507,0.26295533657268777,4.091514192119817,7.774706661628372,-0.6513374293614049,-6.190924937737265,13.133970482655343,-2.7997235448315365,3.002534551896204,1.7260323188646396,-0.35231876969190523,9.05539353118479,3.2621769823940525,-2.8416352492767487,9.59152548341028,-3.4774743677628237,-10.341058769199662,-6.086726897598254,7.382295126049357,-4.438470700688725,1.0633834014773527,6.668188725190561,3.367813537446864,-8.33373476544547,4.339829909875718,-26.336730631821112,-3.898301600085432,8.326458245753216,-3.2485502963729402,-3.085186892307078,-13.98269842656326,0.0881396023197425,7.710158790723469,5.997593244290329,7.978142891353201,-8.606844481816267,-5.38822732955434,-1.2389085995499443,-3.0272427547295138,4.403915366034084,-13.906702741997648,3.6042983759887903,1.7588114835492945,1.9343439685598582,-10.161679810000749,12.586181358528833,6.684102619525035,-14.45946805933744,-0.7610571752162159,-0.815308837209173,1.0873186143847846,1.7292197149704691,-6.03595311448634,1.623497018115799,-3.1354625208775673,14.922576962246495,15.960526791459898,2.4290010476800887,1.2407084901281138,-15.971649071569672,3.5448193682632905,-2.5548512068968563,-2.572908039272363,5.889096709959141,-12.100631819481166,-10.271006202268396,12.368225062412506,-0.0656140792638098,4.2791150566863365,-9.26699588210559,-0.7072500135180348,-8.5151405272006,2.945162267939125,-4.415905851910708,-10.212909874168616,-6.280227835277913,13.55460838753887,6.26199480233889,1.028400457528278,10.885370420489807,2.3569191988670752,-9.486850353440914,-13.46632448464355,1.966438972815169,-2.2212229355306476,13.621932308416078,-16.991072797714907,-13.074702717129924,6.789709174979322,-0.5827438794377997,-11.137072193453776,-5.91889571725028,-0.5881920795676479,18.837119198875783,-3.4441133210537487,2.946619260498551,12.674630937803897,-5.605314447747787,4.9568085975647875,13.28023374075083,-2.4681706013720515,-15.38729752356548,-11.936952287665136,16.6614695223699,-7.4481002713255435,1.9415819555175773,1.0706241052003378,24.078822213261574,-23.60251683072849,26.841884913939694,8.063154268893797,2.334822347450924,6.846385218185162,0.4125367075998412,-12.560779329215904,21.912463985118748,5.979102606645526,-5.242023348048349,-10.080345511612052,11.94832341221074,0.38430551607295627,-12.49263894426646,13.267608770734384,1.9466042678826767,-1.5775962744442893,-3.9918602019122744,1.3105823839550226,9.7880990026201,-12.081422632448266,-3.3391338958806642,5.742456131132968,7.0364288334635745,18.11101966693839,-4.253930003438171,7.137863319235038,4.551482207596166,-21.537306125395105,2.1994536887138025,-11.25592258287908,-15.80356684543456,13.398436318079021,0.7224954881053236,-3.3859395274238153,9.191985054922228,-16.92490508262803,-12.481505074942845,-12.630796847899305,0.14996838746871788,-26.22427136376436,18.997135178978112,3.9168542543511933,6.547905787073731,10.91440457456359,-8.758896432496854,-0.7897061958883,-8.784472229284056,-3.3253215899056983,-15.808240410496353,-7.534268298815391,-6.640441772647648,-1.718260400670573,-0.6168846938273163,10.965630846305253,-9.606006034136385,-14.160619330830954,-8.158396724321236,0.6990239102046303,-4.645365923280579,-4.82273012201216,-2.6618068129538273,1.6778090530412157,-10.33166631505759,0.23953181142204727,20.405756125616264,-15.60436136308536,-12.51789064465811,-6.071458782398494,11.561059276434762,7.646369636981333,10.90457872853574,-16.141469463902325,8.961087620399454,12.481946981184834,12.058787902910694,7.505515854547198,6.551117162339381,9.529799612918467,7.976117246015619,16.202701940776763,-10.825863776883324,-0.6354972320196879,-5.087944473516444,-7.330114602385166,-0.025410302444015542,3.1963277442256555,6.21786976804438,-0.8411782190185448,-11.064258750832963,4.483342136118978,-10.400717533651829,-16.886953355667302,-0.33110964227847717,-7.852890424551063,3.689768853732275,-6.904608165616878,15.82947737004801,-5.708241091215456,-6.862856424402395,-1.1936478914997366,-10.342913085386357,14.359899429182875,-17.52070979027465,0.8639468263037031,-12.02806725601333,1.934493227591659,-7.096673970928052,3.912413903988991,1.0031949362634265,0.7906885353506397,-0.8871316431893064,5.867776637186168,-27.91036505553504,-17.22788716108073,-4.390514742583207,-4.491468272611172,3.3149761462809124,9.289821677712524,-5.728727701554959,2.767534047673081,-5.297403964422216,-5.376324405495723,23.58665720986346,-7.831221024841938,2.444066369562904,3.3386504236817416,8.53456476699067,17.43953496549456,2.475227139283632,14.59789480684293,-8.616148420030854,-1.4225410749983354,-8.88528593573244,10.859359102688074,-10.64506403221607,7.712430615735855,-4.524415357421546,1.9101798848395362,-2.9568378238712256,-16.326863735647535,-8.245833986906206,18.8307198840304,-8.887722528543335,1.325213627479684,-13.794244622776006,5.500106295956144,8.649720093144808,-4.2439918130812515,-5.576906055552769,5.561402990713901,-4.183670092546464,8.799916254436113,-6.421966508021342,-21.48016611357744,7.310922718186632,7.645606554590259,-8.313231202754693,0.1284219030659699,-8.333561590459453,-10.164062396418899,0.4429592263646498,5.312643670540496,-10.545147818121919,-6.628576806267688,1.7959622429315658,6.52315195402754,-15.887361171104416,-5.958703336136452,-6.012930123913264,-7.227647338164857,-13.296390287018454,-1.8389762645119703,-27.239334874121226,-11.59994127490208,3.5317951005466455,-10.26600888680234,-4.586352790583405,5.695264223508673,-8.7108272546361,11.704888175029396,-6.805571972215446,10.547249501373116,0.737067468189025,-4.589966703943844,13.825848953341222,3.921508086869821,-6.547819483840897,-8.30185365454264,-0.9033234177864244,-8.94711828493459,3.855063081958363,7.261593464452773,-17.833487974053128,-17.154111817825267,11.252308745536695,3.683722344817454,0.13349397398650353,10.83637657952842,-16.098147871476016,-7.127793613067155,-9.41322603653228,-15.094056702003485,5.807930997116017,3.0828746135124163,-8.368678821477843,-0.8407806402137936,9.356427574684858,-6.2665921591169536,-8.026548682135967,7.8305949023522885,14.61931544572613,-8.36342595086262,10.415043348248531,-3.8926853890645248,14.019767352918407,-17.514842609892426,-6.422933952921298,-9.87925245447083,0.800283020213314,-1.9017038426123065,15.80028792829738,0.8299821733805146,-11.599068420374067,2.7253658425525487,5.704579447550614,4.458920126834627,-0.6775140419400145,-4.168264686921219,-5.946381485208846,-6.471865396634293,3.9149205576679265,2.6182352325271125,0.2565203944695327,1.3186336799674336,5.45388073077973,-3.5244390377720123,-19.331781277003245,3.1464379092102064,8.269211567805712,-13.628422745873351,17.67523808672472,-9.544833786439199,9.070053902373814,3.9101679158704314,18.282206057514706,-2.3233905739125476,-1.5477044268689895,5.470366814136852,-6.751101447041137,0.6192240472709329,7.536479949439254,-6.889359155947815,2.0046911466270387,7.416849922467762,-6.913210382482603,-5.461926164365963,2.4773537472621,2.3409669345448805,12.155937580847507,-7.156853121233411,6.030876413577815,-1.77065221504607,2.2333137147015236,-8.95095071807036,5.886630397527767,5.83317842274964,6.183519831135186,4.102607419185958,-10.540721151877833,-21.655951225939816,-15.038539668963836,2.8283712597885398,6.468644354868125,13.371574937235692,-7.068693978419191,-13.265818254984325,-9.274103745362552,5.226865595033615,6.543404128088326,14.072846209900263,5.000804912736356,-9.06336074447286,8.839707655820717,19.095695481428365,-3.1729069241104355,1.0127480877569326,6.983937294631218,24.259105648384715,6.989387310767,4.844368241253946,-14.411951563305664,19.940155003687323,-11.874495762980914,-0.5485836215396205,-0.5581368570229017,-14.794839869224234,-5.163098683247412,-4.548725948194118,1.8751034864367,-9.592578501501094,-2.7962403160161102,-16.993845246357246,-3.4200945753494523,11.789271026776163,-3.173717016712814,14.868928207528725,6.92985487261646,4.113779234575944,0.8912629665443035,-10.107207647354628,14.031435503150036,3.4790269352389913,-4.606348822907066,-1.0625683421836243,6.616170151581571,0.3312641606901252,13.555163203030105,-14.20250662357212,-4.249845506742503,4.6013474275075765,-3.4892171403871544,-1.627877455138531,-11.52649595382232,9.39577863128244,13.40426978873559,-13.175997003431434,-7.301955322042943,-2.5312056574157964,4.573024991913613,-17.051206068187696,2.7503857575939605,4.90885552124341,8.575767314852953,-12.566197967268351,13.908664613853531,2.6783813516256316,-10.11262725824831,-12.850198701919012,-11.358740674397083,10.531100783661628,2.0846814306488994,-5.36815758074853,0.692703046314179,-0.5432530070587092,-23.370198650383543,-4.711087756840584,-2.9261786320689396,-5.226668255337728,15.942557488916506,6.255838654147851,12.211251487367136,-0.9678676185101835,-9.464214613256928,7.393370911694134,3.159046863259036,0.26652415826880826,5.368633462123313,-0.41858773394633886,-0.5965733491768646,4.231197989887704,-7.410927013215698,5.433308616827944,-6.116812940677491,-3.8134101416432458,-25.099186871723248,-0.6621555574445637,0.27652387045678495,14.096853685612558,3.0687215489647173,-28.120335425589985,-16.377516683934928,-13.077765937928675,-23.816412120679985,32.16777562362102,-23.538634796902613,-8.45160434046737,3.973499725534751,-9.853440916887038,-18.27936511839752,5.0483275050147824,4.304187393225021,4.750403594464046,13.909961115451196,-2.6130483179248074,5.87740573153458,-12.612955039599768,6.305162363329941,10.37439108910634,-11.663665974891472,12.144726336096596,-15.218811537257238,11.274252861430028,-3.823659305101984,-11.935906084402632,14.095337631422808,-2.214770169329185,-0.0009534631903846957,4.8271902543098975,2.70916290113216,7.2351647447390945,7.36885047867375,1.955630688880177,-10.503958668106513,13.610859941862103,23.901438274829687,4.347144841340295,3.0517950975995234,-9.323611880032729,8.369889820303683,3.629773124960309,10.514312360741272,-3.8897411920851255,2.3049861149906974,-6.062320675302431,-5.811698730061607,11.844149646399572,1.2857023269557288,15.154520975497562,-1.173841043214935,-3.0893316810237934,8.11847142057431,-3.8238077532442816,-3.06749419946955,21.691565245865277,-6.302954069080286,11.074522301341318,-4.844828240943144,3.3607784914045737,-7.602290318490304,6.320419912766539,8.89013526707005,-10.259900742076297,-4.130072514520904,0.1442522229983183,13.584117152505442,19.789586172626002,-19.054218780551693,12.607966848874327,-13.13700437665247,3.6086728026155157,-4.816596641209458,10.485362496384539,0.7188916341005012,-0.24910004433404254,13.386085330137576,-6.529103787386987,-1.3733689841773185,3.235202176909624,4.674199306691136,-3.300841272737017,-0.7975574833779859,4.745005757695537,8.126203361517,-0.5415529249611524,10.600210282978253,-4.286216855811205,9.15754671573476,34.525051987987695,7.9434610127536445,1.4266004387856839,-11.004551125954038,5.010174874466145,0.038450660509397494,-10.201231635699827,-14.010541167772459,4.257878591260578,-16.00620711800488,6.315069415613209,1.4511419781519663,6.520666123387684,-12.55790548019263,-6.581748852055057,3.3709386331268405,2.522397427112608,-6.075076473519616,-1.8410219455975607,3.122582880830109,0.7114375494424081,11.840101197608874,1.1647062921801563,1.7194876468861082,-3.5438410343755464,27.158772545206077,-2.395865374570718,2.7499842583668794,15.65928134674256,13.08489339646519,4.490157606052023,-6.696500777778482,-1.3742214360143805,1.5720263446430494,8.094314437594818,-9.284724950634768,3.7675567864875887,-19.234645269484332,-6.132840891685561,14.424696042657928,9.444615150239116,-16.10073794592951,-3.300442276339794,15.372647992195965,3.9580816814889204,-2.2968059756165786,8.63109145844922,-9.608618879077454,2.6623240673094415,-4.15573362401264,7.36504126957044,0.12219056626437919,14.573116381683263,20.898001852621007,14.699093915290533,-1.9939808528446292,-9.319961216953416,1.9735193532154938,9.56693624946395,0.7688234280870034,-0.7252376276348826,-4.403128611744478,-5.158402152325266,6.694183025217299,14.33884741139876,-0.9365297634955425,10.290633586887914,-3.4964782046312877,4.875620452238778,-9.948569901928664,19.57377790670793,-13.514130016526323,-14.15335119257071,11.178391713601442,7.37578641378046,14.081101346818514,7.79866166365602,-2.6573211117001563,8.139566187397833,9.655921487964676,-10.269733624627136,4.278632837566846,-9.954005278678494,5.844121657092913,-0.5103996649932157,-6.6175056375644346,-17.031622714436295,15.140392966425566,-13.21431844429722,7.372138564645624,13.818856528069205,-4.389440678658417,-8.283537120976774,2.232897853262287,10.368237634533088,-1.1736249633067644,2.05528509014988,4.985904124819257,1.3217479044193112,8.156933949851819,-7.592372150010831,-6.25862673141846,5.875193641583309,-3.9814612457572167,20.133941384837087,-9.598037306340373,-6.244036159052982,0.6556611135205088,8.780311284602035,-1.0306290472107662,8.115067421511426,-3.089900963166471,-1.046062590857133,-9.699269885671114,1.265004472107222,1.0416581292223697,2.0610111622211633,4.321083915402852,25.025168812826763,-16.069196053495915,-14.452326192814326,3.6387640039298574,7.397204499757294,20.54779965916012,-14.461636558707198,-3.6511188597991406,-3.5756082585129576,-11.322119150222619,9.77926597509142,2.1420036751813143,-2.742054516033676,-14.824801605917827,-3.234308447997023,-13.387309549960264,-14.505517320416644,8.403409511497784,-11.370309300083072,8.783943144381055,0.48748581090397636,-17.54822643995962,7.130789210744126,10.859249992984758,-1.597766809407787,-5.392629010953485,6.540386798352799,-10.24404835711836,2.3492310931753337,1.9271613631143083,-8.399451806694387,5.679108163051737,10.656352852316388,0.6469431403999124,17.515092682875817,-1.7289015507520276,2.161373875484969,-10.261424034244527,13.843494998875727,-4.753019682858124,18.264151963023934,8.217733748531586,6.177153892589786,3.8770481378830652,1.2269729339623154,0.3305477223151456,6.324334248447059,-5.845778403590714,-5.304504538282828,-15.06438052027957,-7.999212502918056,6.8912792094542255,-9.959959612783521,16.256303878474128,0.22657294803653372,20.095696957759912,-6.254139707349637,-15.083350858232905],\"xaxis\":\"x\",\"yaxis\":\"y\",\"type\":\"histogram\"}],                        {\"template\":{\"data\":{\"histogram2dcontour\":[{\"type\":\"histogram2dcontour\",\"colorbar\":{\"outlinewidth\":0,\"ticks\":\"\"},\"colorscale\":[[0.0,\"#0d0887\"],[0.1111111111111111,\"#46039f\"],[0.2222222222222222,\"#7201a8\"],[0.3333333333333333,\"#9c179e\"],[0.4444444444444444,\"#bd3786\"],[0.5555555555555556,\"#d8576b\"],[0.6666666666666666,\"#ed7953\"],[0.7777777777777778,\"#fb9f3a\"],[0.8888888888888888,\"#fdca26\"],[1.0,\"#f0f921\"]]}],\"choropleth\":[{\"type\":\"choropleth\",\"colorbar\":{\"outlinewidth\":0,\"ticks\":\"\"}}],\"histogram2d\":[{\"type\":\"histogram2d\",\"colorbar\":{\"outlinewidth\":0,\"ticks\":\"\"},\"colorscale\":[[0.0,\"#0d0887\"],[0.1111111111111111,\"#46039f\"],[0.2222222222222222,\"#7201a8\"],[0.3333333333333333,\"#9c179e\"],[0.4444444444444444,\"#bd3786\"],[0.5555555555555556,\"#d8576b\"],[0.6666666666666666,\"#ed7953\"],[0.7777777777777778,\"#fb9f3a\"],[0.8888888888888888,\"#fdca26\"],[1.0,\"#f0f921\"]]}],\"heatmap\":[{\"type\":\"heatmap\",\"colorbar\":{\"outlinewidth\":0,\"ticks\":\"\"},\"colorscale\":[[0.0,\"#0d0887\"],[0.1111111111111111,\"#46039f\"],[0.2222222222222222,\"#7201a8\"],[0.3333333333333333,\"#9c179e\"],[0.4444444444444444,\"#bd3786\"],[0.5555555555555556,\"#d8576b\"],[0.6666666666666666,\"#ed7953\"],[0.7777777777777778,\"#fb9f3a\"],[0.8888888888888888,\"#fdca26\"],[1.0,\"#f0f921\"]]}],\"heatmapgl\":[{\"type\":\"heatmapgl\",\"colorbar\":{\"outlinewidth\":0,\"ticks\":\"\"},\"colorscale\":[[0.0,\"#0d0887\"],[0.1111111111111111,\"#46039f\"],[0.2222222222222222,\"#7201a8\"],[0.3333333333333333,\"#9c179e\"],[0.4444444444444444,\"#bd3786\"],[0.5555555555555556,\"#d8576b\"],[0.6666666666666666,\"#ed7953\"],[0.7777777777777778,\"#fb9f3a\"],[0.8888888888888888,\"#fdca26\"],[1.0,\"#f0f921\"]]}],\"contourcarpet\":[{\"type\":\"contourcarpet\",\"colorbar\":{\"outlinewidth\":0,\"ticks\":\"\"}}],\"contour\":[{\"type\":\"contour\",\"colorbar\":{\"outlinewidth\":0,\"ticks\":\"\"},\"colorscale\":[[0.0,\"#0d0887\"],[0.1111111111111111,\"#46039f\"],[0.2222222222222222,\"#7201a8\"],[0.3333333333333333,\"#9c179e\"],[0.4444444444444444,\"#bd3786\"],[0.5555555555555556,\"#d8576b\"],[0.6666666666666666,\"#ed7953\"],[0.7777777777777778,\"#fb9f3a\"],[0.8888888888888888,\"#fdca26\"],[1.0,\"#f0f921\"]]}],\"surface\":[{\"type\":\"surface\",\"colorbar\":{\"outlinewidth\":0,\"ticks\":\"\"},\"colorscale\":[[0.0,\"#0d0887\"],[0.1111111111111111,\"#46039f\"],[0.2222222222222222,\"#7201a8\"],[0.3333333333333333,\"#9c179e\"],[0.4444444444444444,\"#bd3786\"],[0.5555555555555556,\"#d8576b\"],[0.6666666666666666,\"#ed7953\"],[0.7777777777777778,\"#fb9f3a\"],[0.8888888888888888,\"#fdca26\"],[1.0,\"#f0f921\"]]}],\"mesh3d\":[{\"type\":\"mesh3d\",\"colorbar\":{\"outlinewidth\":0,\"ticks\":\"\"}}],\"scatter\":[{\"fillpattern\":{\"fillmode\":\"overlay\",\"size\":10,\"solidity\":0.2},\"type\":\"scatter\"}],\"parcoords\":[{\"type\":\"parcoords\",\"line\":{\"colorbar\":{\"outlinewidth\":0,\"ticks\":\"\"}}}],\"scatterpolargl\":[{\"type\":\"scatterpolargl\",\"marker\":{\"colorbar\":{\"outlinewidth\":0,\"ticks\":\"\"}}}],\"bar\":[{\"error_x\":{\"color\":\"#2a3f5f\"},\"error_y\":{\"color\":\"#2a3f5f\"},\"marker\":{\"line\":{\"color\":\"#E5ECF6\",\"width\":0.5},\"pattern\":{\"fillmode\":\"overlay\",\"size\":10,\"solidity\":0.2}},\"type\":\"bar\"}],\"scattergeo\":[{\"type\":\"scattergeo\",\"marker\":{\"colorbar\":{\"outlinewidth\":0,\"ticks\":\"\"}}}],\"scatterpolar\":[{\"type\":\"scatterpolar\",\"marker\":{\"colorbar\":{\"outlinewidth\":0,\"ticks\":\"\"}}}],\"histogram\":[{\"marker\":{\"pattern\":{\"fillmode\":\"overlay\",\"size\":10,\"solidity\":0.2}},\"type\":\"histogram\"}],\"scattergl\":[{\"type\":\"scattergl\",\"marker\":{\"colorbar\":{\"outlinewidth\":0,\"ticks\":\"\"}}}],\"scatter3d\":[{\"type\":\"scatter3d\",\"line\":{\"colorbar\":{\"outlinewidth\":0,\"ticks\":\"\"}},\"marker\":{\"colorbar\":{\"outlinewidth\":0,\"ticks\":\"\"}}}],\"scattermapbox\":[{\"type\":\"scattermapbox\",\"marker\":{\"colorbar\":{\"outlinewidth\":0,\"ticks\":\"\"}}}],\"scatterternary\":[{\"type\":\"scatterternary\",\"marker\":{\"colorbar\":{\"outlinewidth\":0,\"ticks\":\"\"}}}],\"scattercarpet\":[{\"type\":\"scattercarpet\",\"marker\":{\"colorbar\":{\"outlinewidth\":0,\"ticks\":\"\"}}}],\"carpet\":[{\"aaxis\":{\"endlinecolor\":\"#2a3f5f\",\"gridcolor\":\"white\",\"linecolor\":\"white\",\"minorgridcolor\":\"white\",\"startlinecolor\":\"#2a3f5f\"},\"baxis\":{\"endlinecolor\":\"#2a3f5f\",\"gridcolor\":\"white\",\"linecolor\":\"white\",\"minorgridcolor\":\"white\",\"startlinecolor\":\"#2a3f5f\"},\"type\":\"carpet\"}],\"table\":[{\"cells\":{\"fill\":{\"color\":\"#EBF0F8\"},\"line\":{\"color\":\"white\"}},\"header\":{\"fill\":{\"color\":\"#C8D4E3\"},\"line\":{\"color\":\"white\"}},\"type\":\"table\"}],\"barpolar\":[{\"marker\":{\"line\":{\"color\":\"#E5ECF6\",\"width\":0.5},\"pattern\":{\"fillmode\":\"overlay\",\"size\":10,\"solidity\":0.2}},\"type\":\"barpolar\"}],\"pie\":[{\"automargin\":true,\"type\":\"pie\"}]},\"layout\":{\"autotypenumbers\":\"strict\",\"colorway\":[\"#636efa\",\"#EF553B\",\"#00cc96\",\"#ab63fa\",\"#FFA15A\",\"#19d3f3\",\"#FF6692\",\"#B6E880\",\"#FF97FF\",\"#FECB52\"],\"font\":{\"color\":\"#2a3f5f\"},\"hovermode\":\"closest\",\"hoverlabel\":{\"align\":\"left\"},\"paper_bgcolor\":\"white\",\"plot_bgcolor\":\"#E5ECF6\",\"polar\":{\"bgcolor\":\"#E5ECF6\",\"angularaxis\":{\"gridcolor\":\"white\",\"linecolor\":\"white\",\"ticks\":\"\"},\"radialaxis\":{\"gridcolor\":\"white\",\"linecolor\":\"white\",\"ticks\":\"\"}},\"ternary\":{\"bgcolor\":\"#E5ECF6\",\"aaxis\":{\"gridcolor\":\"white\",\"linecolor\":\"white\",\"ticks\":\"\"},\"baxis\":{\"gridcolor\":\"white\",\"linecolor\":\"white\",\"ticks\":\"\"},\"caxis\":{\"gridcolor\":\"white\",\"linecolor\":\"white\",\"ticks\":\"\"}},\"coloraxis\":{\"colorbar\":{\"outlinewidth\":0,\"ticks\":\"\"}},\"colorscale\":{\"sequential\":[[0.0,\"#0d0887\"],[0.1111111111111111,\"#46039f\"],[0.2222222222222222,\"#7201a8\"],[0.3333333333333333,\"#9c179e\"],[0.4444444444444444,\"#bd3786\"],[0.5555555555555556,\"#d8576b\"],[0.6666666666666666,\"#ed7953\"],[0.7777777777777778,\"#fb9f3a\"],[0.8888888888888888,\"#fdca26\"],[1.0,\"#f0f921\"]],\"sequentialminus\":[[0.0,\"#0d0887\"],[0.1111111111111111,\"#46039f\"],[0.2222222222222222,\"#7201a8\"],[0.3333333333333333,\"#9c179e\"],[0.4444444444444444,\"#bd3786\"],[0.5555555555555556,\"#d8576b\"],[0.6666666666666666,\"#ed7953\"],[0.7777777777777778,\"#fb9f3a\"],[0.8888888888888888,\"#fdca26\"],[1.0,\"#f0f921\"]],\"diverging\":[[0,\"#8e0152\"],[0.1,\"#c51b7d\"],[0.2,\"#de77ae\"],[0.3,\"#f1b6da\"],[0.4,\"#fde0ef\"],[0.5,\"#f7f7f7\"],[0.6,\"#e6f5d0\"],[0.7,\"#b8e186\"],[0.8,\"#7fbc41\"],[0.9,\"#4d9221\"],[1,\"#276419\"]]},\"xaxis\":{\"gridcolor\":\"white\",\"linecolor\":\"white\",\"ticks\":\"\",\"title\":{\"standoff\":15},\"zerolinecolor\":\"white\",\"automargin\":true,\"zerolinewidth\":2},\"yaxis\":{\"gridcolor\":\"white\",\"linecolor\":\"white\",\"ticks\":\"\",\"title\":{\"standoff\":15},\"zerolinecolor\":\"white\",\"automargin\":true,\"zerolinewidth\":2},\"scene\":{\"xaxis\":{\"backgroundcolor\":\"#E5ECF6\",\"gridcolor\":\"white\",\"linecolor\":\"white\",\"showbackground\":true,\"ticks\":\"\",\"zerolinecolor\":\"white\",\"gridwidth\":2},\"yaxis\":{\"backgroundcolor\":\"#E5ECF6\",\"gridcolor\":\"white\",\"linecolor\":\"white\",\"showbackground\":true,\"ticks\":\"\",\"zerolinecolor\":\"white\",\"gridwidth\":2},\"zaxis\":{\"backgroundcolor\":\"#E5ECF6\",\"gridcolor\":\"white\",\"linecolor\":\"white\",\"showbackground\":true,\"ticks\":\"\",\"zerolinecolor\":\"white\",\"gridwidth\":2}},\"shapedefaults\":{\"line\":{\"color\":\"#2a3f5f\"}},\"annotationdefaults\":{\"arrowcolor\":\"#2a3f5f\",\"arrowhead\":0,\"arrowwidth\":1},\"geo\":{\"bgcolor\":\"white\",\"landcolor\":\"#E5ECF6\",\"subunitcolor\":\"white\",\"showland\":true,\"showlakes\":true,\"lakecolor\":\"white\"},\"title\":{\"x\":0.05},\"mapbox\":{\"style\":\"light\"}}},\"xaxis\":{\"anchor\":\"y\",\"domain\":[0.0,1.0],\"title\":{\"text\":\"error\"}},\"yaxis\":{\"anchor\":\"x\",\"domain\":[0.0,1.0],\"title\":{\"text\":\"count\"}},\"legend\":{\"tracegroupgap\":0},\"margin\":{\"t\":60},\"barmode\":\"relative\",\"width\":800},                        {\"responsive\": true}                    ).then(function(){\n",
              "                            \n",
              "var gd = document.getElementById('f9f00d86-92a9-4783-909b-a3cdb0c86be0');\n",
              "var x = new MutationObserver(function (mutations, observer) {{\n",
              "        var display = window.getComputedStyle(gd).display;\n",
              "        if (!display || display === 'none') {{\n",
              "            console.log([gd, 'removed!']);\n",
              "            Plotly.purge(gd);\n",
              "            observer.disconnect();\n",
              "        }}\n",
              "}});\n",
              "\n",
              "// Listen for the removal of the full notebook cells\n",
              "var notebookContainer = gd.closest('#notebook-container');\n",
              "if (notebookContainer) {{\n",
              "    x.observe(notebookContainer, {childList: true});\n",
              "}}\n",
              "\n",
              "// Listen for the clearing of the current output cell\n",
              "var outputEl = gd.closest('.output');\n",
              "if (outputEl) {{\n",
              "    x.observe(outputEl, {childList: true});\n",
              "}}\n",
              "\n",
              "                        })                };                            </script>        </div>\n",
              "</body>\n",
              "</html>"
            ]
          },
          "metadata": {}
        }
      ]
    },
    {
      "cell_type": "markdown",
      "source": [
        "Mean Absolute Error - Średni błąd bezwzględny (Def. Suma różnic błędów (wartość bezwzględna) - nasze 'error' wyżej - dzielone przez liczbę tych błędów. Wychodzi średnia."
      ],
      "metadata": {
        "id": "dZA5tRzCwigT"
      }
    },
    {
      "cell_type": "code",
      "source": [
        "def mean_absolute_error(y_true, y_pred):\n",
        "  return abs(y_true-y_pred).sum() / len(y_true)\n",
        "\n",
        "mean_absolute_error(y_true, y_pred)"
      ],
      "metadata": {
        "colab": {
          "base_uri": "https://localhost:8080/"
        },
        "id": "B5NuEgBzwn7q",
        "outputId": "c7c2b9b4-5ce5-44eb-9b51-75ea1db8195e"
      },
      "execution_count": null,
      "outputs": [
        {
          "output_type": "execute_result",
          "data": {
            "text/plain": [
              "7.804876805083417"
            ]
          },
          "metadata": {},
          "execution_count": 4
        }
      ]
    },
    {
      "cell_type": "code",
      "source": [
        "# Można też importować tę funkcję, zamiast pisać swoją\n",
        "\n",
        "from sklearn.metrics import mean_absolute_error\n",
        "mean_absolute_error(y_true, y_pred)"
      ],
      "metadata": {
        "colab": {
          "base_uri": "https://localhost:8080/"
        },
        "id": "fTVU1PQfxqLK",
        "outputId": "b2a13492-45a7-40dc-9f28-2822754bb683"
      },
      "execution_count": null,
      "outputs": [
        {
          "output_type": "execute_result",
          "data": {
            "text/plain": [
              "7.804876805083417"
            ]
          },
          "metadata": {},
          "execution_count": 6
        }
      ]
    },
    {
      "cell_type": "markdown",
      "source": [
        "Mean Squared Error - Błąd średniokwadratowy (MSE)"
      ],
      "metadata": {
        "id": "i84owstCx6la"
      }
    },
    {
      "cell_type": "code",
      "source": [
        "from sklearn.metrics import mean_squared_error\n",
        "mean_squared_error(y_true, y_pred)"
      ],
      "metadata": {
        "colab": {
          "base_uri": "https://localhost:8080/"
        },
        "id": "-9ev5gpnyESb",
        "outputId": "996447a4-e221-4dc0-e816-26af1049644b"
      },
      "execution_count": null,
      "outputs": [
        {
          "output_type": "execute_result",
          "data": {
            "text/plain": [
              "99.50495580623672"
            ]
          },
          "metadata": {},
          "execution_count": 7
        }
      ]
    },
    {
      "cell_type": "markdown",
      "source": [
        "Root Mean Squared Error - Pierwiastek błędu średniokwadratowego (RMSE)\n",
        "\n",
        "Mówi o tym, jak średnio nasze predykcje odbiegają od wartości prawdziwych."
      ],
      "metadata": {
        "id": "oo_lcLLg0ciD"
      }
    },
    {
      "cell_type": "code",
      "source": [
        "np.sqrt(mean_squared_error(y_true, y_pred))"
      ],
      "metadata": {
        "colab": {
          "base_uri": "https://localhost:8080/"
        },
        "id": "AjzyqLKn0vxk",
        "outputId": "3d91b219-e5c8-4ac4-9ed0-f1fa6c6d67ee"
      },
      "execution_count": null,
      "outputs": [
        {
          "output_type": "execute_result",
          "data": {
            "text/plain": [
              "9.975217080657279"
            ]
          },
          "metadata": {},
          "execution_count": 8
        }
      ]
    },
    {
      "cell_type": "markdown",
      "source": [
        "Max error - Błąd maksymalny\n",
        "\n",
        "Wykorzystujemy, jak chcemy wiedzieć, jaki maksymalny błąd popełnia nasz model\n",
        "\n",
        "Wykorzystujemy także gdy wiemy, że musimy mieć model, który popełnia maksymalny błąd np. na poziomie 30."
      ],
      "metadata": {
        "id": "S1ngNg0805WJ"
      }
    },
    {
      "cell_type": "code",
      "source": [
        "max(y_true - y_pred)"
      ],
      "metadata": {
        "colab": {
          "base_uri": "https://localhost:8080/"
        },
        "id": "N1vrBxV__go0",
        "outputId": "78cebb1f-f2bc-4359-b968-a4a18a656f10"
      },
      "execution_count": 4,
      "outputs": [
        {
          "output_type": "execute_result",
          "data": {
            "text/plain": [
              "34.525051987987695"
            ]
          },
          "metadata": {},
          "execution_count": 4
        }
      ]
    },
    {
      "cell_type": "markdown",
      "source": [
        "R2 score"
      ],
      "metadata": {
        "id": "mbrsc_B5D6vD"
      }
    },
    {
      "cell_type": "code",
      "source": [
        "from sklearn.metrics import r2_score\n",
        "r2_score(y_true, y_pred)"
      ],
      "metadata": {
        "colab": {
          "base_uri": "https://localhost:8080/"
        },
        "id": "EsQiEw7rD8X1",
        "outputId": "024ee05b-fb4f-43dd-e62d-cdd6407318d0"
      },
      "execution_count": 5,
      "outputs": [
        {
          "output_type": "execute_result",
          "data": {
            "text/plain": [
              "0.7720764814717038"
            ]
          },
          "metadata": {},
          "execution_count": 5
        }
      ]
    },
    {
      "cell_type": "code",
      "source": [],
      "metadata": {
        "id": "DWDaGWGz07pj"
      },
      "execution_count": null,
      "outputs": []
    }
  ]
}