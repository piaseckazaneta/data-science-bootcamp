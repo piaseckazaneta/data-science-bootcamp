{
  "nbformat": 4,
  "nbformat_minor": 0,
  "metadata": {
    "colab": {
      "provenance": [],
      "authorship_tag": "ABX9TyPT1BD5IMTA4hgwudd7ZiC3",
      "include_colab_link": true
    },
    "kernelspec": {
      "name": "python3",
      "display_name": "Python 3"
    },
    "language_info": {
      "name": "python"
    }
  },
  "cells": [
    {
      "cell_type": "markdown",
      "metadata": {
        "id": "view-in-github",
        "colab_type": "text"
      },
      "source": [
        "<a href=\"https://colab.research.google.com/github/piaseckazaneta/data-science-bootcamp/blob/main/regresja_metrics.ipynb\" target=\"_parent\"><img src=\"https://colab.research.google.com/assets/colab-badge.svg\" alt=\"Open In Colab\"/></a>"
      ]
    },
    {
      "cell_type": "code",
      "execution_count": null,
      "metadata": {
        "id": "WBruYZPBv_7e"
      },
      "outputs": [],
      "source": []
    },
    {
      "cell_type": "markdown",
      "source": [
        "Metryki - regresja"
      ],
      "metadata": {
        "id": "6wzrlsNswP3X"
      }
    },
    {
      "cell_type": "code",
      "source": [
        "import numpy as np\n",
        "import pandas as pd\n",
        "import plotly.express as px\n",
        "import plotly.graph_objects as go"
      ],
      "metadata": {
        "id": "YFynwzk9wfxm"
      },
      "execution_count": 2,
      "outputs": []
    },
    {
      "cell_type": "code",
      "source": [
        "# Wygenerowanie danych - wygenerowanie liczb z rozkładu normalnego (+100, aby to były liczby w zakresie 100 i 20 odchylenie standardowe (*20))\n",
        "# Załóżny, że są to dane prawdziwe - np. ceny akcji na giełdzie\n",
        "y_true = 100 + 20 * np.random.randn(50)\n",
        "y_true"
      ],
      "metadata": {
        "colab": {
          "base_uri": "https://localhost:8080/"
        },
        "id": "suFFqG6nwxrE",
        "outputId": "0d2ef684-dc9f-45ce-dc3e-c96b0cedf6a5"
      },
      "execution_count": null,
      "outputs": [
        {
          "output_type": "execute_result",
          "data": {
            "text/plain": [
              "array([119.41975938,  77.8482914 ,  80.38694832, 103.44865272,\n",
              "        77.76418492, 100.41373624, 108.36372079,  83.82100539,\n",
              "        93.64037939,  91.3671538 ,  72.96484346,  75.16325514,\n",
              "       115.43935573, 136.11519143, 109.23107582, 100.94036325,\n",
              "        70.9387508 , 106.09625738, 110.346462  , 110.36877989,\n",
              "        89.20082008,  87.01547483, 126.09940584,  88.946779  ,\n",
              "        99.41432652, 102.06358953, 107.58438196, 103.10156622,\n",
              "        89.64691403, 113.05533563,  88.08250697, 102.00698357,\n",
              "        85.30674123, 100.36025044, 108.71829109,  94.79192572,\n",
              "       109.33474944, 112.73215984, 100.27997271,  75.07095531,\n",
              "        89.74345672, 139.17334558, 122.07963729, 106.3068585 ,\n",
              "       108.34527708, 100.9499935 , 109.83736814, 121.91335757,\n",
              "       126.64899252,  95.6787189 ])"
            ]
          },
          "metadata": {},
          "execution_count": 3
        }
      ]
    },
    {
      "cell_type": "code",
      "source": [
        "y_pred = y_true + 10 * np.random.randn(50)\n",
        "y_pred"
      ],
      "metadata": {
        "colab": {
          "base_uri": "https://localhost:8080/"
        },
        "id": "P8WgQCSCxbTo",
        "outputId": "059c9924-1c60-461a-f1c0-0c2e4e7facfb"
      },
      "execution_count": null,
      "outputs": [
        {
          "output_type": "execute_result",
          "data": {
            "text/plain": [
              "array([113.52705892,  84.24471083,  75.72799692, 112.61053121,\n",
              "        90.28920741, 107.36052622, 119.79979754,  71.4371488 ,\n",
              "        96.75786898,  93.71360709,  76.6870883 ,  73.15945453,\n",
              "       113.70225111, 145.1930074 , 118.90754615, 110.9264643 ,\n",
              "        58.48312398,  90.91441959, 116.70345309,  99.95750729,\n",
              "        99.07169615,  98.46492834, 123.37920215,  73.64471993,\n",
              "        93.79134069, 109.30659207, 126.73857287,  84.84083549,\n",
              "        93.43237497, 114.33895549,  93.78450248,  80.41003985,\n",
              "        85.07736131,  95.90817589, 113.34583606, 106.16760138,\n",
              "       108.10692006, 104.38343206,  91.32042416,  52.44353798,\n",
              "        86.89632885, 132.62065746, 114.00923558,  97.2704242 ,\n",
              "       117.24714752,  81.63003946, 102.28133854,  98.20862011,\n",
              "       142.44889653, 106.59731686])"
            ]
          },
          "metadata": {},
          "execution_count": 5
        }
      ]
    },
    {
      "cell_type": "code",
      "source": [
        "# Tworzymy DataFrame, co pozwoli na stworzenie wykresu do interpretacji graficznej - TRZEBA ZAMIENIĆ NA DATA FRAME"
      ],
      "metadata": {
        "id": "_SVObV1sx-vT"
      },
      "execution_count": null,
      "outputs": []
    },
    {
      "cell_type": "code",
      "source": [
        "results = pd.DataFrame({'y_true': y_true, 'y_pred': y_pred})\n",
        "results.head()"
      ],
      "metadata": {
        "colab": {
          "base_uri": "https://localhost:8080/",
          "height": 206
        },
        "id": "HF5vFBzCyFs7",
        "outputId": "5cd327f1-0322-4611-bbc0-483a1544a066"
      },
      "execution_count": null,
      "outputs": [
        {
          "output_type": "execute_result",
          "data": {
            "text/plain": [
              "       y_true      y_pred\n",
              "0  119.419759  113.527059\n",
              "1   77.848291   84.244711\n",
              "2   80.386948   75.727997\n",
              "3  103.448653  112.610531\n",
              "4   77.764185   90.289207"
            ],
            "text/html": [
              "\n",
              "  <div id=\"df-07d75f0b-26fa-4f6f-bc98-d37360a5ecd8\" class=\"colab-df-container\">\n",
              "    <div>\n",
              "<style scoped>\n",
              "    .dataframe tbody tr th:only-of-type {\n",
              "        vertical-align: middle;\n",
              "    }\n",
              "\n",
              "    .dataframe tbody tr th {\n",
              "        vertical-align: top;\n",
              "    }\n",
              "\n",
              "    .dataframe thead th {\n",
              "        text-align: right;\n",
              "    }\n",
              "</style>\n",
              "<table border=\"1\" class=\"dataframe\">\n",
              "  <thead>\n",
              "    <tr style=\"text-align: right;\">\n",
              "      <th></th>\n",
              "      <th>y_true</th>\n",
              "      <th>y_pred</th>\n",
              "    </tr>\n",
              "  </thead>\n",
              "  <tbody>\n",
              "    <tr>\n",
              "      <th>0</th>\n",
              "      <td>119.419759</td>\n",
              "      <td>113.527059</td>\n",
              "    </tr>\n",
              "    <tr>\n",
              "      <th>1</th>\n",
              "      <td>77.848291</td>\n",
              "      <td>84.244711</td>\n",
              "    </tr>\n",
              "    <tr>\n",
              "      <th>2</th>\n",
              "      <td>80.386948</td>\n",
              "      <td>75.727997</td>\n",
              "    </tr>\n",
              "    <tr>\n",
              "      <th>3</th>\n",
              "      <td>103.448653</td>\n",
              "      <td>112.610531</td>\n",
              "    </tr>\n",
              "    <tr>\n",
              "      <th>4</th>\n",
              "      <td>77.764185</td>\n",
              "      <td>90.289207</td>\n",
              "    </tr>\n",
              "  </tbody>\n",
              "</table>\n",
              "</div>\n",
              "    <div class=\"colab-df-buttons\">\n",
              "\n",
              "  <div class=\"colab-df-container\">\n",
              "    <button class=\"colab-df-convert\" onclick=\"convertToInteractive('df-07d75f0b-26fa-4f6f-bc98-d37360a5ecd8')\"\n",
              "            title=\"Convert this dataframe to an interactive table.\"\n",
              "            style=\"display:none;\">\n",
              "\n",
              "  <svg xmlns=\"http://www.w3.org/2000/svg\" height=\"24px\" viewBox=\"0 -960 960 960\">\n",
              "    <path d=\"M120-120v-720h720v720H120Zm60-500h600v-160H180v160Zm220 220h160v-160H400v160Zm0 220h160v-160H400v160ZM180-400h160v-160H180v160Zm440 0h160v-160H620v160ZM180-180h160v-160H180v160Zm440 0h160v-160H620v160Z\"/>\n",
              "  </svg>\n",
              "    </button>\n",
              "\n",
              "  <style>\n",
              "    .colab-df-container {\n",
              "      display:flex;\n",
              "      gap: 12px;\n",
              "    }\n",
              "\n",
              "    .colab-df-convert {\n",
              "      background-color: #E8F0FE;\n",
              "      border: none;\n",
              "      border-radius: 50%;\n",
              "      cursor: pointer;\n",
              "      display: none;\n",
              "      fill: #1967D2;\n",
              "      height: 32px;\n",
              "      padding: 0 0 0 0;\n",
              "      width: 32px;\n",
              "    }\n",
              "\n",
              "    .colab-df-convert:hover {\n",
              "      background-color: #E2EBFA;\n",
              "      box-shadow: 0px 1px 2px rgba(60, 64, 67, 0.3), 0px 1px 3px 1px rgba(60, 64, 67, 0.15);\n",
              "      fill: #174EA6;\n",
              "    }\n",
              "\n",
              "    .colab-df-buttons div {\n",
              "      margin-bottom: 4px;\n",
              "    }\n",
              "\n",
              "    [theme=dark] .colab-df-convert {\n",
              "      background-color: #3B4455;\n",
              "      fill: #D2E3FC;\n",
              "    }\n",
              "\n",
              "    [theme=dark] .colab-df-convert:hover {\n",
              "      background-color: #434B5C;\n",
              "      box-shadow: 0px 1px 3px 1px rgba(0, 0, 0, 0.15);\n",
              "      filter: drop-shadow(0px 1px 2px rgba(0, 0, 0, 0.3));\n",
              "      fill: #FFFFFF;\n",
              "    }\n",
              "  </style>\n",
              "\n",
              "    <script>\n",
              "      const buttonEl =\n",
              "        document.querySelector('#df-07d75f0b-26fa-4f6f-bc98-d37360a5ecd8 button.colab-df-convert');\n",
              "      buttonEl.style.display =\n",
              "        google.colab.kernel.accessAllowed ? 'block' : 'none';\n",
              "\n",
              "      async function convertToInteractive(key) {\n",
              "        const element = document.querySelector('#df-07d75f0b-26fa-4f6f-bc98-d37360a5ecd8');\n",
              "        const dataTable =\n",
              "          await google.colab.kernel.invokeFunction('convertToInteractive',\n",
              "                                                    [key], {});\n",
              "        if (!dataTable) return;\n",
              "\n",
              "        const docLinkHtml = 'Like what you see? Visit the ' +\n",
              "          '<a target=\"_blank\" href=https://colab.research.google.com/notebooks/data_table.ipynb>data table notebook</a>'\n",
              "          + ' to learn more about interactive tables.';\n",
              "        element.innerHTML = '';\n",
              "        dataTable['output_type'] = 'display_data';\n",
              "        await google.colab.output.renderOutput(dataTable, element);\n",
              "        const docLink = document.createElement('div');\n",
              "        docLink.innerHTML = docLinkHtml;\n",
              "        element.appendChild(docLink);\n",
              "      }\n",
              "    </script>\n",
              "  </div>\n",
              "\n",
              "\n",
              "<div id=\"df-fa35ee47-a7a7-448f-a754-7684d8aefa30\">\n",
              "  <button class=\"colab-df-quickchart\" onclick=\"quickchart('df-fa35ee47-a7a7-448f-a754-7684d8aefa30')\"\n",
              "            title=\"Suggest charts\"\n",
              "            style=\"display:none;\">\n",
              "\n",
              "<svg xmlns=\"http://www.w3.org/2000/svg\" height=\"24px\"viewBox=\"0 0 24 24\"\n",
              "     width=\"24px\">\n",
              "    <g>\n",
              "        <path d=\"M19 3H5c-1.1 0-2 .9-2 2v14c0 1.1.9 2 2 2h14c1.1 0 2-.9 2-2V5c0-1.1-.9-2-2-2zM9 17H7v-7h2v7zm4 0h-2V7h2v10zm4 0h-2v-4h2v4z\"/>\n",
              "    </g>\n",
              "</svg>\n",
              "  </button>\n",
              "\n",
              "<style>\n",
              "  .colab-df-quickchart {\n",
              "      --bg-color: #E8F0FE;\n",
              "      --fill-color: #1967D2;\n",
              "      --hover-bg-color: #E2EBFA;\n",
              "      --hover-fill-color: #174EA6;\n",
              "      --disabled-fill-color: #AAA;\n",
              "      --disabled-bg-color: #DDD;\n",
              "  }\n",
              "\n",
              "  [theme=dark] .colab-df-quickchart {\n",
              "      --bg-color: #3B4455;\n",
              "      --fill-color: #D2E3FC;\n",
              "      --hover-bg-color: #434B5C;\n",
              "      --hover-fill-color: #FFFFFF;\n",
              "      --disabled-bg-color: #3B4455;\n",
              "      --disabled-fill-color: #666;\n",
              "  }\n",
              "\n",
              "  .colab-df-quickchart {\n",
              "    background-color: var(--bg-color);\n",
              "    border: none;\n",
              "    border-radius: 50%;\n",
              "    cursor: pointer;\n",
              "    display: none;\n",
              "    fill: var(--fill-color);\n",
              "    height: 32px;\n",
              "    padding: 0;\n",
              "    width: 32px;\n",
              "  }\n",
              "\n",
              "  .colab-df-quickchart:hover {\n",
              "    background-color: var(--hover-bg-color);\n",
              "    box-shadow: 0 1px 2px rgba(60, 64, 67, 0.3), 0 1px 3px 1px rgba(60, 64, 67, 0.15);\n",
              "    fill: var(--button-hover-fill-color);\n",
              "  }\n",
              "\n",
              "  .colab-df-quickchart-complete:disabled,\n",
              "  .colab-df-quickchart-complete:disabled:hover {\n",
              "    background-color: var(--disabled-bg-color);\n",
              "    fill: var(--disabled-fill-color);\n",
              "    box-shadow: none;\n",
              "  }\n",
              "\n",
              "  .colab-df-spinner {\n",
              "    border: 2px solid var(--fill-color);\n",
              "    border-color: transparent;\n",
              "    border-bottom-color: var(--fill-color);\n",
              "    animation:\n",
              "      spin 1s steps(1) infinite;\n",
              "  }\n",
              "\n",
              "  @keyframes spin {\n",
              "    0% {\n",
              "      border-color: transparent;\n",
              "      border-bottom-color: var(--fill-color);\n",
              "      border-left-color: var(--fill-color);\n",
              "    }\n",
              "    20% {\n",
              "      border-color: transparent;\n",
              "      border-left-color: var(--fill-color);\n",
              "      border-top-color: var(--fill-color);\n",
              "    }\n",
              "    30% {\n",
              "      border-color: transparent;\n",
              "      border-left-color: var(--fill-color);\n",
              "      border-top-color: var(--fill-color);\n",
              "      border-right-color: var(--fill-color);\n",
              "    }\n",
              "    40% {\n",
              "      border-color: transparent;\n",
              "      border-right-color: var(--fill-color);\n",
              "      border-top-color: var(--fill-color);\n",
              "    }\n",
              "    60% {\n",
              "      border-color: transparent;\n",
              "      border-right-color: var(--fill-color);\n",
              "    }\n",
              "    80% {\n",
              "      border-color: transparent;\n",
              "      border-right-color: var(--fill-color);\n",
              "      border-bottom-color: var(--fill-color);\n",
              "    }\n",
              "    90% {\n",
              "      border-color: transparent;\n",
              "      border-bottom-color: var(--fill-color);\n",
              "    }\n",
              "  }\n",
              "</style>\n",
              "\n",
              "  <script>\n",
              "    async function quickchart(key) {\n",
              "      const quickchartButtonEl =\n",
              "        document.querySelector('#' + key + ' button');\n",
              "      quickchartButtonEl.disabled = true;  // To prevent multiple clicks.\n",
              "      quickchartButtonEl.classList.add('colab-df-spinner');\n",
              "      try {\n",
              "        const charts = await google.colab.kernel.invokeFunction(\n",
              "            'suggestCharts', [key], {});\n",
              "      } catch (error) {\n",
              "        console.error('Error during call to suggestCharts:', error);\n",
              "      }\n",
              "      quickchartButtonEl.classList.remove('colab-df-spinner');\n",
              "      quickchartButtonEl.classList.add('colab-df-quickchart-complete');\n",
              "    }\n",
              "    (() => {\n",
              "      let quickchartButtonEl =\n",
              "        document.querySelector('#df-fa35ee47-a7a7-448f-a754-7684d8aefa30 button');\n",
              "      quickchartButtonEl.style.display =\n",
              "        google.colab.kernel.accessAllowed ? 'block' : 'none';\n",
              "    })();\n",
              "  </script>\n",
              "</div>\n",
              "\n",
              "    </div>\n",
              "  </div>\n"
            ],
            "application/vnd.google.colaboratory.intrinsic+json": {
              "type": "dataframe",
              "variable_name": "results",
              "summary": "{\n  \"name\": \"results\",\n  \"rows\": 50,\n  \"fields\": [\n    {\n      \"column\": \"y_true\",\n      \"properties\": {\n        \"dtype\": \"number\",\n        \"std\": 16.004189723079556,\n        \"min\": 70.93875079630885,\n        \"max\": 139.1733455792706,\n        \"num_unique_values\": 50,\n        \"samples\": [\n          136.11519142654436,\n          75.07095531259819,\n          88.08250697043536\n        ],\n        \"semantic_type\": \"\",\n        \"description\": \"\"\n      }\n    },\n    {\n      \"column\": \"y_pred\",\n      \"properties\": {\n        \"dtype\": \"number\",\n        \"std\": 19.395434172535563,\n        \"min\": 52.443537976221464,\n        \"max\": 145.193007399699,\n        \"num_unique_values\": 50,\n        \"samples\": [\n          145.193007399699,\n          52.443537976221464,\n          93.78450247519612\n        ],\n        \"semantic_type\": \"\",\n        \"description\": \"\"\n      }\n    }\n  ]\n}"
            }
          },
          "metadata": {},
          "execution_count": 7
        }
      ]
    },
    {
      "cell_type": "code",
      "source": [
        "#Tworzymy kolumnę z błędem (error)\n",
        "\n",
        "results['error'] = results['y_true'] - results['y_pred']\n",
        "results.head()\n",
        "\n",
        "#Jeżeli wartość error jest dodatna, to niedoszacowujemy\n",
        "#Jeżeli ujemna, przeszacowujemy"
      ],
      "metadata": {
        "colab": {
          "base_uri": "https://localhost:8080/",
          "height": 206
        },
        "id": "qCyxeKg0ydvM",
        "outputId": "9c4af4ac-9a54-4d0d-9eae-824c89924309"
      },
      "execution_count": null,
      "outputs": [
        {
          "output_type": "execute_result",
          "data": {
            "text/plain": [
              "       y_true      y_pred      error\n",
              "0  119.419759  113.527059   5.892700\n",
              "1   77.848291   84.244711  -6.396419\n",
              "2   80.386948   75.727997   4.658951\n",
              "3  103.448653  112.610531  -9.161878\n",
              "4   77.764185   90.289207 -12.525022"
            ],
            "text/html": [
              "\n",
              "  <div id=\"df-822c50bb-4e7c-4d2d-8afa-1a64aa280e89\" class=\"colab-df-container\">\n",
              "    <div>\n",
              "<style scoped>\n",
              "    .dataframe tbody tr th:only-of-type {\n",
              "        vertical-align: middle;\n",
              "    }\n",
              "\n",
              "    .dataframe tbody tr th {\n",
              "        vertical-align: top;\n",
              "    }\n",
              "\n",
              "    .dataframe thead th {\n",
              "        text-align: right;\n",
              "    }\n",
              "</style>\n",
              "<table border=\"1\" class=\"dataframe\">\n",
              "  <thead>\n",
              "    <tr style=\"text-align: right;\">\n",
              "      <th></th>\n",
              "      <th>y_true</th>\n",
              "      <th>y_pred</th>\n",
              "      <th>error</th>\n",
              "    </tr>\n",
              "  </thead>\n",
              "  <tbody>\n",
              "    <tr>\n",
              "      <th>0</th>\n",
              "      <td>119.419759</td>\n",
              "      <td>113.527059</td>\n",
              "      <td>5.892700</td>\n",
              "    </tr>\n",
              "    <tr>\n",
              "      <th>1</th>\n",
              "      <td>77.848291</td>\n",
              "      <td>84.244711</td>\n",
              "      <td>-6.396419</td>\n",
              "    </tr>\n",
              "    <tr>\n",
              "      <th>2</th>\n",
              "      <td>80.386948</td>\n",
              "      <td>75.727997</td>\n",
              "      <td>4.658951</td>\n",
              "    </tr>\n",
              "    <tr>\n",
              "      <th>3</th>\n",
              "      <td>103.448653</td>\n",
              "      <td>112.610531</td>\n",
              "      <td>-9.161878</td>\n",
              "    </tr>\n",
              "    <tr>\n",
              "      <th>4</th>\n",
              "      <td>77.764185</td>\n",
              "      <td>90.289207</td>\n",
              "      <td>-12.525022</td>\n",
              "    </tr>\n",
              "  </tbody>\n",
              "</table>\n",
              "</div>\n",
              "    <div class=\"colab-df-buttons\">\n",
              "\n",
              "  <div class=\"colab-df-container\">\n",
              "    <button class=\"colab-df-convert\" onclick=\"convertToInteractive('df-822c50bb-4e7c-4d2d-8afa-1a64aa280e89')\"\n",
              "            title=\"Convert this dataframe to an interactive table.\"\n",
              "            style=\"display:none;\">\n",
              "\n",
              "  <svg xmlns=\"http://www.w3.org/2000/svg\" height=\"24px\" viewBox=\"0 -960 960 960\">\n",
              "    <path d=\"M120-120v-720h720v720H120Zm60-500h600v-160H180v160Zm220 220h160v-160H400v160Zm0 220h160v-160H400v160ZM180-400h160v-160H180v160Zm440 0h160v-160H620v160ZM180-180h160v-160H180v160Zm440 0h160v-160H620v160Z\"/>\n",
              "  </svg>\n",
              "    </button>\n",
              "\n",
              "  <style>\n",
              "    .colab-df-container {\n",
              "      display:flex;\n",
              "      gap: 12px;\n",
              "    }\n",
              "\n",
              "    .colab-df-convert {\n",
              "      background-color: #E8F0FE;\n",
              "      border: none;\n",
              "      border-radius: 50%;\n",
              "      cursor: pointer;\n",
              "      display: none;\n",
              "      fill: #1967D2;\n",
              "      height: 32px;\n",
              "      padding: 0 0 0 0;\n",
              "      width: 32px;\n",
              "    }\n",
              "\n",
              "    .colab-df-convert:hover {\n",
              "      background-color: #E2EBFA;\n",
              "      box-shadow: 0px 1px 2px rgba(60, 64, 67, 0.3), 0px 1px 3px 1px rgba(60, 64, 67, 0.15);\n",
              "      fill: #174EA6;\n",
              "    }\n",
              "\n",
              "    .colab-df-buttons div {\n",
              "      margin-bottom: 4px;\n",
              "    }\n",
              "\n",
              "    [theme=dark] .colab-df-convert {\n",
              "      background-color: #3B4455;\n",
              "      fill: #D2E3FC;\n",
              "    }\n",
              "\n",
              "    [theme=dark] .colab-df-convert:hover {\n",
              "      background-color: #434B5C;\n",
              "      box-shadow: 0px 1px 3px 1px rgba(0, 0, 0, 0.15);\n",
              "      filter: drop-shadow(0px 1px 2px rgba(0, 0, 0, 0.3));\n",
              "      fill: #FFFFFF;\n",
              "    }\n",
              "  </style>\n",
              "\n",
              "    <script>\n",
              "      const buttonEl =\n",
              "        document.querySelector('#df-822c50bb-4e7c-4d2d-8afa-1a64aa280e89 button.colab-df-convert');\n",
              "      buttonEl.style.display =\n",
              "        google.colab.kernel.accessAllowed ? 'block' : 'none';\n",
              "\n",
              "      async function convertToInteractive(key) {\n",
              "        const element = document.querySelector('#df-822c50bb-4e7c-4d2d-8afa-1a64aa280e89');\n",
              "        const dataTable =\n",
              "          await google.colab.kernel.invokeFunction('convertToInteractive',\n",
              "                                                    [key], {});\n",
              "        if (!dataTable) return;\n",
              "\n",
              "        const docLinkHtml = 'Like what you see? Visit the ' +\n",
              "          '<a target=\"_blank\" href=https://colab.research.google.com/notebooks/data_table.ipynb>data table notebook</a>'\n",
              "          + ' to learn more about interactive tables.';\n",
              "        element.innerHTML = '';\n",
              "        dataTable['output_type'] = 'display_data';\n",
              "        await google.colab.output.renderOutput(dataTable, element);\n",
              "        const docLink = document.createElement('div');\n",
              "        docLink.innerHTML = docLinkHtml;\n",
              "        element.appendChild(docLink);\n",
              "      }\n",
              "    </script>\n",
              "  </div>\n",
              "\n",
              "\n",
              "<div id=\"df-cc4ca021-9a72-4651-a2c1-8e6812df020e\">\n",
              "  <button class=\"colab-df-quickchart\" onclick=\"quickchart('df-cc4ca021-9a72-4651-a2c1-8e6812df020e')\"\n",
              "            title=\"Suggest charts\"\n",
              "            style=\"display:none;\">\n",
              "\n",
              "<svg xmlns=\"http://www.w3.org/2000/svg\" height=\"24px\"viewBox=\"0 0 24 24\"\n",
              "     width=\"24px\">\n",
              "    <g>\n",
              "        <path d=\"M19 3H5c-1.1 0-2 .9-2 2v14c0 1.1.9 2 2 2h14c1.1 0 2-.9 2-2V5c0-1.1-.9-2-2-2zM9 17H7v-7h2v7zm4 0h-2V7h2v10zm4 0h-2v-4h2v4z\"/>\n",
              "    </g>\n",
              "</svg>\n",
              "  </button>\n",
              "\n",
              "<style>\n",
              "  .colab-df-quickchart {\n",
              "      --bg-color: #E8F0FE;\n",
              "      --fill-color: #1967D2;\n",
              "      --hover-bg-color: #E2EBFA;\n",
              "      --hover-fill-color: #174EA6;\n",
              "      --disabled-fill-color: #AAA;\n",
              "      --disabled-bg-color: #DDD;\n",
              "  }\n",
              "\n",
              "  [theme=dark] .colab-df-quickchart {\n",
              "      --bg-color: #3B4455;\n",
              "      --fill-color: #D2E3FC;\n",
              "      --hover-bg-color: #434B5C;\n",
              "      --hover-fill-color: #FFFFFF;\n",
              "      --disabled-bg-color: #3B4455;\n",
              "      --disabled-fill-color: #666;\n",
              "  }\n",
              "\n",
              "  .colab-df-quickchart {\n",
              "    background-color: var(--bg-color);\n",
              "    border: none;\n",
              "    border-radius: 50%;\n",
              "    cursor: pointer;\n",
              "    display: none;\n",
              "    fill: var(--fill-color);\n",
              "    height: 32px;\n",
              "    padding: 0;\n",
              "    width: 32px;\n",
              "  }\n",
              "\n",
              "  .colab-df-quickchart:hover {\n",
              "    background-color: var(--hover-bg-color);\n",
              "    box-shadow: 0 1px 2px rgba(60, 64, 67, 0.3), 0 1px 3px 1px rgba(60, 64, 67, 0.15);\n",
              "    fill: var(--button-hover-fill-color);\n",
              "  }\n",
              "\n",
              "  .colab-df-quickchart-complete:disabled,\n",
              "  .colab-df-quickchart-complete:disabled:hover {\n",
              "    background-color: var(--disabled-bg-color);\n",
              "    fill: var(--disabled-fill-color);\n",
              "    box-shadow: none;\n",
              "  }\n",
              "\n",
              "  .colab-df-spinner {\n",
              "    border: 2px solid var(--fill-color);\n",
              "    border-color: transparent;\n",
              "    border-bottom-color: var(--fill-color);\n",
              "    animation:\n",
              "      spin 1s steps(1) infinite;\n",
              "  }\n",
              "\n",
              "  @keyframes spin {\n",
              "    0% {\n",
              "      border-color: transparent;\n",
              "      border-bottom-color: var(--fill-color);\n",
              "      border-left-color: var(--fill-color);\n",
              "    }\n",
              "    20% {\n",
              "      border-color: transparent;\n",
              "      border-left-color: var(--fill-color);\n",
              "      border-top-color: var(--fill-color);\n",
              "    }\n",
              "    30% {\n",
              "      border-color: transparent;\n",
              "      border-left-color: var(--fill-color);\n",
              "      border-top-color: var(--fill-color);\n",
              "      border-right-color: var(--fill-color);\n",
              "    }\n",
              "    40% {\n",
              "      border-color: transparent;\n",
              "      border-right-color: var(--fill-color);\n",
              "      border-top-color: var(--fill-color);\n",
              "    }\n",
              "    60% {\n",
              "      border-color: transparent;\n",
              "      border-right-color: var(--fill-color);\n",
              "    }\n",
              "    80% {\n",
              "      border-color: transparent;\n",
              "      border-right-color: var(--fill-color);\n",
              "      border-bottom-color: var(--fill-color);\n",
              "    }\n",
              "    90% {\n",
              "      border-color: transparent;\n",
              "      border-bottom-color: var(--fill-color);\n",
              "    }\n",
              "  }\n",
              "</style>\n",
              "\n",
              "  <script>\n",
              "    async function quickchart(key) {\n",
              "      const quickchartButtonEl =\n",
              "        document.querySelector('#' + key + ' button');\n",
              "      quickchartButtonEl.disabled = true;  // To prevent multiple clicks.\n",
              "      quickchartButtonEl.classList.add('colab-df-spinner');\n",
              "      try {\n",
              "        const charts = await google.colab.kernel.invokeFunction(\n",
              "            'suggestCharts', [key], {});\n",
              "      } catch (error) {\n",
              "        console.error('Error during call to suggestCharts:', error);\n",
              "      }\n",
              "      quickchartButtonEl.classList.remove('colab-df-spinner');\n",
              "      quickchartButtonEl.classList.add('colab-df-quickchart-complete');\n",
              "    }\n",
              "    (() => {\n",
              "      let quickchartButtonEl =\n",
              "        document.querySelector('#df-cc4ca021-9a72-4651-a2c1-8e6812df020e button');\n",
              "      quickchartButtonEl.style.display =\n",
              "        google.colab.kernel.accessAllowed ? 'block' : 'none';\n",
              "    })();\n",
              "  </script>\n",
              "</div>\n",
              "\n",
              "    </div>\n",
              "  </div>\n"
            ],
            "application/vnd.google.colaboratory.intrinsic+json": {
              "type": "dataframe",
              "variable_name": "results",
              "summary": "{\n  \"name\": \"results\",\n  \"rows\": 50,\n  \"fields\": [\n    {\n      \"column\": \"y_true\",\n      \"properties\": {\n        \"dtype\": \"number\",\n        \"std\": 16.004189723079556,\n        \"min\": 70.93875079630885,\n        \"max\": 139.1733455792706,\n        \"num_unique_values\": 50,\n        \"samples\": [\n          136.11519142654436,\n          75.07095531259819,\n          88.08250697043536\n        ],\n        \"semantic_type\": \"\",\n        \"description\": \"\"\n      }\n    },\n    {\n      \"column\": \"y_pred\",\n      \"properties\": {\n        \"dtype\": \"number\",\n        \"std\": 19.395434172535563,\n        \"min\": 52.443537976221464,\n        \"max\": 145.193007399699,\n        \"num_unique_values\": 50,\n        \"samples\": [\n          145.193007399699,\n          52.443537976221464,\n          93.78450247519612\n        ],\n        \"semantic_type\": \"\",\n        \"description\": \"\"\n      }\n    },\n    {\n      \"column\": \"error\",\n      \"properties\": {\n        \"dtype\": \"number\",\n        \"std\": 10.793100404962273,\n        \"min\": -19.154190901449795,\n        \"max\": 23.704737467256905,\n        \"num_unique_values\": 50,\n        \"samples\": [\n          -9.077815973154657,\n          22.627417336376723,\n          -5.70199550476076\n        ],\n        \"semantic_type\": \"\",\n        \"description\": \"\"\n      }\n    }\n  ]\n}"
            }
          },
          "metadata": {},
          "execution_count": 8
        }
      ]
    },
    {
      "cell_type": "code",
      "source": [
        "def plot_regression_results(y_true, y_pred):\n",
        "  results = pd.DataFrame({'y_true': y_true, 'y_pred': y_pred}) #Tworzymy dataframe\n",
        "  min = results[['y_true', 'y_pred']].min().min() #Łapiemy wartości skrajne min - max\n",
        "  max = results[['y_true', 'y_pred']].max().max()\n",
        "\n",
        "#Tworzymy obiekt typu Figure\n",
        "  fig = go.Figure(data=[go.Scatter(x=results['y_true'], y=results['y_pred'], mode='markers'),\n",
        "                  go.Scatter(x=[min,max], y=[min,max])], # Ta linijka tworzy czerwoną linię na wykresie\n",
        "                  layout=go.Layout(showlegend=False, width=800, height=500,\n",
        "                                  xaxis_title='y_true',\n",
        "                                  yaxis_title='y_pred',\n",
        "                                  title='Regression results'))\n",
        "  fig.show()\n",
        "plot_regression_results(y_true, y_pred)"
      ],
      "metadata": {
        "colab": {
          "base_uri": "https://localhost:8080/",
          "height": 517
        },
        "id": "DqUyAUXkzHXA",
        "outputId": "8f9d3035-1ba4-472b-e013-832f0f134fa0"
      },
      "execution_count": null,
      "outputs": [
        {
          "output_type": "display_data",
          "data": {
            "text/html": [
              "<html>\n",
              "<head><meta charset=\"utf-8\" /></head>\n",
              "<body>\n",
              "    <div>            <script src=\"https://cdnjs.cloudflare.com/ajax/libs/mathjax/2.7.5/MathJax.js?config=TeX-AMS-MML_SVG\"></script><script type=\"text/javascript\">if (window.MathJax && window.MathJax.Hub && window.MathJax.Hub.Config) {window.MathJax.Hub.Config({SVG: {font: \"STIX-Web\"}});}</script>                <script type=\"text/javascript\">window.PlotlyConfig = {MathJaxConfig: 'local'};</script>\n",
              "        <script charset=\"utf-8\" src=\"https://cdn.plot.ly/plotly-2.35.2.min.js\"></script>                <div id=\"8015afd5-5f88-4747-bdef-bbba21102c88\" class=\"plotly-graph-div\" style=\"height:500px; width:800px;\"></div>            <script type=\"text/javascript\">                                    window.PLOTLYENV=window.PLOTLYENV || {};                                    if (document.getElementById(\"8015afd5-5f88-4747-bdef-bbba21102c88\")) {                    Plotly.newPlot(                        \"8015afd5-5f88-4747-bdef-bbba21102c88\",                        [{\"mode\":\"markers\",\"x\":[119.41975937799707,77.84829139659035,80.38694832297772,103.4486527226352,77.76418491604723,100.41373623728839,108.36372079373179,83.82100538799654,93.64037939408188,91.36715380312279,72.96484345992833,75.16325514026705,115.43935573165172,136.11519142654436,109.23107582193715,100.94036325059322,70.93875079630885,106.09625737738999,110.34646199947105,110.36877989114069,89.20082008040505,87.01547483111861,126.09940584456012,88.94677900270281,99.41432652277197,102.06358953033923,107.58438196399797,103.10156622217809,89.64691402794946,113.05533562504151,88.08250697043536,102.00698357232119,85.30674123122049,100.36025044451354,108.71829109035656,94.79192571590164,109.33474943949442,112.73215983551916,100.27997271475515,75.07095531259819,89.74345671920928,139.1733455792706,122.07963728686292,106.30685849813638,108.34527707635041,100.94999350387788,109.83736814474824,121.91335757476452,126.64899252006457,95.67871889879028],\"y\":[113.5270589238457,84.24471083477395,75.72799692072692,112.61053120639774,90.28920740729161,107.36052621523967,119.79979753782666,71.43714879766675,96.75786898086048,93.71360709105826,76.68708829779865,73.15945453140695,113.70225110562227,145.193007399699,118.90754615207595,110.92646430182597,58.48312397533125,90.91441958672496,116.70345308981757,99.95750729168424,99.07169614570635,98.46492834225833,123.3792021546803,73.64471993028008,93.79134068725308,109.30659207071795,126.73857286544776,84.84083548751805,93.43237497178907,114.33895549459548,93.78450247519612,80.41003985444146,85.0773613089891,95.90817588732067,113.3458360580906,106.16760137544327,108.1069200621127,104.38343206404402,91.32042415774262,52.443537976221464,86.8963288468236,132.62065745873056,114.00923557659773,97.27042420340887,117.2471475219181,81.6300394593749,102.28133853506695,98.20862010750761,142.44889652781993,106.59731685731612],\"type\":\"scatter\"},{\"x\":[52.443537976221464,145.193007399699],\"y\":[52.443537976221464,145.193007399699],\"type\":\"scatter\"}],                        {\"height\":500,\"showlegend\":false,\"title\":{\"text\":\"Regression results\"},\"width\":800,\"xaxis\":{\"title\":{\"text\":\"y_true\"}},\"yaxis\":{\"title\":{\"text\":\"y_pred\"}},\"template\":{\"data\":{\"histogram2dcontour\":[{\"type\":\"histogram2dcontour\",\"colorbar\":{\"outlinewidth\":0,\"ticks\":\"\"},\"colorscale\":[[0.0,\"#0d0887\"],[0.1111111111111111,\"#46039f\"],[0.2222222222222222,\"#7201a8\"],[0.3333333333333333,\"#9c179e\"],[0.4444444444444444,\"#bd3786\"],[0.5555555555555556,\"#d8576b\"],[0.6666666666666666,\"#ed7953\"],[0.7777777777777778,\"#fb9f3a\"],[0.8888888888888888,\"#fdca26\"],[1.0,\"#f0f921\"]]}],\"choropleth\":[{\"type\":\"choropleth\",\"colorbar\":{\"outlinewidth\":0,\"ticks\":\"\"}}],\"histogram2d\":[{\"type\":\"histogram2d\",\"colorbar\":{\"outlinewidth\":0,\"ticks\":\"\"},\"colorscale\":[[0.0,\"#0d0887\"],[0.1111111111111111,\"#46039f\"],[0.2222222222222222,\"#7201a8\"],[0.3333333333333333,\"#9c179e\"],[0.4444444444444444,\"#bd3786\"],[0.5555555555555556,\"#d8576b\"],[0.6666666666666666,\"#ed7953\"],[0.7777777777777778,\"#fb9f3a\"],[0.8888888888888888,\"#fdca26\"],[1.0,\"#f0f921\"]]}],\"heatmap\":[{\"type\":\"heatmap\",\"colorbar\":{\"outlinewidth\":0,\"ticks\":\"\"},\"colorscale\":[[0.0,\"#0d0887\"],[0.1111111111111111,\"#46039f\"],[0.2222222222222222,\"#7201a8\"],[0.3333333333333333,\"#9c179e\"],[0.4444444444444444,\"#bd3786\"],[0.5555555555555556,\"#d8576b\"],[0.6666666666666666,\"#ed7953\"],[0.7777777777777778,\"#fb9f3a\"],[0.8888888888888888,\"#fdca26\"],[1.0,\"#f0f921\"]]}],\"heatmapgl\":[{\"type\":\"heatmapgl\",\"colorbar\":{\"outlinewidth\":0,\"ticks\":\"\"},\"colorscale\":[[0.0,\"#0d0887\"],[0.1111111111111111,\"#46039f\"],[0.2222222222222222,\"#7201a8\"],[0.3333333333333333,\"#9c179e\"],[0.4444444444444444,\"#bd3786\"],[0.5555555555555556,\"#d8576b\"],[0.6666666666666666,\"#ed7953\"],[0.7777777777777778,\"#fb9f3a\"],[0.8888888888888888,\"#fdca26\"],[1.0,\"#f0f921\"]]}],\"contourcarpet\":[{\"type\":\"contourcarpet\",\"colorbar\":{\"outlinewidth\":0,\"ticks\":\"\"}}],\"contour\":[{\"type\":\"contour\",\"colorbar\":{\"outlinewidth\":0,\"ticks\":\"\"},\"colorscale\":[[0.0,\"#0d0887\"],[0.1111111111111111,\"#46039f\"],[0.2222222222222222,\"#7201a8\"],[0.3333333333333333,\"#9c179e\"],[0.4444444444444444,\"#bd3786\"],[0.5555555555555556,\"#d8576b\"],[0.6666666666666666,\"#ed7953\"],[0.7777777777777778,\"#fb9f3a\"],[0.8888888888888888,\"#fdca26\"],[1.0,\"#f0f921\"]]}],\"surface\":[{\"type\":\"surface\",\"colorbar\":{\"outlinewidth\":0,\"ticks\":\"\"},\"colorscale\":[[0.0,\"#0d0887\"],[0.1111111111111111,\"#46039f\"],[0.2222222222222222,\"#7201a8\"],[0.3333333333333333,\"#9c179e\"],[0.4444444444444444,\"#bd3786\"],[0.5555555555555556,\"#d8576b\"],[0.6666666666666666,\"#ed7953\"],[0.7777777777777778,\"#fb9f3a\"],[0.8888888888888888,\"#fdca26\"],[1.0,\"#f0f921\"]]}],\"mesh3d\":[{\"type\":\"mesh3d\",\"colorbar\":{\"outlinewidth\":0,\"ticks\":\"\"}}],\"scatter\":[{\"fillpattern\":{\"fillmode\":\"overlay\",\"size\":10,\"solidity\":0.2},\"type\":\"scatter\"}],\"parcoords\":[{\"type\":\"parcoords\",\"line\":{\"colorbar\":{\"outlinewidth\":0,\"ticks\":\"\"}}}],\"scatterpolargl\":[{\"type\":\"scatterpolargl\",\"marker\":{\"colorbar\":{\"outlinewidth\":0,\"ticks\":\"\"}}}],\"bar\":[{\"error_x\":{\"color\":\"#2a3f5f\"},\"error_y\":{\"color\":\"#2a3f5f\"},\"marker\":{\"line\":{\"color\":\"#E5ECF6\",\"width\":0.5},\"pattern\":{\"fillmode\":\"overlay\",\"size\":10,\"solidity\":0.2}},\"type\":\"bar\"}],\"scattergeo\":[{\"type\":\"scattergeo\",\"marker\":{\"colorbar\":{\"outlinewidth\":0,\"ticks\":\"\"}}}],\"scatterpolar\":[{\"type\":\"scatterpolar\",\"marker\":{\"colorbar\":{\"outlinewidth\":0,\"ticks\":\"\"}}}],\"histogram\":[{\"marker\":{\"pattern\":{\"fillmode\":\"overlay\",\"size\":10,\"solidity\":0.2}},\"type\":\"histogram\"}],\"scattergl\":[{\"type\":\"scattergl\",\"marker\":{\"colorbar\":{\"outlinewidth\":0,\"ticks\":\"\"}}}],\"scatter3d\":[{\"type\":\"scatter3d\",\"line\":{\"colorbar\":{\"outlinewidth\":0,\"ticks\":\"\"}},\"marker\":{\"colorbar\":{\"outlinewidth\":0,\"ticks\":\"\"}}}],\"scattermapbox\":[{\"type\":\"scattermapbox\",\"marker\":{\"colorbar\":{\"outlinewidth\":0,\"ticks\":\"\"}}}],\"scatterternary\":[{\"type\":\"scatterternary\",\"marker\":{\"colorbar\":{\"outlinewidth\":0,\"ticks\":\"\"}}}],\"scattercarpet\":[{\"type\":\"scattercarpet\",\"marker\":{\"colorbar\":{\"outlinewidth\":0,\"ticks\":\"\"}}}],\"carpet\":[{\"aaxis\":{\"endlinecolor\":\"#2a3f5f\",\"gridcolor\":\"white\",\"linecolor\":\"white\",\"minorgridcolor\":\"white\",\"startlinecolor\":\"#2a3f5f\"},\"baxis\":{\"endlinecolor\":\"#2a3f5f\",\"gridcolor\":\"white\",\"linecolor\":\"white\",\"minorgridcolor\":\"white\",\"startlinecolor\":\"#2a3f5f\"},\"type\":\"carpet\"}],\"table\":[{\"cells\":{\"fill\":{\"color\":\"#EBF0F8\"},\"line\":{\"color\":\"white\"}},\"header\":{\"fill\":{\"color\":\"#C8D4E3\"},\"line\":{\"color\":\"white\"}},\"type\":\"table\"}],\"barpolar\":[{\"marker\":{\"line\":{\"color\":\"#E5ECF6\",\"width\":0.5},\"pattern\":{\"fillmode\":\"overlay\",\"size\":10,\"solidity\":0.2}},\"type\":\"barpolar\"}],\"pie\":[{\"automargin\":true,\"type\":\"pie\"}]},\"layout\":{\"autotypenumbers\":\"strict\",\"colorway\":[\"#636efa\",\"#EF553B\",\"#00cc96\",\"#ab63fa\",\"#FFA15A\",\"#19d3f3\",\"#FF6692\",\"#B6E880\",\"#FF97FF\",\"#FECB52\"],\"font\":{\"color\":\"#2a3f5f\"},\"hovermode\":\"closest\",\"hoverlabel\":{\"align\":\"left\"},\"paper_bgcolor\":\"white\",\"plot_bgcolor\":\"#E5ECF6\",\"polar\":{\"bgcolor\":\"#E5ECF6\",\"angularaxis\":{\"gridcolor\":\"white\",\"linecolor\":\"white\",\"ticks\":\"\"},\"radialaxis\":{\"gridcolor\":\"white\",\"linecolor\":\"white\",\"ticks\":\"\"}},\"ternary\":{\"bgcolor\":\"#E5ECF6\",\"aaxis\":{\"gridcolor\":\"white\",\"linecolor\":\"white\",\"ticks\":\"\"},\"baxis\":{\"gridcolor\":\"white\",\"linecolor\":\"white\",\"ticks\":\"\"},\"caxis\":{\"gridcolor\":\"white\",\"linecolor\":\"white\",\"ticks\":\"\"}},\"coloraxis\":{\"colorbar\":{\"outlinewidth\":0,\"ticks\":\"\"}},\"colorscale\":{\"sequential\":[[0.0,\"#0d0887\"],[0.1111111111111111,\"#46039f\"],[0.2222222222222222,\"#7201a8\"],[0.3333333333333333,\"#9c179e\"],[0.4444444444444444,\"#bd3786\"],[0.5555555555555556,\"#d8576b\"],[0.6666666666666666,\"#ed7953\"],[0.7777777777777778,\"#fb9f3a\"],[0.8888888888888888,\"#fdca26\"],[1.0,\"#f0f921\"]],\"sequentialminus\":[[0.0,\"#0d0887\"],[0.1111111111111111,\"#46039f\"],[0.2222222222222222,\"#7201a8\"],[0.3333333333333333,\"#9c179e\"],[0.4444444444444444,\"#bd3786\"],[0.5555555555555556,\"#d8576b\"],[0.6666666666666666,\"#ed7953\"],[0.7777777777777778,\"#fb9f3a\"],[0.8888888888888888,\"#fdca26\"],[1.0,\"#f0f921\"]],\"diverging\":[[0,\"#8e0152\"],[0.1,\"#c51b7d\"],[0.2,\"#de77ae\"],[0.3,\"#f1b6da\"],[0.4,\"#fde0ef\"],[0.5,\"#f7f7f7\"],[0.6,\"#e6f5d0\"],[0.7,\"#b8e186\"],[0.8,\"#7fbc41\"],[0.9,\"#4d9221\"],[1,\"#276419\"]]},\"xaxis\":{\"gridcolor\":\"white\",\"linecolor\":\"white\",\"ticks\":\"\",\"title\":{\"standoff\":15},\"zerolinecolor\":\"white\",\"automargin\":true,\"zerolinewidth\":2},\"yaxis\":{\"gridcolor\":\"white\",\"linecolor\":\"white\",\"ticks\":\"\",\"title\":{\"standoff\":15},\"zerolinecolor\":\"white\",\"automargin\":true,\"zerolinewidth\":2},\"scene\":{\"xaxis\":{\"backgroundcolor\":\"#E5ECF6\",\"gridcolor\":\"white\",\"linecolor\":\"white\",\"showbackground\":true,\"ticks\":\"\",\"zerolinecolor\":\"white\",\"gridwidth\":2},\"yaxis\":{\"backgroundcolor\":\"#E5ECF6\",\"gridcolor\":\"white\",\"linecolor\":\"white\",\"showbackground\":true,\"ticks\":\"\",\"zerolinecolor\":\"white\",\"gridwidth\":2},\"zaxis\":{\"backgroundcolor\":\"#E5ECF6\",\"gridcolor\":\"white\",\"linecolor\":\"white\",\"showbackground\":true,\"ticks\":\"\",\"zerolinecolor\":\"white\",\"gridwidth\":2}},\"shapedefaults\":{\"line\":{\"color\":\"#2a3f5f\"}},\"annotationdefaults\":{\"arrowcolor\":\"#2a3f5f\",\"arrowhead\":0,\"arrowwidth\":1},\"geo\":{\"bgcolor\":\"white\",\"landcolor\":\"#E5ECF6\",\"subunitcolor\":\"white\",\"showland\":true,\"showlakes\":true,\"lakecolor\":\"white\"},\"title\":{\"x\":0.05},\"mapbox\":{\"style\":\"light\"}}}},                        {\"responsive\": true}                    ).then(function(){\n",
              "                            \n",
              "var gd = document.getElementById('8015afd5-5f88-4747-bdef-bbba21102c88');\n",
              "var x = new MutationObserver(function (mutations, observer) {{\n",
              "        var display = window.getComputedStyle(gd).display;\n",
              "        if (!display || display === 'none') {{\n",
              "            console.log([gd, 'removed!']);\n",
              "            Plotly.purge(gd);\n",
              "            observer.disconnect();\n",
              "        }}\n",
              "}});\n",
              "\n",
              "// Listen for the removal of the full notebook cells\n",
              "var notebookContainer = gd.closest('#notebook-container');\n",
              "if (notebookContainer) {{\n",
              "    x.observe(notebookContainer, {childList: true});\n",
              "}}\n",
              "\n",
              "// Listen for the clearing of the current output cell\n",
              "var outputEl = gd.closest('.output');\n",
              "if (outputEl) {{\n",
              "    x.observe(outputEl, {childList: true});\n",
              "}}\n",
              "\n",
              "                        })                };                            </script>        </div>\n",
              "</body>\n",
              "</html>"
            ]
          },
          "metadata": {}
        }
      ]
    },
    {
      "cell_type": "markdown",
      "source": [],
      "metadata": {
        "id": "5q_NxXMBuDIS"
      }
    },
    {
      "cell_type": "code",
      "source": [
        "# Kolejny przypadek analizy błędów regresji. Tworzymy kolejny wykres. 1000 elementów do oceny\n",
        "\n",
        "y_true = 100 + 20 * np.random.randn(1000)\n",
        "y_pred = y_true + 10 * np.random.randn(1000)\n",
        "results = pd.DataFrame({'y_true': y_true, 'y_pred': y_pred})\n",
        "results['error'] = results['y_true'] - results['y_pred']\n",
        "\n",
        "px.histogram(results, x='error', nbins=50, width=800) #Budujemy histogram zmiennej 'error'\n",
        "# HISTOGRAM będzie przypominał rozkład normalny ALE będzie skierowany bardziej w lewo lub prawo i będzie nam przez to mówił, czy nasz model przeszacowuje\n",
        "# czy niedoszacowuje częściej.\n",
        "# Gdy ten błąd będzie dodatni bardziej, to oznacza że nasz model niedoszaccowuje. Jak bardzie ujemny (po lewej), to niedoszacowuje.\n",
        "# Chemy aby ten rozkład był jak najbardziej symetryczny.\n",
        "\n",
        "#UŻYCIE\n",
        "#Za pomocą takiego modelu możemy porównywać 2 modele, 1 do drugiego.\n",
        "#Jak histogram jest taki rozwleczony (szeroki), to znaczy że nasz model generuje dużo błędów.\n",
        "# NAJLEPIEJ, gdy te wartości błędów na histogramie skupiają się blisko zera."
      ],
      "metadata": {
        "colab": {
          "base_uri": "https://localhost:8080/",
          "height": 542
        },
        "id": "d-qBbS4nuE_6",
        "outputId": "d4a0a9d9-a8c5-46e7-d445-1380665cb7d0"
      },
      "execution_count": 3,
      "outputs": [
        {
          "output_type": "display_data",
          "data": {
            "text/html": [
              "<html>\n",
              "<head><meta charset=\"utf-8\" /></head>\n",
              "<body>\n",
              "    <div>            <script src=\"https://cdnjs.cloudflare.com/ajax/libs/mathjax/2.7.5/MathJax.js?config=TeX-AMS-MML_SVG\"></script><script type=\"text/javascript\">if (window.MathJax && window.MathJax.Hub && window.MathJax.Hub.Config) {window.MathJax.Hub.Config({SVG: {font: \"STIX-Web\"}});}</script>                <script type=\"text/javascript\">window.PlotlyConfig = {MathJaxConfig: 'local'};</script>\n",
              "        <script charset=\"utf-8\" src=\"https://cdn.plot.ly/plotly-2.35.2.min.js\"></script>                <div id=\"dd74a721-c294-40c0-91b9-d4c0c84abeb0\" class=\"plotly-graph-div\" style=\"height:525px; width:800px;\"></div>            <script type=\"text/javascript\">                                    window.PLOTLYENV=window.PLOTLYENV || {};                                    if (document.getElementById(\"dd74a721-c294-40c0-91b9-d4c0c84abeb0\")) {                    Plotly.newPlot(                        \"dd74a721-c294-40c0-91b9-d4c0c84abeb0\",                        [{\"alignmentgroup\":\"True\",\"bingroup\":\"x\",\"hovertemplate\":\"error=%{x}\\u003cbr\\u003ecount=%{y}\\u003cextra\\u003e\\u003c\\u002fextra\\u003e\",\"legendgroup\":\"\",\"marker\":{\"color\":\"#636efa\",\"pattern\":{\"shape\":\"\"}},\"name\":\"\",\"nbinsx\":50,\"offsetgroup\":\"\",\"orientation\":\"v\",\"showlegend\":false,\"x\":[-0.3632575924842314,5.612233081342225,-0.8766434100505478,-2.9458245813949446,-4.177322653610631,-8.370070538897764,-1.160819431110113,-8.838926876358173,8.916880971871365,-2.2165787846117126,2.26386628420407,-5.214183935594974,5.380084452660384,-1.189635889365519,5.735265011424019,5.743011272501789,-10.340276529605092,0.7277615480889921,14.463897368386966,17.781358557694837,-3.4757346456980116,6.730645046006757,3.3039824051567734,23.4166756804928,-14.774044831015601,-2.0803350908405633,-4.343946157896326,-8.692457908951155,-6.393556833327494,-4.673519658321311,-6.496705398161524,-2.0116042936334466,-23.521110731519997,-2.963129445031541,7.655508444992222,-2.456918225952421,-9.992224542131652,4.677331120349365,5.868534817861487,-11.312176497102726,-8.298699219097557,2.3163471096311667,15.626073985954307,8.248057316142962,-3.548004062377217,-10.69706378250919,0.5615313969528302,-10.039812017126224,-0.18837986689010222,4.91276310611314,-15.27038809522071,-2.955493234284191,-4.66101269200756,11.01154296658126,-10.902785104872024,17.340314536557585,0.5117658720928944,4.3678277803688985,-3.573254987368614,4.042787646018951,-11.104119112584002,-9.132498364449646,-5.87889897364154,6.024029193284676,1.720746969524967,2.890472739932406,4.173128155385484,3.3366576301041277,-6.930872411166135,2.0608994096497497,2.7427120269387473,6.605416066207475,12.971662433830517,7.9702017406558525,15.770721299868939,0.43469971515975203,-2.072576010190872,-4.716834843114512,-8.978817361381388,-7.854965678752436,0.5940214782136053,7.05244351095439,-7.52037022112021,-30.02995224475987,7.287165293255555,18.83393973853761,6.093369926271592,-3.4938620883550726,-12.446035164071262,20.340970365868102,-1.7260775097078067,-2.4377456366945864,-17.82160795160374,-9.381374189937446,-7.145805929463393,3.9203299420358206,-6.916827179235099,4.615778591987066,-13.552553841603284,6.979077705076008,3.826762522855219,2.456981706726424,5.187078348670951,4.425583509833473,3.458096530524415,-20.47748430308873,4.705314357981905,-7.375624959058598,6.366355993116848,4.494383949721737,-4.017334294953116,6.9973125309404764,-15.09689903024595,-0.3199918534992321,-23.861307074507366,-2.096798281866384,-9.865048219526557,21.17991807613194,5.053657084048993,-11.002094790984458,-0.11716221205109889,18.884906250299977,17.635965113093903,4.4502741122244345,-2.5041963079753344,-1.4555440602812695,-6.873434890011836,-5.910035846271057,-0.25551212161062153,-4.59592076911899,-6.437858459123319,-7.567169626298124,-0.5737652511145654,7.286835916860056,3.9722186177622802,-8.26263026906625,-4.241821448705927,-8.47213507214245,-11.29159589734111,2.317938621614587,-1.1788586470599114,5.245759496899154,11.429546575359879,12.462917680415941,10.465537241274035,-2.8574501854809853,-4.1786937069638554,2.8524890450398175,-4.033759588500729,1.0318343357894832,8.827060109202975,-5.125614015993037,1.3315572181998476,-7.878150044573616,-14.568546342849416,13.529806605297551,1.295448637675186,2.3228762881536227,0.051805533816349225,-4.007711764030432,-14.70130276492327,-7.543365378226596,-4.317366530052624,6.7105515333622066,-3.4423961007968416,9.71790515109059,5.097705574155668,4.099259308862955,-11.109218260268165,-3.1531373931872935,20.05168830438764,-9.016636285406264,-3.328082141699724,-0.5500684228571515,-8.802288143716225,-12.500886175773033,-5.598976581156009,-2.365971187183547,-1.4166997568537738,-5.281963585184741,-13.66199998509461,-19.197959463168473,4.269414193778289,-3.6052369358466194,-19.153301566440106,-8.104887030974211,-14.379645733001396,7.824781828072986,-5.031723651825629,18.617915327762717,10.149676252248526,4.628503923309069,13.716735326072552,-13.989267127649782,-7.161087812669649,14.462227712745232,1.0333872285046084,19.301626069990036,4.1097866006665384,-6.850939516939917,2.6394906021015316,-8.931527944250945,3.512320703627708,0.8426545042625122,-2.425406127231156,1.4747246159628702,-14.389415993495575,-4.344648274723156,0.3438011443030291,-3.8792144201795224,-3.4096886973769642,-8.348260613736457,-4.708351928918617,-4.330596904183437,-4.929121497833421,0.3445415004672725,18.759587927169747,18.469363006367075,-5.922584387030824,-13.357443861864581,14.03392137430248,-2.4596822599343255,-15.040290229082714,-2.0186331964137736,1.19306446735159,-6.04381487725108,10.274181770399025,1.3650807731527408,-9.707193213532392,-6.275504100564234,-11.072645416323923,11.124088427208079,-14.751431874502373,-21.79093895315728,-2.583839948265677,-7.720501442614861,-14.51026678619418,-6.253361580792259,-11.953083628154673,1.910188371565738,-6.058260321361303,15.201630975000356,-2.4202762433023395,-1.1608510710664035,15.183097857718707,-10.517526295482483,17.007220123492175,3.660858791669412,-21.987963961479437,-6.848214881439546,-2.0696790642030436,8.349461931169088,16.35552387396214,11.075216753064694,-18.84866827101878,-0.6166432832300757,-19.147794841101273,-0.48714276044088933,7.30575748668484,6.658011455810978,-3.0856340797955113,-3.291515814276167,-0.15457254252976327,7.755858628039377,-1.0242344555811655,-2.588173424469872,-6.226447364122407,8.98517368127645,-0.4524462478447191,0.10274678758371181,-0.16490612906865465,-7.556013338682277,-6.841248561174723,-3.2489344468346957,-0.8110523273214767,6.09590654551107,3.5380399078663487,6.135483724049578,12.124094752835305,-1.6815918994636405,14.775625951143127,-2.429026129024024,13.387193337175063,-10.978839556067484,-6.046644602855267,5.05949677556427,8.403390075957645,6.162233061119082,-4.341051026838215,5.761167712252558,6.035009495071321,8.040512567815895,3.543036608527572,7.073971480810187,-12.215841920695837,5.7129448852279126,-19.647492804177602,-14.818347184618986,1.2255884989825319,-4.365129483541736,2.4304839680070245,6.558157477113596,2.741221158230587,5.07214419952642,2.9517053134572393,-12.923027901833933,5.131623457858922,-3.303044459283811,-8.43477238918561,-2.0516186404871917,2.7424486779818693,-6.599340961689705,6.886902947561268,4.8767689948846,-4.376882795222002,9.524093606473741,2.206481853558799,6.985808298571868,-0.3211949510908596,6.5177702490994704,-12.054007301513828,17.01588436539052,7.193140324124755,6.860958604362352,3.333668752001259,-15.018853251418221,5.833003885460286,17.066747410188597,20.263782968767607,5.616751928939976,-0.5080928468247521,-0.16729036203348358,-3.371112725289393,4.0899004862698405,-2.582240868074095,-14.602167241711612,-7.835921121504924,-2.270602656839557,-12.873092134115254,20.718823043176855,-13.055214204265155,3.580201998946002,2.9201741670956523,-12.184575694187302,5.271416987851325,7.283241438084147,2.4644182044791947,1.3864502856567213,4.750783345784242,13.19110603977552,0.695650330358319,-1.8425466499424772,-4.1060802181922895,12.766710060143808,-4.329693670316331,-4.566370736054097,8.197500917518965,-2.8866930778989826,4.141526735669785,-3.6218664529539666,-2.1997446114591668,-2.9582155966009083,-0.15782659551699396,6.007831579620955,10.281778535192956,4.722359339235766,-7.458555956434978,10.463886178112745,17.07786386171992,-25.68010660586326,5.233156761867619,-10.75179791306141,19.574330364844243,2.343197011307012,-14.967174581043864,-13.040900957447036,-1.969553072445919,-2.7257929249345807,27.62272333316659,9.586605458570475,-7.030845006266517,-1.0955207694493225,12.190053075711091,-4.435379121461537,-10.556395632009725,3.73826021676291,13.94377259465935,-1.3570533299061793,2.440594403105294,0.6733445305024759,-6.994102735670609,11.437110463625203,-12.7001978153301,0.904176827146344,-0.14193541929219577,-10.70261846987006,-3.957596614707384,-4.551866103883327,-5.963895121051436,-25.555218836684517,13.117159367614207,19.626491880456058,-17.701272531352615,17.995433791088132,7.262824096924632,-0.06913481099225294,-4.89819535292321,2.103217655368084,-15.165196104429796,0.8229942972887443,10.129802890123756,7.396343076277589,-22.226588518877577,-8.717993100618784,18.178455842676243,4.850642026975223,-4.2419130107019924,-24.372379947815986,6.999938419424495,-0.5453842787003396,-6.134988006233826,-4.213379040193303,23.753694850305777,8.578520666818577,-0.5447265398524763,1.3556230730762735,2.931189623327242,19.41017448802721,-1.5783372716333588,-15.826971942885422,-17.60555820163448,-6.614533156857902,5.064090822401525,2.1318733722909258,-1.8385751034123103,12.336019494682517,24.48798597269132,14.148587332729178,16.513205190346056,2.112484118987169,-21.714410987678576,-10.824990979589813,-13.043076327264231,-4.316597357592073,4.9834382425172095,3.3610337517351994,-1.1346235955670494,-18.049846098195772,9.355429618783134,-11.038544583016318,-6.066669218140575,3.606867585909015,-1.2652195697032766,-1.6002132712852983,-1.845053895655866,1.6018528283570816,9.955493186489761,-7.915373451167667,-9.064393039369222,4.719844030686687,-6.21739566818971,2.719568674229251,-8.31552182092922,8.644963542651467,-18.171649807211267,-9.466250588874729,1.215269198183364,0.9468090585404809,-0.13227761813809025,3.6150062979588142,-21.11864236737253,1.3142223004425944,10.161244917042126,-0.8215107693769852,-8.339442021606004,11.06188454372041,0.6826837481842176,7.3769375103148604,-15.159750381709202,13.321070470933918,-20.52904956227141,-0.15021993549747492,-2.3579484976461345,-4.374346246323952,17.991482374171284,4.3314627170405515,13.659367939953157,-6.0507166240726775,-0.7545212610725613,9.414505076982735,25.44630092993176,-9.733277111332129,-7.468490320144937,8.331214442858581,21.405314515085543,-5.227619442312914,6.476787839293664,-5.846426058274304,-9.03359542676776,-7.136515967216425,-10.309219801516349,-6.790218616592853,11.05309020798721,27.528804485939716,-6.041282304272016,6.723740573557194,-0.5732639969191524,-14.000191592089237,-1.5043444014471845,-1.7491121156335367,6.933013916979888,2.32984653013699,-7.845179310419098,2.7177112812900788,8.789039121818135,0.8171248196249223,-7.37493618945895,18.730965188225454,1.6607611640407782,0.33066294322811984,12.68022024989358,-10.126085087494658,1.154548179928483,8.192210707933071,9.170560130802315,1.1089655514763734,20.749924335241104,-7.541645332089047,-5.285883148236849,-6.322966588584265,-2.2206507587622184,-8.250410930227787,-3.7213726202809454,11.384917821911912,-8.538398847248004,9.837663683863568,7.107099993588136,-2.078401052260446,25.23238762533842,1.0874151552579718,1.9580628353864853,-9.133481982768771,13.260951707308877,-11.747729467017578,1.2155191126986864,19.38823643227518,5.816821748532433,-17.462578100710672,28.97728618156222,21.31612195399552,5.266972349977138,-19.85722721118654,-5.448296407963156,-8.401439185464255,5.054360136409656,7.998864724512046,-1.8081287263969301,5.426196537195736,-2.4452591093744473,-9.15417421365997,22.97444015751963,-5.782151864328,-14.433297263490601,-2.258305231068448,5.605915196756214,6.116817823966699,5.53274066041952,19.44326702120867,-6.106861553624377,-8.480330679972425,-8.200862593608605,-4.688925032148745,-2.917236017773334,-9.171096899374831,11.027104681277493,3.833982998495074,1.0384392801304045,-15.852484578472215,3.5316617569969964,13.408780921646567,-1.9001869650174399,4.60624599223442,11.437998274705706,5.517110521284536,-2.0871118624458873,-4.13907547655532,-7.68452974977663,7.194668129563652,-1.2218968616468544,-19.089004423454227,-6.113683287689497,11.427075608124994,-8.617339949407096,-4.334158137916901,-8.124585584050024,-4.897032235517202,5.322618680382938,5.4463041996564385,3.1974968203643215,9.27029018819627,1.3545263141838433,-9.037434083465143,-18.5561421203937,-5.340272888032956,5.135770063084237,-6.0047523945354015,-4.253672655012494,9.708372420038316,-10.959696839576196,6.913267322698005,-1.3140441107059075,11.765533474056795,-5.918938193544747,-2.0160263995949492,-6.936120707985879,-5.6491939669305395,0.7374165755399531,-4.555636076034915,2.7853425240397485,8.812055068079076,-0.22082375408655253,-1.2355365389386037,1.4054800007934887,25.220653940791564,-10.963644065518594,9.690005916297352,-10.259101721951808,-9.541559660956153,-1.4079212828488608,-1.114395920849205,7.049712761192083,-9.712997464464607,9.176166915996703,-1.9558302668578307,-1.7835442906148131,6.1488969688232515,1.051878718940344,-12.924973120320615,13.200921853873993,-20.75078588597728,1.0107746763266476,2.265515563809231,-7.0638358124633385,-16.025803734402203,-7.613534405945103,8.343379860807545,-24.013296910416614,0.6776095715403017,-3.10930859653638,0.5739844676393631,16.614377111073537,0.683120057894655,-6.094627264592418,-4.019756868465066,-1.0221226556762133,12.382269624453755,-11.773106772257606,11.633007271243812,5.1951857637892545,-5.728225696110684,7.392472108038049,-12.538848366962213,1.5330966561402448,-5.047411855570388,-12.01433895540633,2.28870031855746,-23.157672594145467,9.867359751492671,6.205303631351967,-3.852502553172968,-24.95629060420663,-4.50965901237231,-3.8588960057949606,-0.7228459925168949,-1.7242631128153363,-9.460427632973207,1.9321171958681447,-4.875211535550449,-7.451370564865783,-12.854629363259761,-4.916950833535708,3.1118334890381476,-9.335232981477276,14.908599661857437,-8.370815728290296,-12.5418159471987,-9.46789291117939,-5.042094487457817,2.021917505634761,0.2920544770423561,11.976687638146274,-11.683674986887837,-0.8603429866079608,-4.046346170587952,-3.3026268958867604,0.006703139693968296,5.3639493122761195,23.366863285294784,12.902448678927584,-10.001691205856652,3.3921967866205023,2.8912355917072716,-2.038319863350779,-5.978003050398186,-15.824973687495202,-10.70115889589701,15.153459622542826,-9.515825941631093,12.780414710172423,5.881227297546872,-31.650956958779332,-9.004251187802709,-0.10868150938529197,-17.64311466348076,-15.336287748851376,2.1146412343953216,6.264426383991292,0.03059959223183739,1.7912207940895826,0.9082201280896243,-7.072751272420803,-0.158797135494666,-1.5885683928283925,-7.859074206223397,13.402587042940809,-2.8856769629370262,-19.00875073261949,-4.2807325207353415,8.71792818821126,2.1759634765605256,4.132533801842371,1.3705708060584527,-0.46162969143259147,3.4594331935305007,-12.073237717809064,34.4456704318844,13.776995763522862,17.110638587388024,-17.985569591773427,8.14125812204658,-10.978951520045669,-7.076771223470843,7.811307326230306,3.6887112842086367,-4.2520971676414945,-1.317981285684894,14.235808003959534,0.82337931805165,-3.5657165821909302,13.15872087097145,-11.434495833727752,20.76730706381639,11.55923530522115,0.8381196195989986,-7.752392629381561,-0.3554672602162867,13.445189256243737,8.210219329793006,-2.230544524556521,-4.204193460670737,0.40607965999933526,16.701648384781976,-9.897855680606995,0.05948617856060423,-16.570337713978176,7.620714817616701,-3.8136174641698233,-5.547636207406725,12.649682431455957,10.835378008587725,0.17915427005043227,-4.267415315587172,8.857943868638628,2.0396538155120254,-3.529511243682805,7.7740738077329326,7.818950775842055,-4.238109515382277,-18.20516732902246,0.5408034730104703,-10.423914071640766,4.459331672532642,-3.7789768327891977,4.638208268712461,-15.10238947408763,-15.676884309802432,-5.227779810586327,8.603623155887377,6.92207258504439,11.956422899178946,3.7749842852412314,22.29792110347347,-8.8682209268717,2.382829398211314,-21.14687754052764,-16.90894103584219,-14.793830132946027,-1.4311088923396085,-5.272169068321901,-0.1814522041650548,-11.708892943466438,-10.87896965540294,-17.711264263236373,-11.302523232425514,7.95903089694653,-1.7830746991487132,-0.5205283720641631,-3.1986536359808895,16.457927512535548,-3.33101752376146,4.1436730180755745,13.281629245629006,-2.1939529443353933,-5.665639272200401,2.2978795490927695,1.38703957285135,0.48518091451967393,4.3450234491895685,6.557562708183667,-21.073281165130823,8.734357586545414,-12.216924363752554,-3.897608163020635,11.898800028435488,-4.535955526112275,5.197940350583892,-7.506126397876798,9.925074875601425,-7.752596244903273,1.0393756082432617,-1.1251629583837115,16.43869847075058,-18.380481049003805,16.893040863186414,10.39404025343282,10.569291687972324,-8.401441398115693,-4.475720922098134,28.420870400716993,-2.1852773172280138,-3.9478907397249827,7.28492728769217,-16.35822607173195,2.373204061641289,-8.468343306257154,9.455074046717243,-8.16039052533705,-2.814609085620404,7.307281306457789,-7.281832442275828,4.4796440076644615,-21.066372995168223,-0.06422779549647828,13.94215961358227,-14.074984736600925,9.308198901193009,3.356577376599148,14.85760145490957,10.578091408284635,18.65202707679886,-5.128557222906522,-16.059205822199218,3.6520236458793818,-0.21711731679445734,0.0939487510619017,-10.536138801823029,-4.802292549974609,-4.571971830586847,-18.278444671556315,2.7980420364688,-12.94271001973,0.22428828226122732,1.1393752017938965,-2.0596046577597207,23.464626765551472,-3.987893466374672,13.338636810093732,1.248542160615827,-10.249063893782179,0.9458315040646141,-10.535431995549331,-9.532389218369886,7.003992984283627,11.417224159440963,-7.747708254586229,-9.159185932151416,-7.742659921510082,20.29770311308235,-11.361099123874595,7.618872440745321,-5.686714754642395,-0.11645292689631503,-3.9513297480929737,16.830683384656567,-6.9165491034273,1.7084474131956995,-10.010200903851796,6.204659339668339,-6.989349010863052,1.5886921242589978,9.367129504163898,0.09648909401464323,0.4867043572272678,17.071599720483675,10.614034792819027,1.3091545752424167,-2.025131693320759,3.0962863367816027,0.996989789913556,1.6562626880465956,4.672628342963492,-27.23516101918395,-1.3235834677525133,2.2772132921793258,11.799679216048844,15.9692347051231,-9.048776134258091,-13.596420417727046,1.3333068441599352,9.218101636374868,-7.5235399966773,-3.2125210870269143,-8.448109876015565,-18.239633353661873,2.124366717717905,-6.032714512552801,10.128581889546254,11.511449129614277,-7.27102516423696,3.2612413440298837,20.76875544618224,1.5060714765598533,-4.218412814392721,9.076615166911338,3.3456645983292788,-9.829665228029668,-10.198889201958238,5.415132622038783,14.880650947780808,-1.160082112448606,-1.9002515117164052,-11.979581733083023,5.930937142461502,27.299324744452882,1.755078942147179,2.0050975303391567,-0.6746877628595058,4.12286606941349,-4.460232689373214,1.541046786037228,-1.7751992163169774,-4.083225802377854,31.50167571674615,-11.920328523621862,-2.2590430906833063,9.60727004444604,17.311856987652874,-22.79322352129789,-15.705226319386028,16.529720816509283,3.3292358753908644,-15.073143871157754,-5.329882724265815,-12.602399438430112,-5.129784713360408,-9.19167996580238,8.685870131490418,-0.6218801634994833,-1.5948373232485267,6.464018615699132,-16.257411213290325,-3.389071613602553,-15.832348587251332,-9.822149392494012,-9.59039647383372,-2.0897333417389063,-6.883630452645399,2.262442316119447,-7.215104277318687,13.15007375105251,4.56005060011357,11.367165872178958,-4.186339842352396,8.44185928942413,-8.564754261002847,13.9877504126368,7.545067138949349,-6.378291122635289,25.373616087067525,0.32272630081340026,3.174802492686709,-12.782672139807175,5.910398542295667,5.357375543249191,16.164265809592635,-14.014913836173122,0.6058433471007874,-16.36600521875789,-1.0386130384891743,0.1709914582256289],\"xaxis\":\"x\",\"yaxis\":\"y\",\"type\":\"histogram\"}],                        {\"template\":{\"data\":{\"histogram2dcontour\":[{\"type\":\"histogram2dcontour\",\"colorbar\":{\"outlinewidth\":0,\"ticks\":\"\"},\"colorscale\":[[0.0,\"#0d0887\"],[0.1111111111111111,\"#46039f\"],[0.2222222222222222,\"#7201a8\"],[0.3333333333333333,\"#9c179e\"],[0.4444444444444444,\"#bd3786\"],[0.5555555555555556,\"#d8576b\"],[0.6666666666666666,\"#ed7953\"],[0.7777777777777778,\"#fb9f3a\"],[0.8888888888888888,\"#fdca26\"],[1.0,\"#f0f921\"]]}],\"choropleth\":[{\"type\":\"choropleth\",\"colorbar\":{\"outlinewidth\":0,\"ticks\":\"\"}}],\"histogram2d\":[{\"type\":\"histogram2d\",\"colorbar\":{\"outlinewidth\":0,\"ticks\":\"\"},\"colorscale\":[[0.0,\"#0d0887\"],[0.1111111111111111,\"#46039f\"],[0.2222222222222222,\"#7201a8\"],[0.3333333333333333,\"#9c179e\"],[0.4444444444444444,\"#bd3786\"],[0.5555555555555556,\"#d8576b\"],[0.6666666666666666,\"#ed7953\"],[0.7777777777777778,\"#fb9f3a\"],[0.8888888888888888,\"#fdca26\"],[1.0,\"#f0f921\"]]}],\"heatmap\":[{\"type\":\"heatmap\",\"colorbar\":{\"outlinewidth\":0,\"ticks\":\"\"},\"colorscale\":[[0.0,\"#0d0887\"],[0.1111111111111111,\"#46039f\"],[0.2222222222222222,\"#7201a8\"],[0.3333333333333333,\"#9c179e\"],[0.4444444444444444,\"#bd3786\"],[0.5555555555555556,\"#d8576b\"],[0.6666666666666666,\"#ed7953\"],[0.7777777777777778,\"#fb9f3a\"],[0.8888888888888888,\"#fdca26\"],[1.0,\"#f0f921\"]]}],\"heatmapgl\":[{\"type\":\"heatmapgl\",\"colorbar\":{\"outlinewidth\":0,\"ticks\":\"\"},\"colorscale\":[[0.0,\"#0d0887\"],[0.1111111111111111,\"#46039f\"],[0.2222222222222222,\"#7201a8\"],[0.3333333333333333,\"#9c179e\"],[0.4444444444444444,\"#bd3786\"],[0.5555555555555556,\"#d8576b\"],[0.6666666666666666,\"#ed7953\"],[0.7777777777777778,\"#fb9f3a\"],[0.8888888888888888,\"#fdca26\"],[1.0,\"#f0f921\"]]}],\"contourcarpet\":[{\"type\":\"contourcarpet\",\"colorbar\":{\"outlinewidth\":0,\"ticks\":\"\"}}],\"contour\":[{\"type\":\"contour\",\"colorbar\":{\"outlinewidth\":0,\"ticks\":\"\"},\"colorscale\":[[0.0,\"#0d0887\"],[0.1111111111111111,\"#46039f\"],[0.2222222222222222,\"#7201a8\"],[0.3333333333333333,\"#9c179e\"],[0.4444444444444444,\"#bd3786\"],[0.5555555555555556,\"#d8576b\"],[0.6666666666666666,\"#ed7953\"],[0.7777777777777778,\"#fb9f3a\"],[0.8888888888888888,\"#fdca26\"],[1.0,\"#f0f921\"]]}],\"surface\":[{\"type\":\"surface\",\"colorbar\":{\"outlinewidth\":0,\"ticks\":\"\"},\"colorscale\":[[0.0,\"#0d0887\"],[0.1111111111111111,\"#46039f\"],[0.2222222222222222,\"#7201a8\"],[0.3333333333333333,\"#9c179e\"],[0.4444444444444444,\"#bd3786\"],[0.5555555555555556,\"#d8576b\"],[0.6666666666666666,\"#ed7953\"],[0.7777777777777778,\"#fb9f3a\"],[0.8888888888888888,\"#fdca26\"],[1.0,\"#f0f921\"]]}],\"mesh3d\":[{\"type\":\"mesh3d\",\"colorbar\":{\"outlinewidth\":0,\"ticks\":\"\"}}],\"scatter\":[{\"fillpattern\":{\"fillmode\":\"overlay\",\"size\":10,\"solidity\":0.2},\"type\":\"scatter\"}],\"parcoords\":[{\"type\":\"parcoords\",\"line\":{\"colorbar\":{\"outlinewidth\":0,\"ticks\":\"\"}}}],\"scatterpolargl\":[{\"type\":\"scatterpolargl\",\"marker\":{\"colorbar\":{\"outlinewidth\":0,\"ticks\":\"\"}}}],\"bar\":[{\"error_x\":{\"color\":\"#2a3f5f\"},\"error_y\":{\"color\":\"#2a3f5f\"},\"marker\":{\"line\":{\"color\":\"#E5ECF6\",\"width\":0.5},\"pattern\":{\"fillmode\":\"overlay\",\"size\":10,\"solidity\":0.2}},\"type\":\"bar\"}],\"scattergeo\":[{\"type\":\"scattergeo\",\"marker\":{\"colorbar\":{\"outlinewidth\":0,\"ticks\":\"\"}}}],\"scatterpolar\":[{\"type\":\"scatterpolar\",\"marker\":{\"colorbar\":{\"outlinewidth\":0,\"ticks\":\"\"}}}],\"histogram\":[{\"marker\":{\"pattern\":{\"fillmode\":\"overlay\",\"size\":10,\"solidity\":0.2}},\"type\":\"histogram\"}],\"scattergl\":[{\"type\":\"scattergl\",\"marker\":{\"colorbar\":{\"outlinewidth\":0,\"ticks\":\"\"}}}],\"scatter3d\":[{\"type\":\"scatter3d\",\"line\":{\"colorbar\":{\"outlinewidth\":0,\"ticks\":\"\"}},\"marker\":{\"colorbar\":{\"outlinewidth\":0,\"ticks\":\"\"}}}],\"scattermapbox\":[{\"type\":\"scattermapbox\",\"marker\":{\"colorbar\":{\"outlinewidth\":0,\"ticks\":\"\"}}}],\"scatterternary\":[{\"type\":\"scatterternary\",\"marker\":{\"colorbar\":{\"outlinewidth\":0,\"ticks\":\"\"}}}],\"scattercarpet\":[{\"type\":\"scattercarpet\",\"marker\":{\"colorbar\":{\"outlinewidth\":0,\"ticks\":\"\"}}}],\"carpet\":[{\"aaxis\":{\"endlinecolor\":\"#2a3f5f\",\"gridcolor\":\"white\",\"linecolor\":\"white\",\"minorgridcolor\":\"white\",\"startlinecolor\":\"#2a3f5f\"},\"baxis\":{\"endlinecolor\":\"#2a3f5f\",\"gridcolor\":\"white\",\"linecolor\":\"white\",\"minorgridcolor\":\"white\",\"startlinecolor\":\"#2a3f5f\"},\"type\":\"carpet\"}],\"table\":[{\"cells\":{\"fill\":{\"color\":\"#EBF0F8\"},\"line\":{\"color\":\"white\"}},\"header\":{\"fill\":{\"color\":\"#C8D4E3\"},\"line\":{\"color\":\"white\"}},\"type\":\"table\"}],\"barpolar\":[{\"marker\":{\"line\":{\"color\":\"#E5ECF6\",\"width\":0.5},\"pattern\":{\"fillmode\":\"overlay\",\"size\":10,\"solidity\":0.2}},\"type\":\"barpolar\"}],\"pie\":[{\"automargin\":true,\"type\":\"pie\"}]},\"layout\":{\"autotypenumbers\":\"strict\",\"colorway\":[\"#636efa\",\"#EF553B\",\"#00cc96\",\"#ab63fa\",\"#FFA15A\",\"#19d3f3\",\"#FF6692\",\"#B6E880\",\"#FF97FF\",\"#FECB52\"],\"font\":{\"color\":\"#2a3f5f\"},\"hovermode\":\"closest\",\"hoverlabel\":{\"align\":\"left\"},\"paper_bgcolor\":\"white\",\"plot_bgcolor\":\"#E5ECF6\",\"polar\":{\"bgcolor\":\"#E5ECF6\",\"angularaxis\":{\"gridcolor\":\"white\",\"linecolor\":\"white\",\"ticks\":\"\"},\"radialaxis\":{\"gridcolor\":\"white\",\"linecolor\":\"white\",\"ticks\":\"\"}},\"ternary\":{\"bgcolor\":\"#E5ECF6\",\"aaxis\":{\"gridcolor\":\"white\",\"linecolor\":\"white\",\"ticks\":\"\"},\"baxis\":{\"gridcolor\":\"white\",\"linecolor\":\"white\",\"ticks\":\"\"},\"caxis\":{\"gridcolor\":\"white\",\"linecolor\":\"white\",\"ticks\":\"\"}},\"coloraxis\":{\"colorbar\":{\"outlinewidth\":0,\"ticks\":\"\"}},\"colorscale\":{\"sequential\":[[0.0,\"#0d0887\"],[0.1111111111111111,\"#46039f\"],[0.2222222222222222,\"#7201a8\"],[0.3333333333333333,\"#9c179e\"],[0.4444444444444444,\"#bd3786\"],[0.5555555555555556,\"#d8576b\"],[0.6666666666666666,\"#ed7953\"],[0.7777777777777778,\"#fb9f3a\"],[0.8888888888888888,\"#fdca26\"],[1.0,\"#f0f921\"]],\"sequentialminus\":[[0.0,\"#0d0887\"],[0.1111111111111111,\"#46039f\"],[0.2222222222222222,\"#7201a8\"],[0.3333333333333333,\"#9c179e\"],[0.4444444444444444,\"#bd3786\"],[0.5555555555555556,\"#d8576b\"],[0.6666666666666666,\"#ed7953\"],[0.7777777777777778,\"#fb9f3a\"],[0.8888888888888888,\"#fdca26\"],[1.0,\"#f0f921\"]],\"diverging\":[[0,\"#8e0152\"],[0.1,\"#c51b7d\"],[0.2,\"#de77ae\"],[0.3,\"#f1b6da\"],[0.4,\"#fde0ef\"],[0.5,\"#f7f7f7\"],[0.6,\"#e6f5d0\"],[0.7,\"#b8e186\"],[0.8,\"#7fbc41\"],[0.9,\"#4d9221\"],[1,\"#276419\"]]},\"xaxis\":{\"gridcolor\":\"white\",\"linecolor\":\"white\",\"ticks\":\"\",\"title\":{\"standoff\":15},\"zerolinecolor\":\"white\",\"automargin\":true,\"zerolinewidth\":2},\"yaxis\":{\"gridcolor\":\"white\",\"linecolor\":\"white\",\"ticks\":\"\",\"title\":{\"standoff\":15},\"zerolinecolor\":\"white\",\"automargin\":true,\"zerolinewidth\":2},\"scene\":{\"xaxis\":{\"backgroundcolor\":\"#E5ECF6\",\"gridcolor\":\"white\",\"linecolor\":\"white\",\"showbackground\":true,\"ticks\":\"\",\"zerolinecolor\":\"white\",\"gridwidth\":2},\"yaxis\":{\"backgroundcolor\":\"#E5ECF6\",\"gridcolor\":\"white\",\"linecolor\":\"white\",\"showbackground\":true,\"ticks\":\"\",\"zerolinecolor\":\"white\",\"gridwidth\":2},\"zaxis\":{\"backgroundcolor\":\"#E5ECF6\",\"gridcolor\":\"white\",\"linecolor\":\"white\",\"showbackground\":true,\"ticks\":\"\",\"zerolinecolor\":\"white\",\"gridwidth\":2}},\"shapedefaults\":{\"line\":{\"color\":\"#2a3f5f\"}},\"annotationdefaults\":{\"arrowcolor\":\"#2a3f5f\",\"arrowhead\":0,\"arrowwidth\":1},\"geo\":{\"bgcolor\":\"white\",\"landcolor\":\"#E5ECF6\",\"subunitcolor\":\"white\",\"showland\":true,\"showlakes\":true,\"lakecolor\":\"white\"},\"title\":{\"x\":0.05},\"mapbox\":{\"style\":\"light\"}}},\"xaxis\":{\"anchor\":\"y\",\"domain\":[0.0,1.0],\"title\":{\"text\":\"error\"}},\"yaxis\":{\"anchor\":\"x\",\"domain\":[0.0,1.0],\"title\":{\"text\":\"count\"}},\"legend\":{\"tracegroupgap\":0},\"margin\":{\"t\":60},\"barmode\":\"relative\",\"width\":800},                        {\"responsive\": true}                    ).then(function(){\n",
              "                            \n",
              "var gd = document.getElementById('dd74a721-c294-40c0-91b9-d4c0c84abeb0');\n",
              "var x = new MutationObserver(function (mutations, observer) {{\n",
              "        var display = window.getComputedStyle(gd).display;\n",
              "        if (!display || display === 'none') {{\n",
              "            console.log([gd, 'removed!']);\n",
              "            Plotly.purge(gd);\n",
              "            observer.disconnect();\n",
              "        }}\n",
              "}});\n",
              "\n",
              "// Listen for the removal of the full notebook cells\n",
              "var notebookContainer = gd.closest('#notebook-container');\n",
              "if (notebookContainer) {{\n",
              "    x.observe(notebookContainer, {childList: true});\n",
              "}}\n",
              "\n",
              "// Listen for the clearing of the current output cell\n",
              "var outputEl = gd.closest('.output');\n",
              "if (outputEl) {{\n",
              "    x.observe(outputEl, {childList: true});\n",
              "}}\n",
              "\n",
              "                        })                };                            </script>        </div>\n",
              "</body>\n",
              "</html>"
            ]
          },
          "metadata": {}
        }
      ]
    },
    {
      "cell_type": "markdown",
      "source": [
        "Mean Absolute Error - Średni błąd bezwzględny (Def. Suma różnic błędów (wartość bezwzględna) - nasze 'error' wyżej - dzielone przez liczbę tych błędów. Wychodzi średnia."
      ],
      "metadata": {
        "id": "dZA5tRzCwigT"
      }
    },
    {
      "cell_type": "code",
      "source": [
        "def mean_absolute_error(y_true, y_pred):\n",
        "  return abs(y_true-y_pred).sum() / len(y_true)\n",
        "\n",
        "mean_absolute_error(y_true, y_pred)"
      ],
      "metadata": {
        "colab": {
          "base_uri": "https://localhost:8080/"
        },
        "id": "B5NuEgBzwn7q",
        "outputId": "c7c2b9b4-5ce5-44eb-9b51-75ea1db8195e"
      },
      "execution_count": 4,
      "outputs": [
        {
          "output_type": "execute_result",
          "data": {
            "text/plain": [
              "7.804876805083417"
            ]
          },
          "metadata": {},
          "execution_count": 4
        }
      ]
    },
    {
      "cell_type": "code",
      "source": [
        "# Można też importować tę funkcję, zamiast pisać swoją\n",
        "\n",
        "from sklearn.metrics import mean_absolute_error\n",
        "mean_absolute_error(y_true, y_pred)"
      ],
      "metadata": {
        "colab": {
          "base_uri": "https://localhost:8080/"
        },
        "id": "fTVU1PQfxqLK",
        "outputId": "b2a13492-45a7-40dc-9f28-2822754bb683"
      },
      "execution_count": 6,
      "outputs": [
        {
          "output_type": "execute_result",
          "data": {
            "text/plain": [
              "7.804876805083417"
            ]
          },
          "metadata": {},
          "execution_count": 6
        }
      ]
    },
    {
      "cell_type": "markdown",
      "source": [
        "Mean Squared Error - Błąd średniokwadratowy (MSE)"
      ],
      "metadata": {
        "id": "i84owstCx6la"
      }
    },
    {
      "cell_type": "code",
      "source": [
        "from sklearn.metrics import mean_squared_error\n",
        "mean_squared_error(y_true, y_pred)"
      ],
      "metadata": {
        "colab": {
          "base_uri": "https://localhost:8080/"
        },
        "id": "-9ev5gpnyESb",
        "outputId": "996447a4-e221-4dc0-e816-26af1049644b"
      },
      "execution_count": 7,
      "outputs": [
        {
          "output_type": "execute_result",
          "data": {
            "text/plain": [
              "99.50495580623672"
            ]
          },
          "metadata": {},
          "execution_count": 7
        }
      ]
    },
    {
      "cell_type": "markdown",
      "source": [
        "Root Mean Squared Error - Pierwiastek błędu średniokwadratowego (RMSE)\n",
        "\n",
        "Mówi o tym, jak średnio nasze predykcje odbiegają od wartości prawdziwych."
      ],
      "metadata": {
        "id": "oo_lcLLg0ciD"
      }
    },
    {
      "cell_type": "code",
      "source": [
        "np.sqrt(mean_squared_error(y_true, y_pred))"
      ],
      "metadata": {
        "colab": {
          "base_uri": "https://localhost:8080/"
        },
        "id": "AjzyqLKn0vxk",
        "outputId": "3d91b219-e5c8-4ac4-9ed0-f1fa6c6d67ee"
      },
      "execution_count": 8,
      "outputs": [
        {
          "output_type": "execute_result",
          "data": {
            "text/plain": [
              "9.975217080657279"
            ]
          },
          "metadata": {},
          "execution_count": 8
        }
      ]
    },
    {
      "cell_type": "markdown",
      "source": [
        "Max error - Błąd maksymalny\n",
        "\n",
        "Wykorzystujemy, jak chcemy wiedzieć, jaki maksymalny błąd popełnia nasz model"
      ],
      "metadata": {
        "id": "S1ngNg0805WJ"
      }
    },
    {
      "cell_type": "code",
      "source": [],
      "metadata": {
        "id": "DWDaGWGz07pj"
      },
      "execution_count": null,
      "outputs": []
    }
  ]
}