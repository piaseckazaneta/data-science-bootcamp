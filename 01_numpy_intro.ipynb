{
  "nbformat": 4,
  "nbformat_minor": 0,
  "metadata": {
    "colab": {
      "provenance": [],
      "authorship_tag": "ABX9TyMiMx69jO2ApRw42vBYxTv1",
      "include_colab_link": true
    },
    "kernelspec": {
      "name": "python3",
      "display_name": "Python 3"
    },
    "language_info": {
      "name": "python"
    }
  },
  "cells": [
    {
      "cell_type": "markdown",
      "metadata": {
        "id": "view-in-github",
        "colab_type": "text"
      },
      "source": [
        "<a href=\"https://colab.research.google.com/github/piaseckazaneta/data-science-bootcamp/blob/main/01_numpy_intro.ipynb\" target=\"_parent\"><img src=\"https://colab.research.google.com/assets/colab-badge.svg\" alt=\"Open In Colab\"/></a>"
      ]
    },
    {
      "cell_type": "code",
      "execution_count": 1,
      "metadata": {
        "id": "CBs9OpP_ixU0"
      },
      "outputs": [],
      "source": [
        "import numpy as np"
      ]
    },
    {
      "cell_type": "code",
      "source": [
        "np.__version__"
      ],
      "metadata": {
        "id": "mMngsy3clJtu",
        "outputId": "dea5bdf7-ff63-4eba-80e2-ce67c61e0c7c",
        "colab": {
          "base_uri": "https://localhost:8080/",
          "height": 35
        }
      },
      "execution_count": null,
      "outputs": [
        {
          "output_type": "execute_result",
          "data": {
            "text/plain": [
              "'1.25.2'"
            ],
            "application/vnd.google.colaboratory.intrinsic+json": {
              "type": "string"
            }
          },
          "metadata": {},
          "execution_count": 2
        }
      ]
    },
    {
      "cell_type": "code",
      "source": [
        "print(dir(np)) #sprawdzamy, jakie mamy metody w numpy"
      ],
      "metadata": {
        "id": "076gty0ZlQMD"
      },
      "execution_count": null,
      "outputs": []
    },
    {
      "cell_type": "code",
      "source": [
        "help(np.array)"
      ],
      "metadata": {
        "id": "6niYJH9vlZ8m"
      },
      "execution_count": null,
      "outputs": []
    },
    {
      "cell_type": "code",
      "source": [],
      "metadata": {
        "id": "encNfZ4blvA3"
      },
      "execution_count": null,
      "outputs": []
    },
    {
      "cell_type": "markdown",
      "source": [
        "Podstawowym obiektem w numpy jest wielowymiarowa tablica (wymiary nazwane są osiami - axes)"
      ],
      "metadata": {
        "id": "5g1Wzv_emHKa"
      }
    },
    {
      "cell_type": "code",
      "source": [
        "x = np.array([1,3])"
      ],
      "metadata": {
        "id": "_wlZeJNSmJzq"
      },
      "execution_count": null,
      "outputs": []
    },
    {
      "cell_type": "code",
      "source": [
        "print(x)"
      ],
      "metadata": {
        "id": "YYspshWSmPb-",
        "outputId": "44dc183d-d4c8-4d5a-e324-64594be97f10",
        "colab": {
          "base_uri": "https://localhost:8080/"
        }
      },
      "execution_count": null,
      "outputs": [
        {
          "output_type": "stream",
          "name": "stdout",
          "text": [
            "[1 3]\n"
          ]
        }
      ]
    },
    {
      "cell_type": "code",
      "source": [
        "type(x)"
      ],
      "metadata": {
        "id": "sfCDSJvjmQ1M",
        "outputId": "a6a6f406-49cd-4dc2-f6fa-aa0d833e63c0",
        "colab": {
          "base_uri": "https://localhost:8080/"
        }
      },
      "execution_count": null,
      "outputs": [
        {
          "output_type": "execute_result",
          "data": {
            "text/plain": [
              "numpy.ndarray"
            ]
          },
          "metadata": {},
          "execution_count": 8
        }
      ]
    },
    {
      "cell_type": "code",
      "source": [
        "x.ndim #wymiar tablicy"
      ],
      "metadata": {
        "id": "Gbnio4dGmTIe",
        "outputId": "26ffd171-5fc1-4c71-9240-692d19bf9e8a",
        "colab": {
          "base_uri": "https://localhost:8080/"
        }
      },
      "execution_count": null,
      "outputs": [
        {
          "output_type": "execute_result",
          "data": {
            "text/plain": [
              "1"
            ]
          },
          "metadata": {},
          "execution_count": 9
        }
      ]
    },
    {
      "cell_type": "code",
      "source": [
        "x.shape #liczba elementów"
      ],
      "metadata": {
        "id": "NO-qKCsBmahh",
        "outputId": "31be0949-aec3-4df7-d822-95e918662094",
        "colab": {
          "base_uri": "https://localhost:8080/"
        }
      },
      "execution_count": null,
      "outputs": [
        {
          "output_type": "execute_result",
          "data": {
            "text/plain": [
              "(2,)"
            ]
          },
          "metadata": {},
          "execution_count": 11
        }
      ]
    },
    {
      "cell_type": "code",
      "source": [
        "x.size"
      ],
      "metadata": {
        "id": "S2rm3_60mcXS",
        "outputId": "bb117bd9-8f27-4b69-c66d-c530116a76e4",
        "colab": {
          "base_uri": "https://localhost:8080/"
        }
      },
      "execution_count": null,
      "outputs": [
        {
          "output_type": "execute_result",
          "data": {
            "text/plain": [
              "2"
            ]
          },
          "metadata": {},
          "execution_count": 12
        }
      ]
    },
    {
      "cell_type": "code",
      "source": [
        "x.dtype"
      ],
      "metadata": {
        "id": "PGTIn9ejmjR-",
        "outputId": "5df2d87d-4fba-493b-8648-d935b6c41287",
        "colab": {
          "base_uri": "https://localhost:8080/"
        }
      },
      "execution_count": null,
      "outputs": [
        {
          "output_type": "execute_result",
          "data": {
            "text/plain": [
              "dtype('int64')"
            ]
          },
          "metadata": {},
          "execution_count": 13
        }
      ]
    },
    {
      "cell_type": "code",
      "source": [
        "x = np.array([1.3, 2.3, 1.4])"
      ],
      "metadata": {
        "id": "2lABN7rOmmUH"
      },
      "execution_count": null,
      "outputs": []
    },
    {
      "cell_type": "code",
      "source": [
        "print(x)"
      ],
      "metadata": {
        "id": "IeJczrP5m1tS",
        "outputId": "4e3f75e4-3f53-4116-f2da-b5251361e11a",
        "colab": {
          "base_uri": "https://localhost:8080/"
        }
      },
      "execution_count": null,
      "outputs": [
        {
          "output_type": "stream",
          "name": "stdout",
          "text": [
            "[1.3 2.3 1.4]\n"
          ]
        }
      ]
    },
    {
      "cell_type": "code",
      "source": [
        "x.dtype"
      ],
      "metadata": {
        "id": "zAKY0ns_m-oK",
        "outputId": "66cb3ab7-33f1-4fe5-b232-5f259b4e185b",
        "colab": {
          "base_uri": "https://localhost:8080/"
        }
      },
      "execution_count": null,
      "outputs": [
        {
          "output_type": "execute_result",
          "data": {
            "text/plain": [
              "dtype('float64')"
            ]
          },
          "metadata": {},
          "execution_count": 17
        }
      ]
    },
    {
      "cell_type": "markdown",
      "source": [
        "2D Array"
      ],
      "metadata": {
        "id": "Ok_8_0EJnHIc"
      }
    },
    {
      "cell_type": "code",
      "source": [
        "x = np.array([[1,2], [-3,1]])"
      ],
      "metadata": {
        "id": "n8FXlxv1nI2q"
      },
      "execution_count": null,
      "outputs": []
    },
    {
      "cell_type": "code",
      "source": [
        "x.ndim # liczba wymiarów"
      ],
      "metadata": {
        "id": "5Bo8Fy6BnNSN",
        "outputId": "abd8fa5b-a7d0-4a8e-d907-88b27f725eef",
        "colab": {
          "base_uri": "https://localhost:8080/"
        }
      },
      "execution_count": null,
      "outputs": [
        {
          "output_type": "execute_result",
          "data": {
            "text/plain": [
              "2"
            ]
          },
          "metadata": {},
          "execution_count": 23
        }
      ]
    },
    {
      "cell_type": "code",
      "source": [
        "x.shape #liczba wierszy i kolumn"
      ],
      "metadata": {
        "id": "-NvBGV64nUPg",
        "outputId": "b0ee1690-edd7-49aa-95af-cbaab9a155ff",
        "colab": {
          "base_uri": "https://localhost:8080/"
        }
      },
      "execution_count": null,
      "outputs": [
        {
          "output_type": "execute_result",
          "data": {
            "text/plain": [
              "(2, 2)"
            ]
          },
          "metadata": {},
          "execution_count": 24
        }
      ]
    },
    {
      "cell_type": "code",
      "source": [
        "x = np.array([[1,2,4], [4,2,1]])"
      ],
      "metadata": {
        "id": "NjaRqbH_nVYZ"
      },
      "execution_count": null,
      "outputs": []
    },
    {
      "cell_type": "code",
      "source": [
        "x.shape"
      ],
      "metadata": {
        "id": "09fQGShHn21H",
        "outputId": "6d283dde-c706-474f-ab08-e9e80e656fb7",
        "colab": {
          "base_uri": "https://localhost:8080/"
        }
      },
      "execution_count": null,
      "outputs": [
        {
          "output_type": "execute_result",
          "data": {
            "text/plain": [
              "(2, 3)"
            ]
          },
          "metadata": {},
          "execution_count": 26
        }
      ]
    },
    {
      "cell_type": "markdown",
      "source": [
        "3D Array"
      ],
      "metadata": {
        "id": "nxtW9w1_n7Rv"
      }
    },
    {
      "cell_type": "code",
      "source": [
        "x = np.array(\n",
        "    [[[4,3,1],\n",
        "      [3,1,2]],\n",
        "\n",
        "    [[4,1,3],\n",
        "     [4,2,1]]]\n",
        ")\n",
        "\n",
        "x"
      ],
      "metadata": {
        "id": "waHZp_P5n8Uz",
        "outputId": "c47aed80-9901-4d9e-f3da-f81491d10814",
        "colab": {
          "base_uri": "https://localhost:8080/"
        }
      },
      "execution_count": null,
      "outputs": [
        {
          "output_type": "execute_result",
          "data": {
            "text/plain": [
              "array([[[4, 3, 1],\n",
              "        [3, 1, 2]],\n",
              "\n",
              "       [[4, 1, 3],\n",
              "        [4, 2, 1]]])"
            ]
          },
          "metadata": {},
          "execution_count": 29
        }
      ]
    },
    {
      "cell_type": "code",
      "source": [
        "x.ndim"
      ],
      "metadata": {
        "id": "aJwg28pxoUZ-",
        "outputId": "fda821f2-852f-4dc8-db6b-f12c32c18e3d",
        "colab": {
          "base_uri": "https://localhost:8080/"
        }
      },
      "execution_count": null,
      "outputs": [
        {
          "output_type": "execute_result",
          "data": {
            "text/plain": [
              "3"
            ]
          },
          "metadata": {},
          "execution_count": 30
        }
      ]
    },
    {
      "cell_type": "code",
      "source": [
        "x.shape # liczba tablic / po ile wierszy/ po ile kolumn"
      ],
      "metadata": {
        "id": "2RHMQkIoogzL",
        "outputId": "8e67dd53-2ba8-4116-91b6-dd7a1a4b11fb",
        "colab": {
          "base_uri": "https://localhost:8080/"
        }
      },
      "execution_count": null,
      "outputs": [
        {
          "output_type": "execute_result",
          "data": {
            "text/plain": [
              "(2, 2, 3)"
            ]
          },
          "metadata": {},
          "execution_count": 33
        }
      ]
    },
    {
      "cell_type": "markdown",
      "source": [
        "Typy danych"
      ],
      "metadata": {
        "id": "tAPQiY6Ujh86"
      }
    },
    {
      "cell_type": "code",
      "source": [
        "A = np.array([1,2,3])"
      ],
      "metadata": {
        "id": "pb77TrYsjjgz"
      },
      "execution_count": null,
      "outputs": []
    },
    {
      "cell_type": "code",
      "source": [
        "A.dtype"
      ],
      "metadata": {
        "id": "ykRJJNBFjpKb",
        "outputId": "339eebb1-1247-42e1-abc4-981eccb913a8",
        "colab": {
          "base_uri": "https://localhost:8080/"
        }
      },
      "execution_count": null,
      "outputs": [
        {
          "output_type": "execute_result",
          "data": {
            "text/plain": [
              "dtype('int64')"
            ]
          },
          "metadata": {},
          "execution_count": 4
        }
      ]
    },
    {
      "cell_type": "code",
      "source": [
        "A = np.array([1.0,2.3,3.3])"
      ],
      "metadata": {
        "id": "iHK9grLcjz5T"
      },
      "execution_count": null,
      "outputs": []
    },
    {
      "cell_type": "code",
      "source": [
        "A.dtype"
      ],
      "metadata": {
        "id": "ZVmZkKo_j6ky",
        "outputId": "58d78268-1670-438b-e23c-de65257cc216",
        "colab": {
          "base_uri": "https://localhost:8080/"
        }
      },
      "execution_count": null,
      "outputs": [
        {
          "output_type": "execute_result",
          "data": {
            "text/plain": [
              "dtype('float64')"
            ]
          },
          "metadata": {},
          "execution_count": 6
        }
      ]
    },
    {
      "cell_type": "code",
      "source": [
        "A = np.array([1,2,3], dtype = 'float')"
      ],
      "metadata": {
        "id": "c1gPAssUj8Wq"
      },
      "execution_count": null,
      "outputs": []
    },
    {
      "cell_type": "code",
      "source": [
        "A.dtype"
      ],
      "metadata": {
        "id": "NU3LBjyskKE4",
        "outputId": "b605f828-740d-4fa4-faa2-956ae73c6bd9",
        "colab": {
          "base_uri": "https://localhost:8080/"
        }
      },
      "execution_count": null,
      "outputs": [
        {
          "output_type": "execute_result",
          "data": {
            "text/plain": [
              "dtype('float64')"
            ]
          },
          "metadata": {},
          "execution_count": 8
        }
      ]
    },
    {
      "cell_type": "code",
      "source": [
        "A = np.array([1,2,3], dtype = 'complex')"
      ],
      "metadata": {
        "id": "T9Ug5FEVkL4L"
      },
      "execution_count": null,
      "outputs": []
    },
    {
      "cell_type": "code",
      "source": [
        "A = np.array([1.0,2.7,3.3], dtype = 'int')"
      ],
      "metadata": {
        "id": "1cKaG82FkU1Z"
      },
      "execution_count": null,
      "outputs": []
    },
    {
      "cell_type": "code",
      "source": [
        "A.dtype"
      ],
      "metadata": {
        "id": "0lLa4Dh7kwWe",
        "outputId": "121ea60f-b05c-4391-ae41-11b8356c53f5",
        "colab": {
          "base_uri": "https://localhost:8080/"
        }
      },
      "execution_count": null,
      "outputs": [
        {
          "output_type": "execute_result",
          "data": {
            "text/plain": [
              "dtype('int64')"
            ]
          },
          "metadata": {},
          "execution_count": 11
        }
      ]
    },
    {
      "cell_type": "code",
      "source": [
        "A # Przypisanie typu 'int' do wartości po przecinku spowodowało, że końcówki zostały ucięte (nie zostaly zaokrąglone)"
      ],
      "metadata": {
        "id": "mcrqklrukyYg",
        "outputId": "6793d824-3454-4307-cadc-5670a21dde70",
        "colab": {
          "base_uri": "https://localhost:8080/"
        }
      },
      "execution_count": null,
      "outputs": [
        {
          "output_type": "execute_result",
          "data": {
            "text/plain": [
              "array([1, 2, 3])"
            ]
          },
          "metadata": {},
          "execution_count": 13
        }
      ]
    },
    {
      "cell_type": "code",
      "source": [
        "A"
      ],
      "metadata": {
        "id": "FAT-vzoXkz8b",
        "outputId": "2d7894f4-b221-48a3-df86-eb250c58961f",
        "colab": {
          "base_uri": "https://localhost:8080/"
        }
      },
      "execution_count": null,
      "outputs": [
        {
          "output_type": "execute_result",
          "data": {
            "text/plain": [
              "array([1, 2, 3])"
            ]
          },
          "metadata": {},
          "execution_count": 14
        }
      ]
    },
    {
      "cell_type": "code",
      "source": [
        "A = np.array([True, False])"
      ],
      "metadata": {
        "id": "zv94rkIVlBJC"
      },
      "execution_count": null,
      "outputs": []
    },
    {
      "cell_type": "code",
      "source": [
        "A.dtype"
      ],
      "metadata": {
        "id": "HjvQ7e1rlNrK",
        "outputId": "97916f48-8003-4e79-d158-3f92817a4e27",
        "colab": {
          "base_uri": "https://localhost:8080/"
        }
      },
      "execution_count": null,
      "outputs": [
        {
          "output_type": "execute_result",
          "data": {
            "text/plain": [
              "dtype('bool')"
            ]
          },
          "metadata": {},
          "execution_count": 16
        }
      ]
    },
    {
      "cell_type": "code",
      "source": [
        "A = np.array([24,120,230], dtype=np.int8) #Do tworzenia obrazów"
      ],
      "metadata": {
        "id": "-3aDSzixlPAM",
        "outputId": "681e8097-dd0f-468d-ce60-fff0d214952a",
        "colab": {
          "base_uri": "https://localhost:8080/"
        }
      },
      "execution_count": null,
      "outputs": [
        {
          "output_type": "stream",
          "name": "stderr",
          "text": [
            "<ipython-input-19-98e875234b8a>:1: DeprecationWarning: NumPy will stop allowing conversion of out-of-bound Python integers to integer arrays.  The conversion of 230 to int8 will fail in the future.\n",
            "For the old behavior, usually:\n",
            "    np.array(value).astype(dtype)\n",
            "will give the desired result (the cast overflows).\n",
            "  A = np.array([24,120,230], dtype=np.int8) #Do tworzenia obrazów\n"
          ]
        }
      ]
    },
    {
      "cell_type": "code",
      "source": [
        "A.dtype"
      ],
      "metadata": {
        "id": "KT-IWTuBljGo",
        "outputId": "a68ef035-1eff-4e1e-81ac-72811d3170f6",
        "colab": {
          "base_uri": "https://localhost:8080/"
        }
      },
      "execution_count": null,
      "outputs": [
        {
          "output_type": "execute_result",
          "data": {
            "text/plain": [
              "dtype('int8')"
            ]
          },
          "metadata": {},
          "execution_count": 18
        }
      ]
    },
    {
      "cell_type": "code",
      "source": [
        "A = np.array([24,120,230], dtype=np.uint8) #Do tworzenia obrazów, wartości od 0-255"
      ],
      "metadata": {
        "id": "9WmVT5mrluPg"
      },
      "execution_count": null,
      "outputs": []
    },
    {
      "cell_type": "code",
      "source": [
        "A.dtype"
      ],
      "metadata": {
        "id": "GpcG4R6Wmqkq",
        "outputId": "cd0693fe-d554-4396-d9a3-5d19004e3382",
        "colab": {
          "base_uri": "https://localhost:8080/"
        }
      },
      "execution_count": null,
      "outputs": [
        {
          "output_type": "execute_result",
          "data": {
            "text/plain": [
              "dtype('uint8')"
            ]
          },
          "metadata": {},
          "execution_count": 21
        }
      ]
    },
    {
      "cell_type": "markdown",
      "source": [
        "Tworzenie tablic"
      ],
      "metadata": {
        "id": "1I14_iX-nDLm"
      }
    },
    {
      "cell_type": "code",
      "source": [
        "np.zeros(shape=(4,10)) #tablica składająca się z samych zer, 4 wiersze, 10 kolumn, domyślnie jest typ 'float'"
      ],
      "metadata": {
        "id": "GyUlaxEnnEcg",
        "outputId": "d7b6e026-96e5-473e-da21-814a7123b217",
        "colab": {
          "base_uri": "https://localhost:8080/"
        }
      },
      "execution_count": null,
      "outputs": [
        {
          "output_type": "execute_result",
          "data": {
            "text/plain": [
              "array([[0., 0., 0., 0., 0., 0., 0., 0., 0., 0.],\n",
              "       [0., 0., 0., 0., 0., 0., 0., 0., 0., 0.],\n",
              "       [0., 0., 0., 0., 0., 0., 0., 0., 0., 0.],\n",
              "       [0., 0., 0., 0., 0., 0., 0., 0., 0., 0.]])"
            ]
          },
          "metadata": {},
          "execution_count": 23
        }
      ]
    },
    {
      "cell_type": "markdown",
      "source": [
        "Zeros super do tworzenia masek na zdjęcie"
      ],
      "metadata": {
        "id": "aJMp-2m2nuVI"
      }
    },
    {
      "cell_type": "code",
      "source": [
        "np.ones(shape=(5,5), dtype='int')"
      ],
      "metadata": {
        "id": "p9FkWA9QnxRq",
        "outputId": "4f2ee251-0453-4792-d8d4-d63aab2d25ba",
        "colab": {
          "base_uri": "https://localhost:8080/"
        }
      },
      "execution_count": null,
      "outputs": [
        {
          "output_type": "execute_result",
          "data": {
            "text/plain": [
              "array([[1, 1, 1, 1, 1],\n",
              "       [1, 1, 1, 1, 1],\n",
              "       [1, 1, 1, 1, 1],\n",
              "       [1, 1, 1, 1, 1],\n",
              "       [1, 1, 1, 1, 1]])"
            ]
          },
          "metadata": {},
          "execution_count": 25
        }
      ]
    },
    {
      "cell_type": "code",
      "source": [
        "np.full(shape=(3,3), fill_value=4, dtype='int') #wypełnienie tablicy konkretną wartością"
      ],
      "metadata": {
        "id": "nvFx6RTKn5Lv",
        "outputId": "20067744-b39d-48a0-a728-ce7d99bdc3fe",
        "colab": {
          "base_uri": "https://localhost:8080/"
        }
      },
      "execution_count": null,
      "outputs": [
        {
          "output_type": "execute_result",
          "data": {
            "text/plain": [
              "array([[4, 4, 4],\n",
              "       [4, 4, 4],\n",
              "       [4, 4, 4]])"
            ]
          },
          "metadata": {},
          "execution_count": 26
        }
      ]
    },
    {
      "cell_type": "code",
      "source": [
        "np.arange(10) #wygeneruje dane w postaci array"
      ],
      "metadata": {
        "id": "RjYtFqwyoQCk",
        "outputId": "687f2e8b-e31e-4bab-b4fd-d32116bcc166",
        "colab": {
          "base_uri": "https://localhost:8080/"
        }
      },
      "execution_count": null,
      "outputs": [
        {
          "output_type": "execute_result",
          "data": {
            "text/plain": [
              "array([0, 1, 2, 3, 4, 5, 6, 7, 8, 9])"
            ]
          },
          "metadata": {},
          "execution_count": 28
        }
      ]
    },
    {
      "cell_type": "code",
      "source": [
        "np.arange(start=5, stop=10) #bez 10"
      ],
      "metadata": {
        "id": "1-CjbhFMoZ7G",
        "outputId": "99189b9b-6baa-4780-a3c5-18b272dc51dc",
        "colab": {
          "base_uri": "https://localhost:8080/"
        }
      },
      "execution_count": null,
      "outputs": [
        {
          "output_type": "execute_result",
          "data": {
            "text/plain": [
              "array([5, 6, 7, 8, 9])"
            ]
          },
          "metadata": {},
          "execution_count": 30
        }
      ]
    },
    {
      "cell_type": "code",
      "source": [
        "np.arange(start=10, stop=100, step=10)"
      ],
      "metadata": {
        "id": "VzFPgyMEoiuW",
        "outputId": "ed8b1913-d05e-4b91-966c-d61c25cd259d",
        "colab": {
          "base_uri": "https://localhost:8080/"
        }
      },
      "execution_count": null,
      "outputs": [
        {
          "output_type": "execute_result",
          "data": {
            "text/plain": [
              "array([10, 20, 30, 40, 50, 60, 70, 80, 90])"
            ]
          },
          "metadata": {},
          "execution_count": 31
        }
      ]
    },
    {
      "cell_type": "code",
      "source": [
        "np.arange(start=100, stop=10, step=-10)"
      ],
      "metadata": {
        "id": "Uh3MqyuLosqC",
        "outputId": "24ebf473-53a9-48d5-cb88-ec3929295679",
        "colab": {
          "base_uri": "https://localhost:8080/"
        }
      },
      "execution_count": null,
      "outputs": [
        {
          "output_type": "execute_result",
          "data": {
            "text/plain": [
              "array([100,  90,  80,  70,  60,  50,  40,  30,  20])"
            ]
          },
          "metadata": {},
          "execution_count": 32
        }
      ]
    },
    {
      "cell_type": "code",
      "source": [
        "np.linspace(start=0, stop=1, num=11) #ile elementów chcemy wygenerowac z przedizału, równo rozlozone"
      ],
      "metadata": {
        "id": "gHlyfca8oyeA",
        "outputId": "1b174b16-39e6-42a4-e858-20f4c1b826c3",
        "colab": {
          "base_uri": "https://localhost:8080/"
        }
      },
      "execution_count": null,
      "outputs": [
        {
          "output_type": "execute_result",
          "data": {
            "text/plain": [
              "array([0. , 0.1, 0.2, 0.3, 0.4, 0.5, 0.6, 0.7, 0.8, 0.9, 1. ])"
            ]
          },
          "metadata": {},
          "execution_count": 35
        }
      ]
    },
    {
      "cell_type": "code",
      "source": [
        "A = np.arange(15)\n",
        "A"
      ],
      "metadata": {
        "id": "nF1FcoI7pGPy",
        "outputId": "1fd7c720-17c1-4fa5-a687-3e0a5ca344f1",
        "colab": {
          "base_uri": "https://localhost:8080/"
        }
      },
      "execution_count": null,
      "outputs": [
        {
          "output_type": "execute_result",
          "data": {
            "text/plain": [
              "array([ 0,  1,  2,  3,  4,  5,  6,  7,  8,  9, 10, 11, 12, 13, 14])"
            ]
          },
          "metadata": {},
          "execution_count": 38
        }
      ]
    },
    {
      "cell_type": "code",
      "source": [
        "A.reshape((3,5)) # zmiana z tablicy 1,15 na 3,5"
      ],
      "metadata": {
        "id": "ZxxjYc3DraEf",
        "outputId": "a14adb5f-0916-4ef9-ba38-59924ef434dc",
        "colab": {
          "base_uri": "https://localhost:8080/"
        }
      },
      "execution_count": null,
      "outputs": [
        {
          "output_type": "execute_result",
          "data": {
            "text/plain": [
              "array([[ 0,  1,  2,  3,  4],\n",
              "       [ 5,  6,  7,  8,  9],\n",
              "       [10, 11, 12, 13, 14]])"
            ]
          },
          "metadata": {},
          "execution_count": 40
        }
      ]
    },
    {
      "cell_type": "markdown",
      "source": [
        "Podstawowe operacje na tablicach"
      ],
      "metadata": {
        "id": "p-Ar5Tzkqbw3"
      }
    },
    {
      "cell_type": "code",
      "source": [
        "A = np.array([3, 1, 4, 2])\n",
        "B = np.array([3, -1, 3, 2])\n",
        "print(A)\n",
        "print(B)"
      ],
      "metadata": {
        "id": "4-RZBjfFqerl",
        "outputId": "aaffb2f3-0370-47dd-d8c4-8abab396226a",
        "colab": {
          "base_uri": "https://localhost:8080/"
        }
      },
      "execution_count": null,
      "outputs": [
        {
          "output_type": "stream",
          "name": "stdout",
          "text": [
            "[3 1 4 2]\n",
            "[ 3 -1  3  2]\n"
          ]
        }
      ]
    },
    {
      "cell_type": "code",
      "source": [
        "A + B #operacje wykonywane na elementach tablicy (tak samo odejmowanie, mnożenie, dzielenie)"
      ],
      "metadata": {
        "id": "zD3n_L_SqotG",
        "outputId": "313fa4f5-4ce2-4129-c4d8-77de770be265",
        "colab": {
          "base_uri": "https://localhost:8080/"
        }
      },
      "execution_count": null,
      "outputs": [
        {
          "output_type": "execute_result",
          "data": {
            "text/plain": [
              "array([6, 0, 7, 4])"
            ]
          },
          "metadata": {},
          "execution_count": 5
        }
      ]
    },
    {
      "cell_type": "code",
      "source": [
        "A + 3 # dodawanie do każdego elementu stałej wartości (tak samo odej, mnoz, dziel)"
      ],
      "metadata": {
        "id": "fz8qIwdJrDk3",
        "outputId": "1ae6706c-0cd9-495a-a8e5-7210b109329d",
        "colab": {
          "base_uri": "https://localhost:8080/"
        }
      },
      "execution_count": null,
      "outputs": [
        {
          "output_type": "execute_result",
          "data": {
            "text/plain": [
              "array([6, 4, 7, 5])"
            ]
          },
          "metadata": {},
          "execution_count": 6
        }
      ]
    },
    {
      "cell_type": "code",
      "source": [
        "np.add(A, B) # metoda add do dodawania tablic"
      ],
      "metadata": {
        "id": "7QL4I_67tmRF",
        "outputId": "597dc5e9-292f-4a23-a0ae-9bb57ffa17db",
        "colab": {
          "base_uri": "https://localhost:8080/"
        }
      },
      "execution_count": null,
      "outputs": [
        {
          "output_type": "execute_result",
          "data": {
            "text/plain": [
              "array([6, 0, 7, 4])"
            ]
          },
          "metadata": {},
          "execution_count": 8
        }
      ]
    },
    {
      "cell_type": "code",
      "source": [
        "np.subtract(A, B) # metoda subtract do odejmowania tablic"
      ],
      "metadata": {
        "id": "MvZDRgAot45z",
        "outputId": "41ca845c-2e0c-4005-f7a7-72221d4994d4",
        "colab": {
          "base_uri": "https://localhost:8080/"
        }
      },
      "execution_count": null,
      "outputs": [
        {
          "output_type": "execute_result",
          "data": {
            "text/plain": [
              "array([0, 2, 1, 0])"
            ]
          },
          "metadata": {},
          "execution_count": 9
        }
      ]
    },
    {
      "cell_type": "code",
      "source": [
        "np.multiply(A, B) #do mnozenia tablic"
      ],
      "metadata": {
        "id": "UjkU9EnIuCfg",
        "outputId": "847afcaa-cc96-47ed-84fe-0c0a42c20b44",
        "colab": {
          "base_uri": "https://localhost:8080/"
        }
      },
      "execution_count": null,
      "outputs": [
        {
          "output_type": "execute_result",
          "data": {
            "text/plain": [
              "array([ 9, -1, 12,  4])"
            ]
          },
          "metadata": {},
          "execution_count": 10
        }
      ]
    },
    {
      "cell_type": "code",
      "source": [
        "np.divide(A, B) # do dzielenia tablic"
      ],
      "metadata": {
        "id": "2hbIG1KGuJXH",
        "outputId": "10618f7c-f145-41f3-92ff-607064514b1c",
        "colab": {
          "base_uri": "https://localhost:8080/"
        }
      },
      "execution_count": null,
      "outputs": [
        {
          "output_type": "execute_result",
          "data": {
            "text/plain": [
              "array([ 1.        , -1.        ,  1.33333333,  1.        ])"
            ]
          },
          "metadata": {},
          "execution_count": 11
        }
      ]
    },
    {
      "cell_type": "markdown",
      "source": [
        "Mnożenie macierzowe"
      ],
      "metadata": {
        "id": "b_Eqk804uSqc"
      }
    },
    {
      "cell_type": "code",
      "source": [
        "X = np.array([[1, 3], [-2, 0]])\n",
        "Y = np.array([[6, 0], [-1, 2]])\n",
        "print(X)\n",
        "print(Y)"
      ],
      "metadata": {
        "id": "RKX4fzyHuVMF",
        "outputId": "a49ed328-ffef-4a41-8f73-2d2462f4efe8",
        "colab": {
          "base_uri": "https://localhost:8080/"
        }
      },
      "execution_count": null,
      "outputs": [
        {
          "output_type": "stream",
          "name": "stdout",
          "text": [
            "[[ 1  3]\n",
            " [-2  0]]\n",
            "[[ 6  0]\n",
            " [-1  2]]\n"
          ]
        }
      ]
    },
    {
      "cell_type": "code",
      "source": [
        "X * Y #zwykłe mnożenie"
      ],
      "metadata": {
        "id": "WuMQy6SDuhKN",
        "outputId": "6e8b115f-e726-4fb1-8726-b0bd9979f94b",
        "colab": {
          "base_uri": "https://localhost:8080/"
        }
      },
      "execution_count": null,
      "outputs": [
        {
          "output_type": "execute_result",
          "data": {
            "text/plain": [
              "array([[6, 0],\n",
              "       [2, 0]])"
            ]
          },
          "metadata": {},
          "execution_count": 15
        }
      ]
    },
    {
      "cell_type": "code",
      "source": [
        "np.dot(X, Y) #mnożenie macierzowe !!!!!! wiersz * kolumna i wiersz * kolumna"
      ],
      "metadata": {
        "id": "ibOMyq8Xu138",
        "outputId": "f8d09e9f-2a69-43d4-8803-5044672498e7",
        "colab": {
          "base_uri": "https://localhost:8080/"
        }
      },
      "execution_count": null,
      "outputs": [
        {
          "output_type": "execute_result",
          "data": {
            "text/plain": [
              "array([[  3,   6],\n",
              "       [-12,   0]])"
            ]
          },
          "metadata": {},
          "execution_count": 16
        }
      ]
    },
    {
      "cell_type": "markdown",
      "source": [
        "MNOŻENIE MACIERZOWE NIE JEST PRZEMIENNE!"
      ],
      "metadata": {
        "id": "HdbfhftDvShv"
      }
    },
    {
      "cell_type": "code",
      "source": [
        "X @ Y # mnożenie macierzowe"
      ],
      "metadata": {
        "id": "HiwsFAEuvBq1",
        "outputId": "62e96877-1ef1-4e32-e15f-4ee934c17eb2",
        "colab": {
          "base_uri": "https://localhost:8080/"
        }
      },
      "execution_count": null,
      "outputs": [
        {
          "output_type": "execute_result",
          "data": {
            "text/plain": [
              "array([[  3,   6],\n",
              "       [-12,   0]])"
            ]
          },
          "metadata": {},
          "execution_count": 17
        }
      ]
    },
    {
      "cell_type": "markdown",
      "source": [
        "Generowanie liczb pseudolosowych"
      ],
      "metadata": {
        "id": "lCsDf2M1vnCm"
      }
    },
    {
      "cell_type": "code",
      "source": [
        "np.random.seed(0) # seed - ziarno losowania, jeśli jest ustawione 0 to wynik zawsze będzie ten sam"
      ],
      "metadata": {
        "id": "bOWX6w0fvpa5"
      },
      "execution_count": null,
      "outputs": []
    },
    {
      "cell_type": "code",
      "source": [
        "np.random.randn() #zwróci losową wartość z rozkładu normalnego"
      ],
      "metadata": {
        "id": "JCP62-9lv7Iy",
        "outputId": "1a13ead5-8e2f-42ab-ee1a-07863a353747",
        "colab": {
          "base_uri": "https://localhost:8080/"
        }
      },
      "execution_count": null,
      "outputs": [
        {
          "output_type": "execute_result",
          "data": {
            "text/plain": [
              "1.764052345967664"
            ]
          },
          "metadata": {},
          "execution_count": 20
        }
      ]
    },
    {
      "cell_type": "code",
      "source": [
        "np.random.randn(10)"
      ],
      "metadata": {
        "id": "v8Hk_04hwEPL",
        "outputId": "9502deb5-a63c-4f5f-ce14-0550233dd5ff",
        "colab": {
          "base_uri": "https://localhost:8080/"
        }
      },
      "execution_count": null,
      "outputs": [
        {
          "output_type": "execute_result",
          "data": {
            "text/plain": [
              "array([ 0.40015721,  0.97873798,  2.2408932 ,  1.86755799, -0.97727788,\n",
              "        0.95008842, -0.15135721, -0.10321885,  0.4105985 ,  0.14404357])"
            ]
          },
          "metadata": {},
          "execution_count": 21
        }
      ]
    },
    {
      "cell_type": "code",
      "source": [
        "np.random.randn(10, 4) # parametr pierwszy - liczba wierszy, drugi - liczba kolumn"
      ],
      "metadata": {
        "id": "vQvrGTGkwMB-",
        "outputId": "31473a32-817e-4858-f6a2-8cae0726a513",
        "colab": {
          "base_uri": "https://localhost:8080/"
        }
      },
      "execution_count": null,
      "outputs": [
        {
          "output_type": "execute_result",
          "data": {
            "text/plain": [
              "array([[ 0.3869025 , -0.51080514, -1.18063218, -0.02818223],\n",
              "       [ 0.42833187,  0.06651722,  0.3024719 , -0.63432209],\n",
              "       [-0.36274117, -0.67246045, -0.35955316, -0.81314628],\n",
              "       [-1.7262826 ,  0.17742614, -0.40178094, -1.63019835],\n",
              "       [ 0.46278226, -0.90729836,  0.0519454 ,  0.72909056],\n",
              "       [ 0.12898291,  1.13940068, -1.23482582,  0.40234164],\n",
              "       [-0.68481009, -0.87079715, -0.57884966, -0.31155253],\n",
              "       [ 0.05616534, -1.16514984,  0.90082649,  0.46566244],\n",
              "       [-1.53624369,  1.48825219,  1.89588918,  1.17877957],\n",
              "       [-0.17992484, -1.07075262,  1.05445173, -0.40317695]])"
            ]
          },
          "metadata": {},
          "execution_count": 23
        }
      ]
    },
    {
      "cell_type": "code",
      "source": [
        "np.random.rand()"
      ],
      "metadata": {
        "id": "0prANXhHwUn6",
        "outputId": "40da89cc-46b5-436b-91bf-6c699097ccaf",
        "colab": {
          "base_uri": "https://localhost:8080/"
        }
      },
      "execution_count": null,
      "outputs": [
        {
          "output_type": "execute_result",
          "data": {
            "text/plain": [
              "0.8811031971111616"
            ]
          },
          "metadata": {},
          "execution_count": 24
        }
      ]
    },
    {
      "cell_type": "code",
      "source": [
        "np.random.randint(10) #zwróci liczbę całkowitą mniejszą niż 10, większą niż 0"
      ],
      "metadata": {
        "id": "JsMOtwg-wfs5",
        "outputId": "d55cbdfc-7086-4fbd-dfd9-0ea5ae3ab3a5",
        "colab": {
          "base_uri": "https://localhost:8080/"
        }
      },
      "execution_count": null,
      "outputs": [
        {
          "output_type": "execute_result",
          "data": {
            "text/plain": [
              "5"
            ]
          },
          "metadata": {},
          "execution_count": 26
        }
      ]
    },
    {
      "cell_type": "code",
      "source": [
        "np.random.randint(low=10, high=101) #generuje losową liczbę dwucyfrową"
      ],
      "metadata": {
        "id": "GPi51t9zwomi",
        "outputId": "1e511809-5937-466d-e8d8-9a43f1768032",
        "colab": {
          "base_uri": "https://localhost:8080/"
        }
      },
      "execution_count": null,
      "outputs": [
        {
          "output_type": "execute_result",
          "data": {
            "text/plain": [
              "35"
            ]
          },
          "metadata": {},
          "execution_count": 27
        }
      ]
    },
    {
      "cell_type": "code",
      "source": [
        "np.random.randint(low=10, high=101, size=10) #generuje losową liczbę dwucyfrową z 10cioma elementami"
      ],
      "metadata": {
        "id": "iU4yKsbYw2sW",
        "outputId": "0def1682-f8a0-4d55-8d2c-947cd1426512",
        "colab": {
          "base_uri": "https://localhost:8080/"
        }
      },
      "execution_count": null,
      "outputs": [
        {
          "output_type": "execute_result",
          "data": {
            "text/plain": [
              "array([90, 70, 71, 93, 43, 42, 80, 95, 41, 23])"
            ]
          },
          "metadata": {},
          "execution_count": 28
        }
      ]
    },
    {
      "cell_type": "code",
      "source": [
        "np.random.choice([4, 2, 1, 3]) #zwróci losowy element z listy"
      ],
      "metadata": {
        "id": "H-LRA0PSw_BT",
        "outputId": "cf7a8d4c-a3c2-4f21-fd40-10a5648c81a9",
        "colab": {
          "base_uri": "https://localhost:8080/"
        }
      },
      "execution_count": null,
      "outputs": [
        {
          "output_type": "execute_result",
          "data": {
            "text/plain": [
              "3"
            ]
          },
          "metadata": {},
          "execution_count": 29
        }
      ]
    },
    {
      "cell_type": "code",
      "source": [
        "np.random.choice(['python', 'zaba'])"
      ],
      "metadata": {
        "id": "CmiaPXEQxJdW",
        "outputId": "13c8c9e6-c14f-4374-d5f6-2afa6fcc8886",
        "colab": {
          "base_uri": "https://localhost:8080/",
          "height": 35
        }
      },
      "execution_count": null,
      "outputs": [
        {
          "output_type": "execute_result",
          "data": {
            "text/plain": [
              "'python'"
            ],
            "application/vnd.google.colaboratory.intrinsic+json": {
              "type": "string"
            }
          },
          "metadata": {},
          "execution_count": 30
        }
      ]
    },
    {
      "cell_type": "code",
      "source": [
        "data = np.arange(10)\n",
        "data"
      ],
      "metadata": {
        "id": "ilb-_daDxOzT",
        "outputId": "725c5341-7418-459c-9c0f-494693fea31e",
        "colab": {
          "base_uri": "https://localhost:8080/"
        }
      },
      "execution_count": null,
      "outputs": [
        {
          "output_type": "execute_result",
          "data": {
            "text/plain": [
              "array([0, 1, 2, 3, 4, 5, 6, 7, 8, 9])"
            ]
          },
          "metadata": {},
          "execution_count": 32
        }
      ]
    },
    {
      "cell_type": "code",
      "source": [
        "np.random.shuffle(data) #przetasuje elementy\n",
        "data"
      ],
      "metadata": {
        "id": "HDRSMaMIxUmH",
        "outputId": "f1ad4c9f-0f5f-44c9-e4fa-c729dce05663",
        "colab": {
          "base_uri": "https://localhost:8080/"
        }
      },
      "execution_count": null,
      "outputs": [
        {
          "output_type": "execute_result",
          "data": {
            "text/plain": [
              "array([3, 7, 1, 5, 6, 0, 9, 4, 8, 2])"
            ]
          },
          "metadata": {},
          "execution_count": 34
        }
      ]
    },
    {
      "cell_type": "code",
      "source": [],
      "metadata": {
        "id": "KjRtZ9AdxciA"
      },
      "execution_count": null,
      "outputs": []
    },
    {
      "cell_type": "markdown",
      "source": [
        "Podstawowe funkcje NumPy"
      ],
      "metadata": {
        "id": "jYTWEJeDxt32"
      }
    },
    {
      "cell_type": "code",
      "source": [
        "np.exp(1) #stała Eulera"
      ],
      "metadata": {
        "id": "DEWlIN_Sxw5t",
        "outputId": "cbf536df-3eed-4c6f-a765-34f6fa12d415",
        "colab": {
          "base_uri": "https://localhost:8080/"
        }
      },
      "execution_count": null,
      "outputs": [
        {
          "output_type": "execute_result",
          "data": {
            "text/plain": [
              "2.718281828459045"
            ]
          },
          "metadata": {},
          "execution_count": 35
        }
      ]
    },
    {
      "cell_type": "code",
      "source": [
        "np.sqrt(9)"
      ],
      "metadata": {
        "id": "CCSBpqovx2AQ",
        "outputId": "562c40bd-8413-4760-d462-544bd785b92c",
        "colab": {
          "base_uri": "https://localhost:8080/"
        }
      },
      "execution_count": null,
      "outputs": [
        {
          "output_type": "execute_result",
          "data": {
            "text/plain": [
              "3.0"
            ]
          },
          "metadata": {},
          "execution_count": 36
        }
      ]
    },
    {
      "cell_type": "code",
      "source": [
        "np.all([2,3,1]) #sprawdza czy zwraca nam wartosc true/false"
      ],
      "metadata": {
        "id": "2d-FvIthx5Hn",
        "outputId": "955a48cd-6b5d-4840-c81b-50a7145f149c",
        "colab": {
          "base_uri": "https://localhost:8080/"
        }
      },
      "execution_count": null,
      "outputs": [
        {
          "output_type": "execute_result",
          "data": {
            "text/plain": [
              "True"
            ]
          },
          "metadata": {},
          "execution_count": 38
        }
      ]
    },
    {
      "cell_type": "code",
      "source": [
        "np.any([0, 0, 1]) #sprawdza czy jakikolwiek obiekt jest prawdą / czasem możemy szukać czy mamy gdzies 0 w tablicy"
      ],
      "metadata": {
        "id": "1DEBO6T1x9Tv",
        "outputId": "a9a59719-30df-4e2c-dd83-c3ddd88f9cc9",
        "colab": {
          "base_uri": "https://localhost:8080/"
        }
      },
      "execution_count": null,
      "outputs": [
        {
          "output_type": "execute_result",
          "data": {
            "text/plain": [
              "True"
            ]
          },
          "metadata": {},
          "execution_count": 41
        }
      ]
    },
    {
      "cell_type": "code",
      "source": [
        "A = np.random.rand(5) #przypuśćmy, że mamy 5 klas, model nam zwróci 5 wartości i chcemy wiedzieć co dalej\n",
        "A"
      ],
      "metadata": {
        "id": "M9fhJDcNyKyv",
        "outputId": "d84ea8d4-4b97-4b3b-befc-33de4971121e",
        "colab": {
          "base_uri": "https://localhost:8080/"
        }
      },
      "execution_count": null,
      "outputs": [
        {
          "output_type": "execute_result",
          "data": {
            "text/plain": [
              "array([0.16249293, 0.61555956, 0.12381998, 0.84800823, 0.80731896])"
            ]
          },
          "metadata": {},
          "execution_count": 44
        }
      ]
    },
    {
      "cell_type": "code",
      "source": [
        "np.argmax(A)# probujemy uzyc funkcji, ktora wycignie nam indeks gdzie nasza tablica przyjmuje wartosc najwiekszą"
      ],
      "metadata": {
        "id": "coxyyGjoycaz",
        "outputId": "d37c98e3-bae8-456f-d4dd-69bd8f28f9fd",
        "colab": {
          "base_uri": "https://localhost:8080/"
        }
      },
      "execution_count": null,
      "outputs": [
        {
          "output_type": "execute_result",
          "data": {
            "text/plain": [
              "3"
            ]
          },
          "metadata": {},
          "execution_count": 45
        }
      ]
    },
    {
      "cell_type": "code",
      "source": [
        "A[np.argmax(A)] #wycina wartość o najwyzeszej wartosci"
      ],
      "metadata": {
        "id": "6_cdXS9Hy5GB",
        "outputId": "ece39cbf-c04f-46b2-8f57-07ce3dcf5968",
        "colab": {
          "base_uri": "https://localhost:8080/"
        }
      },
      "execution_count": null,
      "outputs": [
        {
          "output_type": "execute_result",
          "data": {
            "text/plain": [
              "0.8480082293222344"
            ]
          },
          "metadata": {},
          "execution_count": 46
        }
      ]
    },
    {
      "cell_type": "code",
      "source": [
        "np.argmin(A) #indeks wartosci najnizszej"
      ],
      "metadata": {
        "id": "-CAgDrL5zO1L",
        "outputId": "cab92b49-ab73-4511-fe5e-898040fba5e0",
        "colab": {
          "base_uri": "https://localhost:8080/"
        }
      },
      "execution_count": null,
      "outputs": [
        {
          "output_type": "execute_result",
          "data": {
            "text/plain": [
              "2"
            ]
          },
          "metadata": {},
          "execution_count": 48
        }
      ]
    },
    {
      "cell_type": "code",
      "source": [
        "np.argsort(A) #sortuje indeksy od najwyzszych do najnizszych wartosic"
      ],
      "metadata": {
        "id": "OHVFbAotzV3P",
        "outputId": "3be331c3-45cf-4fdc-b470-d71f3857c2cb",
        "colab": {
          "base_uri": "https://localhost:8080/"
        }
      },
      "execution_count": null,
      "outputs": [
        {
          "output_type": "execute_result",
          "data": {
            "text/plain": [
              "array([2, 0, 1, 4, 3])"
            ]
          },
          "metadata": {},
          "execution_count": 49
        }
      ]
    },
    {
      "cell_type": "code",
      "source": [
        "np.max(A) #wartosc najwyzsza w tablicy"
      ],
      "metadata": {
        "id": "6mOFSu_PzmKm",
        "outputId": "93fe58b6-9f74-4d44-9804-41a7aa7c6a47",
        "colab": {
          "base_uri": "https://localhost:8080/"
        }
      },
      "execution_count": null,
      "outputs": [
        {
          "output_type": "execute_result",
          "data": {
            "text/plain": [
              "0.8480082293222344"
            ]
          },
          "metadata": {},
          "execution_count": 50
        }
      ]
    },
    {
      "cell_type": "code",
      "source": [
        "np.min(A) #wartosc najnizsza"
      ],
      "metadata": {
        "id": "xpeKFrKHzpi2",
        "outputId": "9bcd3e8c-7099-4538-d84e-6c195d908d5d",
        "colab": {
          "base_uri": "https://localhost:8080/"
        }
      },
      "execution_count": null,
      "outputs": [
        {
          "output_type": "execute_result",
          "data": {
            "text/plain": [
              "0.12381998284944151"
            ]
          },
          "metadata": {},
          "execution_count": 51
        }
      ]
    },
    {
      "cell_type": "code",
      "source": [
        "np.median(A)"
      ],
      "metadata": {
        "id": "Mh_yAvZ0zs93",
        "outputId": "e87ff3c5-1507-4447-9c2c-88da229a072e",
        "colab": {
          "base_uri": "https://localhost:8080/"
        }
      },
      "execution_count": null,
      "outputs": [
        {
          "output_type": "execute_result",
          "data": {
            "text/plain": [
              "0.6155595642838442"
            ]
          },
          "metadata": {},
          "execution_count": 52
        }
      ]
    },
    {
      "cell_type": "code",
      "source": [
        "np.std(A)"
      ],
      "metadata": {
        "id": "015C4FN-zumF",
        "outputId": "9d4fcd49-3d39-473d-c7b5-b9345e0cad43",
        "colab": {
          "base_uri": "https://localhost:8080/"
        }
      },
      "execution_count": null,
      "outputs": [
        {
          "output_type": "execute_result",
          "data": {
            "text/plain": [
              "0.3110230689083066"
            ]
          },
          "metadata": {},
          "execution_count": 53
        }
      ]
    },
    {
      "cell_type": "code",
      "source": [
        "A = np.arange(start=-10, stop=10, step=0.5)\n",
        "A.reshape(10,-1)"
      ],
      "metadata": {
        "id": "3K6-GIZ7zxEi",
        "outputId": "3626695a-2bad-4827-cd5a-f88f24d1906b",
        "colab": {
          "base_uri": "https://localhost:8080/"
        }
      },
      "execution_count": 3,
      "outputs": [
        {
          "output_type": "execute_result",
          "data": {
            "text/plain": [
              "array([[-10. ,  -9.5,  -9. ,  -8.5],\n",
              "       [ -8. ,  -7.5,  -7. ,  -6.5],\n",
              "       [ -6. ,  -5.5,  -5. ,  -4.5],\n",
              "       [ -4. ,  -3.5,  -3. ,  -2.5],\n",
              "       [ -2. ,  -1.5,  -1. ,  -0.5],\n",
              "       [  0. ,   0.5,   1. ,   1.5],\n",
              "       [  2. ,   2.5,   3. ,   3.5],\n",
              "       [  4. ,   4.5,   5. ,   5.5],\n",
              "       [  6. ,   6.5,   7. ,   7.5],\n",
              "       [  8. ,   8.5,   9. ,   9.5]])"
            ]
          },
          "metadata": {},
          "execution_count": 3
        }
      ]
    },
    {
      "cell_type": "code",
      "source": [
        "np.bitwise_and(A > -5, A < 5) #zwórci nam True, kiedy element tablicy będzie spełniał warunek AND (bez funkcji 'bitwise' python nie wiedziałby co ma zrobić z tym przedziałem)"
      ],
      "metadata": {
        "id": "ZWf5q2uGPoTe",
        "outputId": "e03a7209-d1c3-4d90-a47f-6bc538ba1ee4",
        "colab": {
          "base_uri": "https://localhost:8080/"
        }
      },
      "execution_count": 5,
      "outputs": [
        {
          "output_type": "execute_result",
          "data": {
            "text/plain": [
              "array([False, False, False, False, False, False, False, False, False,\n",
              "       False, False,  True,  True,  True,  True,  True,  True,  True,\n",
              "        True,  True,  True,  True,  True,  True,  True,  True,  True,\n",
              "        True,  True,  True, False, False, False, False, False, False,\n",
              "       False, False, False, False])"
            ]
          },
          "metadata": {},
          "execution_count": 5
        }
      ]
    },
    {
      "cell_type": "code",
      "source": [
        "np.bitwise_or(A < -5, A > 5) # warunek OR"
      ],
      "metadata": {
        "id": "MDVhN7dkP0DP",
        "outputId": "3487bab2-a7d0-4d80-b35d-3171360369f8",
        "colab": {
          "base_uri": "https://localhost:8080/"
        }
      },
      "execution_count": 8,
      "outputs": [
        {
          "output_type": "execute_result",
          "data": {
            "text/plain": [
              "array([ True,  True,  True,  True,  True,  True,  True,  True,  True,\n",
              "        True, False, False, False, False, False, False, False, False,\n",
              "       False, False, False, False, False, False, False, False, False,\n",
              "       False, False, False, False,  True,  True,  True,  True,  True,\n",
              "        True,  True,  True,  True])"
            ]
          },
          "metadata": {},
          "execution_count": 8
        }
      ]
    },
    {
      "cell_type": "code",
      "source": [],
      "metadata": {
        "id": "cVNt6oj6RJ-N"
      },
      "execution_count": null,
      "outputs": []
    }
  ]
}