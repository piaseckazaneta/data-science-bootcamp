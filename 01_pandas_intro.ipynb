{
  "nbformat": 4,
  "nbformat_minor": 0,
  "metadata": {
    "colab": {
      "provenance": [],
      "authorship_tag": "ABX9TyMrbdYPKp5CQla7BEKRUXxt",
      "include_colab_link": true
    },
    "kernelspec": {
      "name": "python3",
      "display_name": "Python 3"
    },
    "language_info": {
      "name": "python"
    }
  },
  "cells": [
    {
      "cell_type": "markdown",
      "metadata": {
        "id": "view-in-github",
        "colab_type": "text"
      },
      "source": [
        "<a href=\"https://colab.research.google.com/github/piaseckazaneta/data-science-bootcamp/blob/main/01_pandas_intro.ipynb\" target=\"_parent\"><img src=\"https://colab.research.google.com/assets/colab-badge.svg\" alt=\"Open In Colab\"/></a>"
      ]
    },
    {
      "cell_type": "code",
      "execution_count": null,
      "metadata": {
        "id": "zlTJbYASfEv_"
      },
      "outputs": [],
      "source": [
        "# Podstawowe struktury danych: pd.Series i pd.DataFrame"
      ]
    },
    {
      "cell_type": "code",
      "source": [
        "import pandas as pd\n",
        "pd.__version__"
      ],
      "metadata": {
        "colab": {
          "base_uri": "https://localhost:8080/",
          "height": 35
        },
        "id": "hdQc5rmqfLh4",
        "outputId": "6c47b5c1-1c75-43a9-d037-472eed7c0e94"
      },
      "execution_count": null,
      "outputs": [
        {
          "output_type": "execute_result",
          "data": {
            "text/plain": [
              "'2.0.3'"
            ],
            "application/vnd.google.colaboratory.intrinsic+json": {
              "type": "string"
            }
          },
          "metadata": {},
          "execution_count": 1
        }
      ]
    },
    {
      "cell_type": "code",
      "source": [],
      "metadata": {
        "id": "S533vlurDWWK"
      },
      "execution_count": null,
      "outputs": []
    },
    {
      "cell_type": "code",
      "source": [],
      "metadata": {
        "id": "aX9qpCvXDZcP"
      },
      "execution_count": null,
      "outputs": []
    },
    {
      "cell_type": "markdown",
      "source": [
        "pd.Series"
      ],
      "metadata": {
        "id": "aS-ZRETUfuyN"
      }
    },
    {
      "cell_type": "code",
      "source": [
        "s = pd.Series(data = [3, 2, 4, 6])\n",
        "s"
      ],
      "metadata": {
        "colab": {
          "base_uri": "https://localhost:8080/"
        },
        "id": "1Jvd9DGkfwgC",
        "outputId": "c7b83068-817a-4240-fc06-08a0d1039055"
      },
      "execution_count": null,
      "outputs": [
        {
          "output_type": "execute_result",
          "data": {
            "text/plain": [
              "0    3\n",
              "1    2\n",
              "2    4\n",
              "3    6\n",
              "dtype: int64"
            ]
          },
          "metadata": {},
          "execution_count": 4
        }
      ]
    },
    {
      "cell_type": "code",
      "source": [
        "# Po wyświetleniu widać, że do każego elementu listy mamy dodany indeks, zaczynający się od 0"
      ],
      "metadata": {
        "id": "snT8YjHuf50B"
      },
      "execution_count": null,
      "outputs": []
    },
    {
      "cell_type": "code",
      "source": [
        "# Można indeksy zdefiniować samemu oraz dodać nazwę obiektu, np:"
      ],
      "metadata": {
        "id": "qBDx-SwygNvr"
      },
      "execution_count": null,
      "outputs": []
    },
    {
      "cell_type": "code",
      "source": [
        "s = pd.Series(data = [3, 2, 4, 6], index = ['a', 'b', 'c', 'd'], name = 'sample')\n",
        "s"
      ],
      "metadata": {
        "colab": {
          "base_uri": "https://localhost:8080/"
        },
        "id": "mmsesTgNgZqf",
        "outputId": "2b34f090-e259-44bd-e471-3a6b248fcdd3"
      },
      "execution_count": null,
      "outputs": [
        {
          "output_type": "execute_result",
          "data": {
            "text/plain": [
              "a    3\n",
              "b    2\n",
              "c    4\n",
              "d    6\n",
              "Name: sample, dtype: int64"
            ]
          },
          "metadata": {},
          "execution_count": 8
        }
      ]
    },
    {
      "cell_type": "code",
      "source": [],
      "metadata": {
        "id": "u0Pa_o7Wgfmb"
      },
      "execution_count": null,
      "outputs": []
    },
    {
      "cell_type": "markdown",
      "source": [
        "Wstawianie braków danych - skorzystamy z biblioteki numpy, żeby wstawić NAN"
      ],
      "metadata": {
        "id": "8xFllLOChFp4"
      }
    },
    {
      "cell_type": "code",
      "source": [
        "import numpy as np"
      ],
      "metadata": {
        "id": "pVuoxD1ohJhm"
      },
      "execution_count": null,
      "outputs": []
    },
    {
      "cell_type": "code",
      "source": [
        "s = pd.Series(data = [3, np.nan, 4, 6], index = ['a', 'b', 'c', 'd'], name = 'sample')\n",
        "s"
      ],
      "metadata": {
        "colab": {
          "base_uri": "https://localhost:8080/"
        },
        "id": "y2y-VoEFhMNV",
        "outputId": "f642cc09-e303-4072-8b9b-1d212622857d"
      },
      "execution_count": null,
      "outputs": [
        {
          "output_type": "execute_result",
          "data": {
            "text/plain": [
              "a    3.0\n",
              "b    NaN\n",
              "c    4.0\n",
              "d    6.0\n",
              "Name: sample, dtype: float64"
            ]
          },
          "metadata": {},
          "execution_count": 10
        }
      ]
    },
    {
      "cell_type": "code",
      "source": [
        "# !!!! Warto zauważyć, że w przypadku, gdy brakuje nam danych warto wstawić NAN (a nie dowolną wartość np. 0), bo wtedy ta wartość (NaN) nie jest brana pod uwagę do obliczeń"
      ],
      "metadata": {
        "id": "aJpg06ZWhYbz"
      },
      "execution_count": null,
      "outputs": []
    },
    {
      "cell_type": "code",
      "source": [
        "# Series z wartościami logicznymi\n",
        "s = pd.Series(data = [True, False, False])\n",
        "s"
      ],
      "metadata": {
        "colab": {
          "base_uri": "https://localhost:8080/"
        },
        "id": "GiOPE41vh1R_",
        "outputId": "05081211-9d02-4bbe-e355-97caa72f030e"
      },
      "execution_count": null,
      "outputs": [
        {
          "output_type": "execute_result",
          "data": {
            "text/plain": [
              "0     True\n",
              "1    False\n",
              "2    False\n",
              "dtype: bool"
            ]
          },
          "metadata": {},
          "execution_count": 14
        }
      ]
    },
    {
      "cell_type": "code",
      "source": [
        "# Obiekt Series, który będzie miał za indeks DATY"
      ],
      "metadata": {
        "id": "q34b6qnIiBFo"
      },
      "execution_count": null,
      "outputs": []
    },
    {
      "cell_type": "code",
      "source": [
        "s = pd.Series(data = np.arange(10,20), index=(pd.date_range(start='20200101', periods=10)))\n",
        "s"
      ],
      "metadata": {
        "colab": {
          "base_uri": "https://localhost:8080/"
        },
        "id": "Ok0QHoQPiLDR",
        "outputId": "1b349abe-0657-456e-da4d-5c4a31ad8708"
      },
      "execution_count": null,
      "outputs": [
        {
          "output_type": "execute_result",
          "data": {
            "text/plain": [
              "2020-01-01    10\n",
              "2020-01-02    11\n",
              "2020-01-03    12\n",
              "2020-01-04    13\n",
              "2020-01-05    14\n",
              "2020-01-06    15\n",
              "2020-01-07    16\n",
              "2020-01-08    17\n",
              "2020-01-09    18\n",
              "2020-01-10    19\n",
              "Freq: D, dtype: int64"
            ]
          },
          "metadata": {},
          "execution_count": 5
        }
      ]
    },
    {
      "cell_type": "code",
      "source": [
        "# Freq: D - częstotliwość D (dzień) - wstawiliśmy perdiods 10"
      ],
      "metadata": {
        "id": "X8Nul_0_ivQZ"
      },
      "execution_count": null,
      "outputs": []
    },
    {
      "cell_type": "code",
      "source": [
        "s.index # wyświetlenie indeksów daszych obiektów"
      ],
      "metadata": {
        "id": "Qs0lELEfDbBF",
        "outputId": "8117777a-60ee-40ae-b0c8-018b4cf861cc",
        "colab": {
          "base_uri": "https://localhost:8080/"
        }
      },
      "execution_count": null,
      "outputs": [
        {
          "output_type": "execute_result",
          "data": {
            "text/plain": [
              "DatetimeIndex(['2020-01-01', '2020-01-02', '2020-01-03', '2020-01-04',\n",
              "               '2020-01-05', '2020-01-06', '2020-01-07', '2020-01-08',\n",
              "               '2020-01-09', '2020-01-10'],\n",
              "              dtype='datetime64[ns]', freq='D')"
            ]
          },
          "metadata": {},
          "execution_count": 8
        }
      ]
    },
    {
      "cell_type": "code",
      "source": [
        "list(s.index) # wyświetlenie indeksów jako listy (konwersja na listę)"
      ],
      "metadata": {
        "id": "LlGu41t1DcSf",
        "outputId": "1a4c659f-1473-4cfb-f498-46148b4d6989",
        "colab": {
          "base_uri": "https://localhost:8080/"
        }
      },
      "execution_count": null,
      "outputs": [
        {
          "output_type": "execute_result",
          "data": {
            "text/plain": [
              "[Timestamp('2020-01-01 00:00:00'),\n",
              " Timestamp('2020-01-02 00:00:00'),\n",
              " Timestamp('2020-01-03 00:00:00'),\n",
              " Timestamp('2020-01-04 00:00:00'),\n",
              " Timestamp('2020-01-05 00:00:00'),\n",
              " Timestamp('2020-01-06 00:00:00'),\n",
              " Timestamp('2020-01-07 00:00:00'),\n",
              " Timestamp('2020-01-08 00:00:00'),\n",
              " Timestamp('2020-01-09 00:00:00'),\n",
              " Timestamp('2020-01-10 00:00:00')]"
            ]
          },
          "metadata": {},
          "execution_count": 9
        }
      ]
    },
    {
      "cell_type": "code",
      "source": [
        "s.values # wyświetlanie wartości obiektów"
      ],
      "metadata": {
        "id": "hTI9plssDl7C",
        "outputId": "8cb9a1c3-8df1-4cdb-9215-590a528530e6",
        "colab": {
          "base_uri": "https://localhost:8080/"
        }
      },
      "execution_count": null,
      "outputs": [
        {
          "output_type": "execute_result",
          "data": {
            "text/plain": [
              "array([10, 11, 12, 13, 14, 15, 16, 17, 18, 19])"
            ]
          },
          "metadata": {},
          "execution_count": 11
        }
      ]
    },
    {
      "cell_type": "code",
      "source": [
        "# W Series mamy utworzony słownik ze spółkami i cenami w dolarach za akcję\n",
        "price = pd.Series(data = {'Apple':200, 'CD Projekt': 60, 'Amazon': 1900}) # Series ze słownikiem\n",
        "price"
      ],
      "metadata": {
        "id": "FWim4IixEDgy",
        "outputId": "7fb4c7a8-bd11-488b-e236-d563127fcd03",
        "colab": {
          "base_uri": "https://localhost:8080/"
        }
      },
      "execution_count": 16,
      "outputs": [
        {
          "output_type": "execute_result",
          "data": {
            "text/plain": [
              "Apple          200\n",
              "CD Projekt      60\n",
              "Amazon        1900\n",
              "dtype: int64"
            ]
          },
          "metadata": {},
          "execution_count": 16
        }
      ]
    },
    {
      "cell_type": "code",
      "source": [
        "# Chcemy dostać cenę notować spółki CD Projekt\n",
        "price['CD Projekt']"
      ],
      "metadata": {
        "id": "76_2inZkEuor",
        "outputId": "fbf00bd5-cb3c-4537-f2c9-fbdcfeeb9a08",
        "colab": {
          "base_uri": "https://localhost:8080/"
        }
      },
      "execution_count": 19,
      "outputs": [
        {
          "output_type": "execute_result",
          "data": {
            "text/plain": [
              "60"
            ]
          },
          "metadata": {},
          "execution_count": 19
        }
      ]
    },
    {
      "cell_type": "code",
      "source": [
        "price[1] #można też podać nr indeksu, jeśli jesteśmy w stanie wskazać"
      ],
      "metadata": {
        "id": "IRgPzzO5FOBn",
        "outputId": "83409377-1543-4402-8b3d-78a6f8cbe663",
        "colab": {
          "base_uri": "https://localhost:8080/"
        }
      },
      "execution_count": 20,
      "outputs": [
        {
          "output_type": "execute_result",
          "data": {
            "text/plain": [
              "60"
            ]
          },
          "metadata": {},
          "execution_count": 20
        }
      ]
    },
    {
      "cell_type": "code",
      "source": [
        "price.count() #funckja count zlicza, ile mamy elementów w obiekcie Series"
      ],
      "metadata": {
        "id": "ooyrVeP4FnuG",
        "outputId": "07a09fdb-af3b-4073-b6ba-eb87fdb2f6b8",
        "colab": {
          "base_uri": "https://localhost:8080/"
        }
      },
      "execution_count": 23,
      "outputs": [
        {
          "output_type": "execute_result",
          "data": {
            "text/plain": [
              "3"
            ]
          },
          "metadata": {},
          "execution_count": 23
        }
      ]
    },
    {
      "cell_type": "code",
      "source": [
        "price.value_counts() #bardzo użyteczna funkcja, potrafi znaleźć rozkład naszych danych / ile razy występuje jakaś wartość / np. do budowania histogramu"
      ],
      "metadata": {
        "id": "qUYOlu7dF00L",
        "outputId": "0387bd44-1730-4d99-b9b6-669f592caec4",
        "colab": {
          "base_uri": "https://localhost:8080/"
        }
      },
      "execution_count": 25,
      "outputs": [
        {
          "output_type": "execute_result",
          "data": {
            "text/plain": [
              "200     1\n",
              "60      1\n",
              "1900    1\n",
              "Name: count, dtype: int64"
            ]
          },
          "metadata": {},
          "execution_count": 25
        }
      ]
    },
    {
      "cell_type": "code",
      "source": [
        "price.sum() #sumuje wartości"
      ],
      "metadata": {
        "id": "WouLZUzfGKaj",
        "outputId": "433bb499-4ccd-426b-e503-ad0c4a2bd2b7",
        "colab": {
          "base_uri": "https://localhost:8080/"
        }
      },
      "execution_count": 26,
      "outputs": [
        {
          "output_type": "execute_result",
          "data": {
            "text/plain": [
              "2160"
            ]
          },
          "metadata": {},
          "execution_count": 26
        }
      ]
    },
    {
      "cell_type": "code",
      "source": [
        "price.min()"
      ],
      "metadata": {
        "id": "ozxBjSCRGPlR",
        "outputId": "55566c69-de90-425d-b747-2956deb0574c",
        "colab": {
          "base_uri": "https://localhost:8080/"
        }
      },
      "execution_count": 27,
      "outputs": [
        {
          "output_type": "execute_result",
          "data": {
            "text/plain": [
              "60"
            ]
          },
          "metadata": {},
          "execution_count": 27
        }
      ]
    },
    {
      "cell_type": "code",
      "source": [
        "price.max()"
      ],
      "metadata": {
        "id": "qMk7MGkBGR9e",
        "outputId": "2cecfd5f-ff8a-4844-bc36-a3718e893c19",
        "colab": {
          "base_uri": "https://localhost:8080/"
        }
      },
      "execution_count": 28,
      "outputs": [
        {
          "output_type": "execute_result",
          "data": {
            "text/plain": [
              "1900"
            ]
          },
          "metadata": {},
          "execution_count": 28
        }
      ]
    },
    {
      "cell_type": "code",
      "source": [
        "price.describe() #funkcja pokazuje statystyki zbiorczo"
      ],
      "metadata": {
        "id": "G3A6ZtCgGTch",
        "outputId": "b4f0493b-dcaf-4217-a223-0d3f601620a8",
        "colab": {
          "base_uri": "https://localhost:8080/"
        }
      },
      "execution_count": 30,
      "outputs": [
        {
          "output_type": "execute_result",
          "data": {
            "text/plain": [
              "count       3.000000\n",
              "mean      720.000000\n",
              "std      1024.304642\n",
              "min        60.000000\n",
              "25%       130.000000\n",
              "50%       200.000000\n",
              "75%      1050.000000\n",
              "max      1900.000000\n",
              "dtype: float64"
            ]
          },
          "metadata": {},
          "execution_count": 30
        }
      ]
    },
    {
      "cell_type": "code",
      "source": [
        "# Co jeśli mamy braki w danych?\n",
        "# Przykład\n",
        "price = pd.Series(data = {'Apple':200, 'CD Projekt': 60, 'Amazon': 1900, 'KGHM': np.nan}) # Series ze słownikiem\n",
        "price\n"
      ],
      "metadata": {
        "id": "r6qtAf4WGYnG",
        "outputId": "19c148a0-63c7-44cb-b5b4-2dfafbf7c13f",
        "colab": {
          "base_uri": "https://localhost:8080/"
        }
      },
      "execution_count": 31,
      "outputs": [
        {
          "output_type": "execute_result",
          "data": {
            "text/plain": [
              "Apple          200.0\n",
              "CD Projekt      60.0\n",
              "Amazon        1900.0\n",
              "KGHM             NaN\n",
              "dtype: float64"
            ]
          },
          "metadata": {},
          "execution_count": 31
        }
      ]
    },
    {
      "cell_type": "code",
      "source": [
        "price.count() #funckja count zliczy nam tylko dane, które są / nie zliczy NAN - braków danych"
      ],
      "metadata": {
        "id": "mmkpRerxGzDR",
        "outputId": "112b530b-5bb0-4cb8-b757-4a9a1eec5dbf",
        "colab": {
          "base_uri": "https://localhost:8080/"
        }
      },
      "execution_count": 32,
      "outputs": [
        {
          "output_type": "execute_result",
          "data": {
            "text/plain": [
              "3"
            ]
          },
          "metadata": {},
          "execution_count": 32
        }
      ]
    },
    {
      "cell_type": "code",
      "source": [
        "price.value_counts(dropna=False) # ustawienie dropna=False spowoduje, że będziemy mieli zliczone NAN i dowiemy się, ile jest elementów z brakim danych"
      ],
      "metadata": {
        "id": "qOsBQ3NbG5f9",
        "outputId": "1cc3216a-3d73-4c5a-bc42-e8280c430643",
        "colab": {
          "base_uri": "https://localhost:8080/"
        }
      },
      "execution_count": 33,
      "outputs": [
        {
          "output_type": "execute_result",
          "data": {
            "text/plain": [
              "200.0     1\n",
              "60.0      1\n",
              "1900.0    1\n",
              "NaN       1\n",
              "Name: count, dtype: int64"
            ]
          },
          "metadata": {},
          "execution_count": 33
        }
      ]
    },
    {
      "cell_type": "code",
      "source": [
        "price.nlargest(2) #wybierzmy 2 najdroższe spółki / domyślnie nie zwraca NAN"
      ],
      "metadata": {
        "id": "78yn0cnAHacD",
        "outputId": "89685bf0-5141-4f13-ef67-dad44c56158b",
        "colab": {
          "base_uri": "https://localhost:8080/"
        }
      },
      "execution_count": 36,
      "outputs": [
        {
          "output_type": "execute_result",
          "data": {
            "text/plain": [
              "Amazon    1900.0\n",
              "Apple      200.0\n",
              "dtype: float64"
            ]
          },
          "metadata": {},
          "execution_count": 36
        }
      ]
    },
    {
      "cell_type": "code",
      "source": [
        "price.nsmallest(2) #wybierzmy 2 najtańsze spółki / domyślnie nie zwraca NAN"
      ],
      "metadata": {
        "id": "_CDxjN_oHt9I",
        "outputId": "8aa2da8a-686d-4bb8-f6a5-c84cc5e0fc7f",
        "colab": {
          "base_uri": "https://localhost:8080/"
        }
      },
      "execution_count": 35,
      "outputs": [
        {
          "output_type": "execute_result",
          "data": {
            "text/plain": [
              "CD Projekt     60.0\n",
              "Apple         200.0\n",
              "dtype: float64"
            ]
          },
          "metadata": {},
          "execution_count": 35
        }
      ]
    },
    {
      "cell_type": "code",
      "source": [
        "price.rank() #pozwala uporządkować wartości w rankingu"
      ],
      "metadata": {
        "id": "LSoJEy9OHy6c",
        "outputId": "e04dae51-4257-460e-94a3-36ec9b824248",
        "colab": {
          "base_uri": "https://localhost:8080/"
        }
      },
      "execution_count": 37,
      "outputs": [
        {
          "output_type": "execute_result",
          "data": {
            "text/plain": [
              "Apple         2.0\n",
              "CD Projekt    1.0\n",
              "Amazon        3.0\n",
              "KGHM          NaN\n",
              "dtype: float64"
            ]
          },
          "metadata": {},
          "execution_count": 37
        }
      ]
    },
    {
      "cell_type": "code",
      "source": [
        "price.sort_values() #sortuje wartości - domyśłnie od najniższj do najwyzszej"
      ],
      "metadata": {
        "id": "sxP8okOKH_9t",
        "outputId": "499f0af1-12e1-479b-88f5-5e9070bf736d",
        "colab": {
          "base_uri": "https://localhost:8080/"
        }
      },
      "execution_count": 39,
      "outputs": [
        {
          "output_type": "execute_result",
          "data": {
            "text/plain": [
              "CD Projekt      60.0\n",
              "Apple          200.0\n",
              "Amazon        1900.0\n",
              "KGHM             NaN\n",
              "dtype: float64"
            ]
          },
          "metadata": {},
          "execution_count": 39
        }
      ]
    },
    {
      "cell_type": "code",
      "source": [],
      "metadata": {
        "id": "9SoO20OHIIJp"
      },
      "execution_count": null,
      "outputs": []
    }
  ]
}