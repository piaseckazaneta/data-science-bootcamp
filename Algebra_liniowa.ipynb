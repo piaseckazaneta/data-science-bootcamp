{
  "nbformat": 4,
  "nbformat_minor": 0,
  "metadata": {
    "colab": {
      "provenance": [],
      "authorship_tag": "ABX9TyMnymjBNGbgdmeTNs+jCYvl",
      "include_colab_link": true
    },
    "kernelspec": {
      "name": "python3",
      "display_name": "Python 3"
    },
    "language_info": {
      "name": "python"
    }
  },
  "cells": [
    {
      "cell_type": "markdown",
      "metadata": {
        "id": "view-in-github",
        "colab_type": "text"
      },
      "source": [
        "<a href=\"https://colab.research.google.com/github/piaseckazaneta/data-science-bootcamp/blob/main/Algebra_liniowa.ipynb\" target=\"_parent\"><img src=\"https://colab.research.google.com/assets/colab-badge.svg\" alt=\"Open In Colab\"/></a>"
      ]
    },
    {
      "cell_type": "code",
      "execution_count": 2,
      "metadata": {
        "id": "CBs9OpP_ixU0"
      },
      "outputs": [],
      "source": [
        "import numpy as np"
      ]
    },
    {
      "cell_type": "markdown",
      "source": [
        "Norma wektora jest uogólnieniem pojęcia długości wektora"
      ],
      "metadata": {
        "id": "RXz5ONBY5xvx"
      }
    },
    {
      "cell_type": "code",
      "source": [
        "v1 = np.array([-1, 4]) #zdefiniowany wektor, w nawiasie współrzędne wektora\n",
        "v1"
      ],
      "metadata": {
        "colab": {
          "base_uri": "https://localhost:8080/"
        },
        "id": "ghzketHK4m79",
        "outputId": "bc2627d9-9a9e-48be-c80b-103c77ea2764"
      },
      "execution_count": null,
      "outputs": [
        {
          "output_type": "execute_result",
          "data": {
            "text/plain": [
              "array([-1,  4])"
            ]
          },
          "metadata": {},
          "execution_count": 8
        }
      ]
    },
    {
      "cell_type": "code",
      "source": [
        "np.linalg.norm(v1) # liczenie normy wektorowej w przestrzeni R2"
      ],
      "metadata": {
        "colab": {
          "base_uri": "https://localhost:8080/"
        },
        "id": "eNURjfsc4v8X",
        "outputId": "5d5f295d-333a-4a4e-a0cc-453d17733a55"
      },
      "execution_count": null,
      "outputs": [
        {
          "output_type": "execute_result",
          "data": {
            "text/plain": [
              "4.123105625617661"
            ]
          },
          "metadata": {},
          "execution_count": 7
        }
      ]
    },
    {
      "cell_type": "markdown",
      "source": [],
      "metadata": {
        "id": "y9SRmkVS5oNb"
      }
    },
    {
      "cell_type": "markdown",
      "source": [
        "Liczenie długości wektora w przestrzeni Rn"
      ],
      "metadata": {
        "id": "ysmPSr5_6dfn"
      }
    },
    {
      "cell_type": "code",
      "source": [
        "v2 = np.array([-10, 10, 13]) #liczenie długości wektra w przestrzeni R3\n",
        "np.linalg.norm(v2)"
      ],
      "metadata": {
        "colab": {
          "base_uri": "https://localhost:8080/"
        },
        "id": "P5mP4M_55HAH",
        "outputId": "209788a6-5d32-44ec-d0d0-04b2c83cd6ac"
      },
      "execution_count": null,
      "outputs": [
        {
          "output_type": "execute_result",
          "data": {
            "text/plain": [
              "19.209372712298546"
            ]
          },
          "metadata": {},
          "execution_count": 12
        }
      ]
    },
    {
      "cell_type": "markdown",
      "source": [
        "Odległość dwóch punktów na płąszczyźnie"
      ],
      "metadata": {
        "id": "6P1DebG37F00"
      }
    },
    {
      "cell_type": "code",
      "source": [
        "p = np.array([3, 0])\n",
        "q = np.array([0, 4])"
      ],
      "metadata": {
        "id": "pMOuJc1r7IoX"
      },
      "execution_count": null,
      "outputs": []
    },
    {
      "cell_type": "code",
      "source": [
        "np.linalg.norm(p - q)"
      ],
      "metadata": {
        "colab": {
          "base_uri": "https://localhost:8080/"
        },
        "id": "aIbRQknC7T-n",
        "outputId": "09493a2b-f2c3-4ed5-c613-774dd16efcda"
      },
      "execution_count": null,
      "outputs": [
        {
          "output_type": "execute_result",
          "data": {
            "text/plain": [
              "5.0990195135927845"
            ]
          },
          "metadata": {},
          "execution_count": 16
        }
      ]
    },
    {
      "cell_type": "markdown",
      "source": [
        "Odległość dwóch punktów w przestrzeni Rn"
      ],
      "metadata": {
        "id": "lKUPRRqy7qyo"
      }
    },
    {
      "cell_type": "code",
      "source": [
        "p = np.array([3, 0, 1])\n",
        "q = np.array([0, 4, 2])\n"
      ],
      "metadata": {
        "id": "HZoGSQsX7ock"
      },
      "execution_count": null,
      "outputs": []
    },
    {
      "cell_type": "markdown",
      "source": [
        "Mnożenie macierzy - aby pomnożyć dwie macierze, liczba kolumn z pierwszej macierzy musi być równa liczbie wierwszy w drugiej macierzy"
      ],
      "metadata": {
        "id": "mjFdWrM582aI"
      }
    },
    {
      "cell_type": "code",
      "source": [
        "x = np.array([[5, 3], [3, 9]])\n",
        "y = np.array([[1], [-1]])\n",
        "print(x)\n",
        "print(y)"
      ],
      "metadata": {
        "colab": {
          "base_uri": "https://localhost:8080/"
        },
        "id": "0ADEb6CU8BY9",
        "outputId": "125df4dc-92e7-408b-af26-0b1b7effd1a5"
      },
      "execution_count": null,
      "outputs": [
        {
          "output_type": "stream",
          "name": "stdout",
          "text": [
            "[[5 3]\n",
            " [3 9]]\n",
            "[[ 1]\n",
            " [-1]]\n"
          ]
        }
      ]
    },
    {
      "cell_type": "code",
      "source": [
        "Z = np.dot(x, y) # mnożenie macierzy\n",
        "Z"
      ],
      "metadata": {
        "colab": {
          "base_uri": "https://localhost:8080/"
        },
        "id": "OXPdfzSq9TdP",
        "outputId": "424a84cf-45c7-4990-81cf-17e151baf988"
      },
      "execution_count": null,
      "outputs": [
        {
          "output_type": "execute_result",
          "data": {
            "text/plain": [
              "array([[ 2],\n",
              "       [-6]])"
            ]
          },
          "metadata": {},
          "execution_count": 21
        }
      ]
    },
    {
      "cell_type": "markdown",
      "source": [
        "Rozwiązywanie układów równań AX = B"
      ],
      "metadata": {
        "id": "XEGs6eoFMgZ5"
      }
    },
    {
      "cell_type": "code",
      "source": [],
      "metadata": {
        "id": "v6K_RyNcMkVR"
      },
      "execution_count": null,
      "outputs": []
    },
    {
      "cell_type": "markdown",
      "source": [
        "Układ równań:\n",
        "2x + 4y = 10\n",
        "x - y = -1\n",
        "\n",
        "Rozwiązanie:\n",
        "x = 1\n",
        "y = 2"
      ],
      "metadata": {
        "id": "lWUJkEvdNqca"
      }
    },
    {
      "cell_type": "code",
      "source": [
        "# Macierz współczynników\n",
        "A = np.array([[2, 4], [1, -1]])\n",
        "print(A)"
      ],
      "metadata": {
        "colab": {
          "base_uri": "https://localhost:8080/"
        },
        "id": "eutbXDvuN0lc",
        "outputId": "2b40c803-d9a8-4404-9ed8-9bb7fc2e40d7"
      },
      "execution_count": 4,
      "outputs": [
        {
          "output_type": "stream",
          "name": "stdout",
          "text": [
            "[[ 2  4]\n",
            " [ 1 -1]]\n"
          ]
        }
      ]
    },
    {
      "cell_type": "code",
      "source": [
        "# Macierz wyrazów wolnych\n",
        "B = np.array([[10], [-1]])\n",
        "print(B)"
      ],
      "metadata": {
        "colab": {
          "base_uri": "https://localhost:8080/"
        },
        "id": "bW4b5LW6PwYe",
        "outputId": "15f8cdf1-99c4-4b7e-fd14-f49398a1ebda"
      },
      "execution_count": 6,
      "outputs": [
        {
          "output_type": "stream",
          "name": "stdout",
          "text": [
            "[[10]\n",
            " [-1]]\n"
          ]
        }
      ]
    },
    {
      "cell_type": "code",
      "source": [
        "# Macierz odwrotna do macierzy A (A-1)\n",
        "A_inv = np.linalg.inv(A)"
      ],
      "metadata": {
        "id": "yEh4wX4YQPMp"
      },
      "execution_count": 7,
      "outputs": []
    },
    {
      "cell_type": "code",
      "source": [
        "# Mnożenie ( X= A-1 * B)\n",
        "X = np.dot(A_inv, B)\n",
        "print(X)\n"
      ],
      "metadata": {
        "colab": {
          "base_uri": "https://localhost:8080/"
        },
        "id": "RnBcZSc_Rbe8",
        "outputId": "3f1a9928-771d-478c-a934-86ffcd8a80e4"
      },
      "execution_count": 9,
      "outputs": [
        {
          "output_type": "stream",
          "name": "stdout",
          "text": [
            "[[1.]\n",
            " [2.]]\n"
          ]
        }
      ]
    },
    {
      "cell_type": "code",
      "source": [],
      "metadata": {
        "id": "URfgLILjRo2v"
      },
      "execution_count": null,
      "outputs": []
    }
  ]
}